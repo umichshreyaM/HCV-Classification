{
 "cells": [
  {
   "cell_type": "markdown",
   "id": "fd36d409",
   "metadata": {},
   "source": [
    "# Group 15 - Final Project: SVM\n",
    "\n",
    "Try three different kernel SVM with weights tuning & with SMOTE data"
   ]
  },
  {
   "cell_type": "code",
   "execution_count": 3,
   "id": "04de105d",
   "metadata": {},
   "outputs": [],
   "source": [
    "# packages\n",
    "library(dplyr)\n",
    "library(tidyverse)\n",
    "library(ggplot2)\n",
    "library(ggpubr)\n",
    "library(e1071)\n",
    "library(ROCR)"
   ]
  },
  {
   "cell_type": "markdown",
   "id": "e22c10f5",
   "metadata": {},
   "source": [
    "## Support Vector Machine\n",
    "\n",
    "As we did in hw, we are going to use three different kernels for support vector machine classify the level of `staging` of a subject in this analysis. They are `Linear`, `Radial`, and `Polynomial`. We will first split the whole data set into training and test data. We will use 70% of the whole data for training models.\n",
    "\n",
    "We will try three different ways:\n",
    "\n",
    "1) Weighting each class when tuning\n",
    "\n",
    "3) Using weighted SMOTE data"
   ]
  },
  {
   "cell_type": "code",
   "execution_count": 12,
   "id": "cfa66772",
   "metadata": {},
   "outputs": [],
   "source": [
    "# load data\n",
    "train_x = read.csv(\"train_x.csv\")\n",
    "train_labels = read.csv(\"train_labels.csv\") %>%\n",
    "                transmute(Category = case_when(V1 == 0 ~ \"BD\",\n",
    "                                               V1 == 1 ~ \"H\",\n",
    "                                               V1 == 2 ~ \"F\",\n",
    "                                               V1 == 3 ~ \"C\")) %>%\n",
    "                mutate(Category = as.factor(Category))\n",
    "\n",
    "test_x = read.csv(\"test_x.csv\")\n",
    "test_labels = read.csv(\"test_labels.csv\") %>% \n",
    "                    transmute(Category = case_when(V1 == 0 ~ \"BD\",\n",
    "                                                   V1 == 1 ~ \"H\",\n",
    "                                                   V1 == 2 ~ \"F\",\n",
    "                                                   V1 == 3 ~ \"C\")) %>%\n",
    "                    mutate(Category = as.factor(Category))   \n",
    "# train & test data\n",
    "train = data.frame(train_labels, train_x)\n",
    "test = data.frame(test_labels, test_x)"
   ]
  },
  {
   "cell_type": "code",
   "execution_count": 19,
   "id": "10f670bd",
   "metadata": {},
   "outputs": [
    {
     "data": {
      "text/plain": [
       "\n",
       " BD   C   F   H \n",
       "0.3 5.1 7.2 6.3 "
      ]
     },
     "metadata": {},
     "output_type": "display_data"
    }
   ],
   "source": [
    "# class weights\n",
    "round((nrow(train))/(table(train$Category)*4),1)"
   ]
  },
  {
   "cell_type": "code",
   "execution_count": 7,
   "id": "1a88463a",
   "metadata": {},
   "outputs": [],
   "source": [
    "# initial settings\n",
    "kernels <- c('linear', 'radial', 'polynomial')\n",
    "cost0 <- 10^(seq(-2, 2, 0.1))\n",
    "gamma0 <- 10^(seq(-5, 5, 0.1))\n",
    "degree0 <- c(1, 2, 3, 4, 5)\n",
    "CW <- c('BD' = 0.3, 'C' = 5.1, 'F' = 7.2, 'H' = 6.3)\n",
    "\n",
    "# vector of lists to store tuning results\n",
    "tune_result <- vector('list', 3)"
   ]
  },
  {
   "cell_type": "code",
   "execution_count": 22,
   "id": "4345695c",
   "metadata": {
    "scrolled": true
   },
   "outputs": [],
   "source": [
    "# tuning all models with different kernels\n",
    "for(i in 1:length(kernels)){\n",
    "  # reproducability\n",
    "    set.seed(0)\n",
    "    if(kernels[i] == 'linear'){\n",
    "        tune_result[[i]] = tune(svm, Category ~ ., data = train, kernel = kernels[i],\n",
    "                                scale = FALSE, range = list(cost = cost0),\n",
    "                                class.weights = CW, tunecontrol = tune.control(cross = 5))\n",
    "    }else if(kernels[i] == 'radial'){\n",
    "        tune_result[[i]] = tune(svm, Category ~ ., data = train, kernel = kernels[i],\n",
    "                                scale = FALSE, range = list(cost = cost0, gamma = gamma0),\n",
    "                                class.weights = CW, tunecontrol = tune.control(cross = 5))\n",
    "    }else{\n",
    "        tune_result[[i]] = tune(svm, Category ~ ., data = train, kernel = kernels[i],\n",
    "                                scale = FALSE, range = list(cost = cost0, degree = degree0),\n",
    "                                class.weights = CW, tunecontrol = tune.control(cross = 5))\n",
    "    }\n",
    "}"
   ]
  },
  {
   "cell_type": "markdown",
   "id": "2b7b1a5b",
   "metadata": {},
   "source": [
    "### Best models for each kernel"
   ]
  },
  {
   "cell_type": "code",
   "execution_count": null,
   "id": "706cb6f3",
   "metadata": {},
   "outputs": [],
   "source": [
    "# vector of lists to store svm results\n",
    "best.models <- vector('list', 3)\n",
    "\n",
    "for(i in 1:length(kernels)){\n",
    "    hyper = tune_result[[i]]$best.parameters\n",
    "    if(kernels[i] == 'linear'){\n",
    "        best.models[[i]] <- svm(Category ~ ., data = train, kernel = kernels[i], \n",
    "                                scale = FALSE, cost = hyper[,1], class.weights = CW)\n",
    "    }else if(kernels[i] == 'radial'){\n",
    "        best.models[[i]] <- svm(Category ~ ., data = train, kernel = kernels[i], \n",
    "                                scale = FALSE, cost = hyper[,1], gamma = hyper[,2],\n",
    "                                class.weights = CW)\n",
    "    }else{\n",
    "        best.models[[i]] <- svm(Category ~ ., data = train, kernel = kernels[i], \n",
    "                                scale = FALSE, cost = hyper[,1], degree = hyper[,2],\n",
    "                                class.weights = CW)\n",
    "    }\n",
    "}"
   ]
  },
  {
   "cell_type": "code",
   "execution_count": null,
   "id": "8e7cca13",
   "metadata": {},
   "outputs": [],
   "source": [
    "# Prediction & Confusion Matrix: Training dataset\n",
    "results <- vector('list', length(kernels))\n",
    "for(i in 1:length(kernels)){\n",
    "    # array to store results for each model\n",
    "    a <- array(list(), 2)\n",
    "    # training data\n",
    "    ## prediction\n",
    "    pred = predict(best.models[[i]], train[, -1])\n",
    "    ## confusion matrix\n",
    "    confusion = table(predict = pred, truth = train$Category)\n",
    "    ## overall error\n",
    "    overall = mean(pred == train$Category)\n",
    "    ## error for each class\n",
    "    each.class = round(diag(confusion)/table(train$Category), 2)\n",
    "    a[[1]] <- list(pred = pred, confusion = confusion, overall = overall, \n",
    "                   recall.each.class = each.class)\n",
    "    # test data\n",
    "    ## prediction\n",
    "    pred = predict(best.models[[i]], test[, -1])\n",
    "    ## confusion matrix\n",
    "    confusion = table(truth = test$Category, predict = pred)\n",
    "    ## overall error\n",
    "    accuracy = mean(pred == test$Category)\n",
    "    ## recall for each class\n",
    "    recall = round(diag(confusion)/table(test$Category), 2)\n",
    "    ## precision for each class\n",
    "    precision = round(diag(confusion)/table(pred),2)\n",
    "    a[[2]] <- list(pred = pred, confusion = confusion, accuracy = accuracy, \n",
    "                   recall = recall, precision = precision)\n",
    "    \n",
    "    # combine training & test results into 'results' list\n",
    "    results[[i]] <- a\n",
    "}"
   ]
  },
  {
   "cell_type": "markdown",
   "id": "94127cab",
   "metadata": {},
   "source": [
    "## Results for test"
   ]
  },
  {
   "cell_type": "code",
   "execution_count": 19,
   "id": "e0b51c53",
   "metadata": {},
   "outputs": [
    {
     "ename": "ERROR",
     "evalue": "Error in eval(expr, envir, enclos): object 'results' not found\n",
     "output_type": "error",
     "traceback": [
      "Error in eval(expr, envir, enclos): object 'results' not found\nTraceback:\n"
     ]
    },
    {
     "ename": "ERROR",
     "evalue": "Error in eval(expr, envir, enclos): object 'results' not found\n",
     "output_type": "error",
     "traceback": [
      "Error in eval(expr, envir, enclos): object 'results' not found\nTraceback:\n"
     ]
    },
    {
     "ename": "ERROR",
     "evalue": "Error in eval(expr, envir, enclos): object 'results' not found\n",
     "output_type": "error",
     "traceback": [
      "Error in eval(expr, envir, enclos): object 'results' not found\nTraceback:\n"
     ]
    }
   ],
   "source": [
    "results[[1]][[2]][3:4]; results[[2]][[2]][3:4]; results[[3]][[2]][3:4]"
   ]
  },
  {
   "cell_type": "markdown",
   "id": "2ef76b2f",
   "metadata": {},
   "source": [
    "# Weighted SMOTE "
   ]
  },
  {
   "cell_type": "code",
   "execution_count": 4,
   "id": "63c26beb",
   "metadata": {},
   "outputs": [
    {
     "data": {
      "text/html": [
       "<table class=\"dataframe\">\n",
       "<caption>A data.frame: 6 × 12</caption>\n",
       "<thead>\n",
       "\t<tr><th></th><th scope=col>Age</th><th scope=col>Sex</th><th scope=col>ALB</th><th scope=col>ALP</th><th scope=col>ALT</th><th scope=col>AST</th><th scope=col>BIL</th><th scope=col>CHE</th><th scope=col>CHOL</th><th scope=col>CREA</th><th scope=col>GGT</th><th scope=col>PROT</th></tr>\n",
       "\t<tr><th></th><th scope=col>&lt;int&gt;</th><th scope=col>&lt;int&gt;</th><th scope=col>&lt;dbl&gt;</th><th scope=col>&lt;dbl&gt;</th><th scope=col>&lt;dbl&gt;</th><th scope=col>&lt;dbl&gt;</th><th scope=col>&lt;dbl&gt;</th><th scope=col>&lt;dbl&gt;</th><th scope=col>&lt;dbl&gt;</th><th scope=col>&lt;dbl&gt;</th><th scope=col>&lt;dbl&gt;</th><th scope=col>&lt;dbl&gt;</th></tr>\n",
       "</thead>\n",
       "<tbody>\n",
       "\t<tr><th scope=row>1</th><td>32</td><td>0</td><td>38.5</td><td>70.3</td><td>18.0</td><td>24.7</td><td> 3.9</td><td>11.17</td><td>4.80</td><td> 74</td><td>15.6</td><td>76.5</td></tr>\n",
       "\t<tr><th scope=row>2</th><td>32</td><td>0</td><td>46.9</td><td>74.7</td><td>36.2</td><td>52.6</td><td> 6.1</td><td> 8.84</td><td>5.20</td><td> 86</td><td>33.2</td><td>79.3</td></tr>\n",
       "\t<tr><th scope=row>3</th><td>32</td><td>0</td><td>43.2</td><td>52.0</td><td>30.6</td><td>22.6</td><td>18.9</td><td> 7.33</td><td>4.74</td><td> 80</td><td>33.8</td><td>75.7</td></tr>\n",
       "\t<tr><th scope=row>4</th><td>32</td><td>0</td><td>42.2</td><td>41.9</td><td>35.8</td><td>31.1</td><td>16.1</td><td> 5.82</td><td>4.60</td><td>109</td><td>21.5</td><td>67.1</td></tr>\n",
       "\t<tr><th scope=row>5</th><td>32</td><td>0</td><td>44.3</td><td>52.3</td><td>21.7</td><td>22.4</td><td>17.2</td><td> 4.15</td><td>3.57</td><td> 78</td><td>24.1</td><td>75.4</td></tr>\n",
       "\t<tr><th scope=row>6</th><td>33</td><td>0</td><td>36.3</td><td>78.6</td><td>23.6</td><td>22.0</td><td> 7.0</td><td> 8.56</td><td>5.38</td><td> 78</td><td>19.4</td><td>68.7</td></tr>\n",
       "</tbody>\n",
       "</table>\n"
      ],
      "text/latex": [
       "A data.frame: 6 × 12\n",
       "\\begin{tabular}{r|llllllllllll}\n",
       "  & Age & Sex & ALB & ALP & ALT & AST & BIL & CHE & CHOL & CREA & GGT & PROT\\\\\n",
       "  & <int> & <int> & <dbl> & <dbl> & <dbl> & <dbl> & <dbl> & <dbl> & <dbl> & <dbl> & <dbl> & <dbl>\\\\\n",
       "\\hline\n",
       "\t1 & 32 & 0 & 38.5 & 70.3 & 18.0 & 24.7 &  3.9 & 11.17 & 4.80 &  74 & 15.6 & 76.5\\\\\n",
       "\t2 & 32 & 0 & 46.9 & 74.7 & 36.2 & 52.6 &  6.1 &  8.84 & 5.20 &  86 & 33.2 & 79.3\\\\\n",
       "\t3 & 32 & 0 & 43.2 & 52.0 & 30.6 & 22.6 & 18.9 &  7.33 & 4.74 &  80 & 33.8 & 75.7\\\\\n",
       "\t4 & 32 & 0 & 42.2 & 41.9 & 35.8 & 31.1 & 16.1 &  5.82 & 4.60 & 109 & 21.5 & 67.1\\\\\n",
       "\t5 & 32 & 0 & 44.3 & 52.3 & 21.7 & 22.4 & 17.2 &  4.15 & 3.57 &  78 & 24.1 & 75.4\\\\\n",
       "\t6 & 33 & 0 & 36.3 & 78.6 & 23.6 & 22.0 &  7.0 &  8.56 & 5.38 &  78 & 19.4 & 68.7\\\\\n",
       "\\end{tabular}\n"
      ],
      "text/markdown": [
       "\n",
       "A data.frame: 6 × 12\n",
       "\n",
       "| <!--/--> | Age &lt;int&gt; | Sex &lt;int&gt; | ALB &lt;dbl&gt; | ALP &lt;dbl&gt; | ALT &lt;dbl&gt; | AST &lt;dbl&gt; | BIL &lt;dbl&gt; | CHE &lt;dbl&gt; | CHOL &lt;dbl&gt; | CREA &lt;dbl&gt; | GGT &lt;dbl&gt; | PROT &lt;dbl&gt; |\n",
       "|---|---|---|---|---|---|---|---|---|---|---|---|---|\n",
       "| 1 | 32 | 0 | 38.5 | 70.3 | 18.0 | 24.7 |  3.9 | 11.17 | 4.80 |  74 | 15.6 | 76.5 |\n",
       "| 2 | 32 | 0 | 46.9 | 74.7 | 36.2 | 52.6 |  6.1 |  8.84 | 5.20 |  86 | 33.2 | 79.3 |\n",
       "| 3 | 32 | 0 | 43.2 | 52.0 | 30.6 | 22.6 | 18.9 |  7.33 | 4.74 |  80 | 33.8 | 75.7 |\n",
       "| 4 | 32 | 0 | 42.2 | 41.9 | 35.8 | 31.1 | 16.1 |  5.82 | 4.60 | 109 | 21.5 | 67.1 |\n",
       "| 5 | 32 | 0 | 44.3 | 52.3 | 21.7 | 22.4 | 17.2 |  4.15 | 3.57 |  78 | 24.1 | 75.4 |\n",
       "| 6 | 33 | 0 | 36.3 | 78.6 | 23.6 | 22.0 |  7.0 |  8.56 | 5.38 |  78 | 19.4 | 68.7 |\n",
       "\n"
      ],
      "text/plain": [
       "  Age Sex ALB  ALP  ALT  AST  BIL  CHE   CHOL CREA GGT  PROT\n",
       "1 32  0   38.5 70.3 18.0 24.7  3.9 11.17 4.80  74  15.6 76.5\n",
       "2 32  0   46.9 74.7 36.2 52.6  6.1  8.84 5.20  86  33.2 79.3\n",
       "3 32  0   43.2 52.0 30.6 22.6 18.9  7.33 4.74  80  33.8 75.7\n",
       "4 32  0   42.2 41.9 35.8 31.1 16.1  5.82 4.60 109  21.5 67.1\n",
       "5 32  0   44.3 52.3 21.7 22.4 17.2  4.15 3.57  78  24.1 75.4\n",
       "6 33  0   36.3 78.6 23.6 22.0  7.0  8.56 5.38  78  19.4 68.7"
      ]
     },
     "metadata": {},
     "output_type": "display_data"
    }
   ],
   "source": [
    "# change the file name to \"X_train_wSMOTE.csv\"\n",
    "train.x.wSMOTE = read.csv(\"X_train_wSMOTE.csv\")\n",
    "head(train.x.wSMOTE)"
   ]
  },
  {
   "cell_type": "code",
   "execution_count": 5,
   "id": "6b598f4a",
   "metadata": {},
   "outputs": [],
   "source": [
    "# train dataset : SMOTE\n",
    "train.x.wSMOTE = read.csv(\"X_train_wSMOTE.csv\")\n",
    "train.labels.wSMOTE = read.csv(\"Y_train_wSMOTE.csv\") %>% \n",
    "                        transmute(Category = case_when(V1 == 0 ~ \"BD\",\n",
    "                                                       V1 == 1 ~ \"H\",\n",
    "                                                       V1 == 2 ~ \"F\",\n",
    "                                                       V1 == 3 ~ \"C\")) %>%\n",
    "                        mutate(Category = as.factor(Category))  \n",
    "train.wSMOTE = data.frame(train.labels.wSMOTE, train.x.wSMOTE)"
   ]
  },
  {
   "cell_type": "code",
   "execution_count": 8,
   "id": "a7027bb9",
   "metadata": {},
   "outputs": [],
   "source": [
    "# vector of lists to store tuning results\n",
    "tune_result.wSMOTE <- vector('list', 3)\n",
    "\n",
    "# tuning all models with different kernels\n",
    "for(i in 1:length(kernels)){\n",
    "  # reproducability\n",
    "    set.seed(0)\n",
    "    if(kernels[i] == 'linear'){\n",
    "        tune_result.wSMOTE[[i]] = tune(svm, Category ~ ., data = train.wSMOTE, \n",
    "                                      kernel = kernels[i], scale = FALSE, \n",
    "                                      range = list(cost = cost0),\n",
    "                                      tunecontrol = tune.control(cross = 5))\n",
    "    }else if(kernels[i] == 'radial'){\n",
    "        tune_result.wSMOTE[[i]] = tune(svm, Category ~ ., data = train.wSMOTE, \n",
    "                                      kernel = kernels[i],\n",
    "                                      scale = FALSE, range = list(cost = cost0, \n",
    "                                                                  gamma = gamma0),\n",
    "                                      tunecontrol = tune.control(cross = 5))\n",
    "    }else{\n",
    "        tune_result.wSMOTE[[i]] = tune(svm, Category ~ ., data = train.wSMOTE, \n",
    "                                      kernel = kernels[i],\n",
    "                                      scale = FALSE, range = list(cost = cost0, \n",
    "                                                                  degree = degree0),\n",
    "                                      tunecontrol = tune.control(cross = 5))\n",
    "    }\n",
    "}"
   ]
  },
  {
   "cell_type": "code",
   "execution_count": 9,
   "id": "060be273",
   "metadata": {},
   "outputs": [],
   "source": [
    "# vector of lists to store svm results\n",
    "best.models.wSMOTE <- vector('list', 3)\n",
    "\n",
    "for(i in 1:length(kernels)){\n",
    "    hyper = tune_result.wSMOTE[[i]]$best.parameters\n",
    "    if(kernels[i] == 'linear'){\n",
    "        best.models.wSMOTE[[i]] <- svm(Category ~ ., data = train.wSMOTE, probability = TRUE,\n",
    "                                      kernel = kernels[i], scale = FALSE, cost = hyper[,1])\n",
    "    }else if(kernels[i] == 'radial'){\n",
    "        best.models.wSMOTE[[i]] <- svm(Category ~ ., data = train.wSMOTE, probability = TRUE,\n",
    "                                      kernel = kernels[i], scale = FALSE, \n",
    "                                      cost = hyper[,1], gamma = hyper[,2])\n",
    "    }else{\n",
    "        best.models.wSMOTE[[i]] <- svm(Category ~ ., data = train.wSMOTE, probability = TRUE,\n",
    "                                      kernel = kernels[i], scale = FALSE, \n",
    "                                      cost = hyper[,1], degree = hyper[,2])\n",
    "    }\n",
    "}"
   ]
  },
  {
   "cell_type": "code",
   "execution_count": 13,
   "id": "948a18f9",
   "metadata": {},
   "outputs": [],
   "source": [
    "# Prediction & Confusion Matrix: Training dataset\n",
    "results.wSMOTE <- vector('list', length(kernels))\n",
    "for(i in 1:length(kernels)){\n",
    "    # array to store results for each model\n",
    "    a <- array(list(), 2)\n",
    "    # training data\n",
    "    ## prediction\n",
    "    pred = predict(best.models.wSMOTE[[i]], train.wSMOTE[, -1])\n",
    "    ## confusion matrix\n",
    "    confusion = table(predict = pred, truth = train.wSMOTE$Category)\n",
    "    ## overall error\n",
    "    overall = mean(pred == train.wSMOTE$Category)\n",
    "    ## error for each class\n",
    "    each.class = round(diag(confusion)/table(train.wSMOTE$Category), 2)\n",
    "    a[[1]] <- list(pred = pred, confusion = confusion, overall = overall, \n",
    "                   recall.each.class = each.class)\n",
    "    # test data\n",
    "    ## prediction\n",
    "    pred = predict(best.models.wSMOTE[[i]], test[, -1])\n",
    "    ## confusion matrix\n",
    "    confusion = table(truth = test$Category, predict = pred)\n",
    "    ## overall error\n",
    "    accuracy = mean(pred == test$Category)\n",
    "    ## recall for each class\n",
    "    recall = round(diag(confusion)/table(test$Category), 2)\n",
    "    ## precision for each class\n",
    "    precision = round(diag(confusion)/table(pred),2)\n",
    "    ## F-1 score \n",
    "    F_1 = round(2*recall*precision/(recall+precision), 2)\n",
    "    \n",
    "    a[[2]] <- list(pred = pred, confusion = confusion, accuracy = accuracy, \n",
    "                   recall = recall, precision = precision, F_1 = F_1)\n",
    "    \n",
    "    # combine training & test results into 'results' list\n",
    "    results.wSMOTE[[i]] <- a\n",
    "}"
   ]
  },
  {
   "cell_type": "code",
   "execution_count": 14,
   "id": "3e1a3f39",
   "metadata": {},
   "outputs": [
    {
     "name": "stdout",
     "output_type": "stream",
     "text": [
      "[1] \"Results for linear SVM\"\n"
     ]
    },
    {
     "data": {
      "text/plain": [
       "$accuracy\n",
       "[1] 0.9130435\n",
       "\n",
       "$recall\n",
       "\n",
       "  BD    C    F    H \n",
       "0.99 0.44 0.17 0.43 \n",
       "\n",
       "$precision\n",
       "pred\n",
       "  BD    C    F    H \n",
       "0.98 0.80 0.14 0.38 \n",
       "\n",
       "$F_1\n",
       "\n",
       "  BD    C    F    H \n",
       "0.98 0.57 0.15 0.40 \n"
      ]
     },
     "metadata": {},
     "output_type": "display_data"
    },
    {
     "name": "stdout",
     "output_type": "stream",
     "text": [
      "[1] \"Results for radial kernel SVM\"\n"
     ]
    },
    {
     "data": {
      "text/plain": [
       "$accuracy\n",
       "[1] 0.923913\n",
       "\n",
       "$recall\n",
       "\n",
       "  BD    C    F    H \n",
       "0.97 0.78 0.17 0.71 \n",
       "\n",
       "$precision\n",
       "pred\n",
       "  BD    C    F    H \n",
       "0.99 0.54 0.25 0.62 \n",
       "\n",
       "$F_1\n",
       "\n",
       "  BD    C    F    H \n",
       "0.98 0.64 0.20 0.66 \n"
      ]
     },
     "metadata": {},
     "output_type": "display_data"
    },
    {
     "name": "stdout",
     "output_type": "stream",
     "text": [
      "[1] \"Results for polynomial kernel SVM\"\n"
     ]
    },
    {
     "data": {
      "text/plain": [
       "$accuracy\n",
       "[1] 0.9130435\n",
       "\n",
       "$recall\n",
       "\n",
       "  BD    C    F    H \n",
       "0.99 0.44 0.17 0.43 \n",
       "\n",
       "$precision\n",
       "pred\n",
       "  BD    C    F    H \n",
       "0.98 0.80 0.14 0.38 \n",
       "\n",
       "$F_1\n",
       "\n",
       "  BD    C    F    H \n",
       "0.98 0.57 0.15 0.40 \n"
      ]
     },
     "metadata": {},
     "output_type": "display_data"
    }
   ],
   "source": [
    "print(\"Results for linear SVM\")\n",
    "results.wSMOTE[[1]][[2]][3:6]; \n",
    "print(\"Results for radial kernel SVM\")\n",
    "results.wSMOTE[[2]][[2]][3:6]; \n",
    "print(\"Results for polynomial kernel SVM\")\n",
    "results.wSMOTE[[3]][[2]][3:6]"
   ]
  },
  {
   "cell_type": "code",
   "execution_count": 15,
   "id": "f5f4061d",
   "metadata": {},
   "outputs": [
    {
     "data": {
      "text/html": [
       "<table class=\"dataframe\">\n",
       "<caption>A matrix: 6 × 4 of type dbl</caption>\n",
       "<thead>\n",
       "\t<tr><th></th><th scope=col>BD</th><th scope=col>C</th><th scope=col>F</th><th scope=col>H</th></tr>\n",
       "</thead>\n",
       "<tbody>\n",
       "\t<tr><th scope=row>weighted-linear</th><td>0.00</td><td>0.00</td><td>0.00</td><td>0.00</td></tr>\n",
       "\t<tr><th scope=row>weighted-radial</th><td>0.00</td><td>0.00</td><td>0.00</td><td>0.00</td></tr>\n",
       "\t<tr><th scope=row>weighted-polynomial</th><td>0.00</td><td>0.00</td><td>0.00</td><td>0.00</td></tr>\n",
       "\t<tr><th scope=row>weightedSMOTE-linear</th><td>0.99</td><td>0.44</td><td>0.17</td><td>0.43</td></tr>\n",
       "\t<tr><th scope=row>weightedSMOTE-radial</th><td>0.97</td><td>0.78</td><td>0.17</td><td>0.71</td></tr>\n",
       "\t<tr><th scope=row>weightedSMOTE-plynomial</th><td>0.99</td><td>0.44</td><td>0.17</td><td>0.43</td></tr>\n",
       "</tbody>\n",
       "</table>\n"
      ],
      "text/latex": [
       "A matrix: 6 × 4 of type dbl\n",
       "\\begin{tabular}{r|llll}\n",
       "  & BD & C & F & H\\\\\n",
       "\\hline\n",
       "\tweighted-linear & 0.00 & 0.00 & 0.00 & 0.00\\\\\n",
       "\tweighted-radial & 0.00 & 0.00 & 0.00 & 0.00\\\\\n",
       "\tweighted-polynomial & 0.00 & 0.00 & 0.00 & 0.00\\\\\n",
       "\tweightedSMOTE-linear & 0.99 & 0.44 & 0.17 & 0.43\\\\\n",
       "\tweightedSMOTE-radial & 0.97 & 0.78 & 0.17 & 0.71\\\\\n",
       "\tweightedSMOTE-plynomial & 0.99 & 0.44 & 0.17 & 0.43\\\\\n",
       "\\end{tabular}\n"
      ],
      "text/markdown": [
       "\n",
       "A matrix: 6 × 4 of type dbl\n",
       "\n",
       "| <!--/--> | BD | C | F | H |\n",
       "|---|---|---|---|---|\n",
       "| weighted-linear | 0.00 | 0.00 | 0.00 | 0.00 |\n",
       "| weighted-radial | 0.00 | 0.00 | 0.00 | 0.00 |\n",
       "| weighted-polynomial | 0.00 | 0.00 | 0.00 | 0.00 |\n",
       "| weightedSMOTE-linear | 0.99 | 0.44 | 0.17 | 0.43 |\n",
       "| weightedSMOTE-radial | 0.97 | 0.78 | 0.17 | 0.71 |\n",
       "| weightedSMOTE-plynomial | 0.99 | 0.44 | 0.17 | 0.43 |\n",
       "\n"
      ],
      "text/plain": [
       "                        BD   C    F    H   \n",
       "weighted-linear         0.00 0.00 0.00 0.00\n",
       "weighted-radial         0.00 0.00 0.00 0.00\n",
       "weighted-polynomial     0.00 0.00 0.00 0.00\n",
       "weightedSMOTE-linear    0.99 0.44 0.17 0.43\n",
       "weightedSMOTE-radial    0.97 0.78 0.17 0.71\n",
       "weightedSMOTE-plynomial 0.99 0.44 0.17 0.43"
      ]
     },
     "metadata": {},
     "output_type": "display_data"
    }
   ],
   "source": [
    "# tables: recalls\n",
    "all <- matrix(rep(0, 24),  6, 4, byrow=TRUE)\n",
    "colnames(all) <- c('BD', 'C', 'F', 'H')\n",
    "rownames(all) <- c('weighted-linear', 'weighted-radial', 'weighted-polynomial',\n",
    "                   'weightedSMOTE-linear', 'weightedSMOTE-radial', 'weightedSMOTE-plynomial')\n",
    "# recalls for SVM with weights\n",
    "all[1,]<-unlist(results[[1]][[2]][4])\n",
    "all[2,]<-unlist(results[[2]][[2]][4])\n",
    "all[3,]<-unlist(results[[3]][[2]][4])\n",
    "# recalls for SVM with SMOTE\n",
    "all[4,]<-unlist(results.wSMOTE[[1]][[2]][4])\n",
    "all[5,]<-unlist(results.wSMOTE[[2]][[2]][4])\n",
    "all[6,]<-unlist(results.wSMOTE[[3]][[2]][4])\n",
    "all"
   ]
  },
  {
   "cell_type": "code",
   "execution_count": 17,
   "id": "58f6aed9",
   "metadata": {},
   "outputs": [
    {
     "data": {
      "text/html": [
       "<table class=\"dataframe\">\n",
       "<caption>A matrix: 6 × 4 of type dbl</caption>\n",
       "<thead>\n",
       "\t<tr><th></th><th scope=col>BD</th><th scope=col>C</th><th scope=col>F</th><th scope=col>H</th></tr>\n",
       "</thead>\n",
       "<tbody>\n",
       "\t<tr><th scope=row>weighted-linear</th><td>0.00</td><td>0.00</td><td>0.00</td><td>0.00</td></tr>\n",
       "\t<tr><th scope=row>weighted-radial</th><td>0.00</td><td>0.00</td><td>0.00</td><td>0.00</td></tr>\n",
       "\t<tr><th scope=row>weighted-polynomial</th><td>0.00</td><td>0.00</td><td>0.00</td><td>0.00</td></tr>\n",
       "\t<tr><th scope=row>weightedSMOTE-linear</th><td>0.98</td><td>0.80</td><td>0.14</td><td>0.38</td></tr>\n",
       "\t<tr><th scope=row>weightedSMOTE-radial</th><td>0.99</td><td>0.54</td><td>0.25</td><td>0.62</td></tr>\n",
       "\t<tr><th scope=row>weightedSMOTE-plynomial</th><td>0.98</td><td>0.80</td><td>0.14</td><td>0.38</td></tr>\n",
       "</tbody>\n",
       "</table>\n"
      ],
      "text/latex": [
       "A matrix: 6 × 4 of type dbl\n",
       "\\begin{tabular}{r|llll}\n",
       "  & BD & C & F & H\\\\\n",
       "\\hline\n",
       "\tweighted-linear & 0.00 & 0.00 & 0.00 & 0.00\\\\\n",
       "\tweighted-radial & 0.00 & 0.00 & 0.00 & 0.00\\\\\n",
       "\tweighted-polynomial & 0.00 & 0.00 & 0.00 & 0.00\\\\\n",
       "\tweightedSMOTE-linear & 0.98 & 0.80 & 0.14 & 0.38\\\\\n",
       "\tweightedSMOTE-radial & 0.99 & 0.54 & 0.25 & 0.62\\\\\n",
       "\tweightedSMOTE-plynomial & 0.98 & 0.80 & 0.14 & 0.38\\\\\n",
       "\\end{tabular}\n"
      ],
      "text/markdown": [
       "\n",
       "A matrix: 6 × 4 of type dbl\n",
       "\n",
       "| <!--/--> | BD | C | F | H |\n",
       "|---|---|---|---|---|\n",
       "| weighted-linear | 0.00 | 0.00 | 0.00 | 0.00 |\n",
       "| weighted-radial | 0.00 | 0.00 | 0.00 | 0.00 |\n",
       "| weighted-polynomial | 0.00 | 0.00 | 0.00 | 0.00 |\n",
       "| weightedSMOTE-linear | 0.98 | 0.80 | 0.14 | 0.38 |\n",
       "| weightedSMOTE-radial | 0.99 | 0.54 | 0.25 | 0.62 |\n",
       "| weightedSMOTE-plynomial | 0.98 | 0.80 | 0.14 | 0.38 |\n",
       "\n"
      ],
      "text/plain": [
       "                        BD   C    F    H   \n",
       "weighted-linear         0.00 0.00 0.00 0.00\n",
       "weighted-radial         0.00 0.00 0.00 0.00\n",
       "weighted-polynomial     0.00 0.00 0.00 0.00\n",
       "weightedSMOTE-linear    0.98 0.80 0.14 0.38\n",
       "weightedSMOTE-radial    0.99 0.54 0.25 0.62\n",
       "weightedSMOTE-plynomial 0.98 0.80 0.14 0.38"
      ]
     },
     "metadata": {},
     "output_type": "display_data"
    }
   ],
   "source": [
    "# tables: precision\n",
    "p<- matrix(rep(0, 24),  6, 4, byrow=TRUE)\n",
    "colnames(p) <- c('BD', 'C', 'F', 'H')\n",
    "rownames(p) <- c('weighted-linear', 'weighted-radial', 'weighted-polynomial',\n",
    "                 'weightedSMOTE-linear', 'weightedSMOTE-radial', 'weightedSMOTE-plynomial')\n",
    "# precision for SVM with weights\n",
    "p[1,]<-unlist(results[[1]][[2]][5])\n",
    "p[2,]<-unlist(results[[2]][[2]][5])\n",
    "p[3,]<-unlist(results[[3]][[2]][5])\n",
    "# precision for SVM with SMOTE\n",
    "p[4,]<-unlist(results.wSMOTE[[1]][[2]][5])\n",
    "p[5,]<-unlist(results.wSMOTE[[2]][[2]][5])\n",
    "p[6,]<-unlist(results.wSMOTE[[3]][[2]][5])\n",
    "p"
   ]
  },
  {
   "cell_type": "code",
   "execution_count": 18,
   "id": "dbe0c977",
   "metadata": {},
   "outputs": [
    {
     "data": {
      "text/html": [
       "<table class=\"dataframe\">\n",
       "<caption>A matrix: 6 × 4 of type dbl</caption>\n",
       "<thead>\n",
       "\t<tr><th></th><th scope=col>BD</th><th scope=col>C</th><th scope=col>F</th><th scope=col>H</th></tr>\n",
       "</thead>\n",
       "<tbody>\n",
       "\t<tr><th scope=row>weighted-linear</th><td>0.00</td><td>0.00</td><td>0.00</td><td>0.00</td></tr>\n",
       "\t<tr><th scope=row>weighted-radial</th><td>0.00</td><td>0.00</td><td>0.00</td><td>0.00</td></tr>\n",
       "\t<tr><th scope=row>weighted-polynomial</th><td>0.00</td><td>0.00</td><td>0.00</td><td>0.00</td></tr>\n",
       "\t<tr><th scope=row>weightedSMOTE-linear</th><td>0.98</td><td>0.57</td><td>0.15</td><td>0.40</td></tr>\n",
       "\t<tr><th scope=row>weightedSMOTE-radial</th><td>0.98</td><td>0.64</td><td>0.20</td><td>0.66</td></tr>\n",
       "\t<tr><th scope=row>weightedSMOTE-plynomial</th><td>0.98</td><td>0.57</td><td>0.15</td><td>0.40</td></tr>\n",
       "</tbody>\n",
       "</table>\n"
      ],
      "text/latex": [
       "A matrix: 6 × 4 of type dbl\n",
       "\\begin{tabular}{r|llll}\n",
       "  & BD & C & F & H\\\\\n",
       "\\hline\n",
       "\tweighted-linear & 0.00 & 0.00 & 0.00 & 0.00\\\\\n",
       "\tweighted-radial & 0.00 & 0.00 & 0.00 & 0.00\\\\\n",
       "\tweighted-polynomial & 0.00 & 0.00 & 0.00 & 0.00\\\\\n",
       "\tweightedSMOTE-linear & 0.98 & 0.57 & 0.15 & 0.40\\\\\n",
       "\tweightedSMOTE-radial & 0.98 & 0.64 & 0.20 & 0.66\\\\\n",
       "\tweightedSMOTE-plynomial & 0.98 & 0.57 & 0.15 & 0.40\\\\\n",
       "\\end{tabular}\n"
      ],
      "text/markdown": [
       "\n",
       "A matrix: 6 × 4 of type dbl\n",
       "\n",
       "| <!--/--> | BD | C | F | H |\n",
       "|---|---|---|---|---|\n",
       "| weighted-linear | 0.00 | 0.00 | 0.00 | 0.00 |\n",
       "| weighted-radial | 0.00 | 0.00 | 0.00 | 0.00 |\n",
       "| weighted-polynomial | 0.00 | 0.00 | 0.00 | 0.00 |\n",
       "| weightedSMOTE-linear | 0.98 | 0.57 | 0.15 | 0.40 |\n",
       "| weightedSMOTE-radial | 0.98 | 0.64 | 0.20 | 0.66 |\n",
       "| weightedSMOTE-plynomial | 0.98 | 0.57 | 0.15 | 0.40 |\n",
       "\n"
      ],
      "text/plain": [
       "                        BD   C    F    H   \n",
       "weighted-linear         0.00 0.00 0.00 0.00\n",
       "weighted-radial         0.00 0.00 0.00 0.00\n",
       "weighted-polynomial     0.00 0.00 0.00 0.00\n",
       "weightedSMOTE-linear    0.98 0.57 0.15 0.40\n",
       "weightedSMOTE-radial    0.98 0.64 0.20 0.66\n",
       "weightedSMOTE-plynomial 0.98 0.57 0.15 0.40"
      ]
     },
     "metadata": {},
     "output_type": "display_data"
    }
   ],
   "source": [
    "# tables: F-1\n",
    "f<- matrix(rep(0, 24),  6, 4, byrow=TRUE)\n",
    "colnames(f) <- c('BD', 'C', 'F', 'H')\n",
    "rownames(f) <- c('weighted-linear', 'weighted-radial', 'weighted-polynomial',\n",
    "                 'weightedSMOTE-linear', 'weightedSMOTE-radial', 'weightedSMOTE-plynomial')\n",
    "# precision for SVM with weights\n",
    "f[1,]<-unlist(results[[1]][[2]][6])\n",
    "f[2,]<-unlist(results[[2]][[2]][6])\n",
    "f[3,]<-unlist(results[[3]][[2]][6])\n",
    "# precision for SVM with SMOTE\n",
    "f[4,]<-unlist(results.wSMOTE[[1]][[2]][6])\n",
    "f[5,]<-unlist(results.wSMOTE[[2]][[2]][6])\n",
    "f[6,]<-unlist(results.wSMOTE[[3]][[2]][6])\n",
    "f"
   ]
  },
  {
   "cell_type": "markdown",
   "id": "f0095473",
   "metadata": {},
   "source": [
    "We want to get the best performance on C. SVM with polynomial kernel with weighted tuning and SVM with polynomial kernel with weighted SMOTE data. For other classes, **SVM with weighted polynomial has the best recall**."
   ]
  }
 ],
 "metadata": {
  "kernelspec": {
   "display_name": "R",
   "language": "R",
   "name": "ir"
  },
  "language_info": {
   "codemirror_mode": "r",
   "file_extension": ".r",
   "mimetype": "text/x-r-source",
   "name": "R",
   "pygments_lexer": "r",
   "version": "4.1.1"
  }
 },
 "nbformat": 4,
 "nbformat_minor": 5
}
