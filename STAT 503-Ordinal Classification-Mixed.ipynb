{
 "cells": [
  {
   "cell_type": "code",
   "execution_count": 236,
   "id": "d8911b61",
   "metadata": {},
   "outputs": [],
   "source": [
    "import pandas as pd\n",
    "import numpy as np\n",
    "import matplotlib.pyplot as plt\n",
    "\n",
    "from sklearn.ensemble import RandomForestClassifier\n",
    "from sklearn.model_selection import train_test_split\n",
    "from sklearn.model_selection import GridSearchCV\n",
    "from sklearn.metrics import confusion_matrix,accuracy_score\n"
   ]
  },
  {
   "cell_type": "code",
   "execution_count": 237,
   "id": "64e54367",
   "metadata": {},
   "outputs": [],
   "source": [
    "#read data\n",
    "X_train = pd.read_csv('/Users/shreya/Downloads/X_Train_SMOTE.csv')\n",
    "y_train = pd.read_csv('/Users/shreya/Downloads/y_train_SMOTE.csv')\n",
    "X_test = pd.read_csv('/Users/shreya/Desktop/STAT 503/test_x.csv')\n",
    "y_test = pd.read_csv('/Users/shreya/Desktop/STAT 503/test_labels.csv')"
   ]
  },
  {
   "cell_type": "code",
   "execution_count": 238,
   "id": "8e172be8",
   "metadata": {},
   "outputs": [],
   "source": [
    "y_train = np.ravel(y_train)\n",
    "y_test = np.ravel(y_test)"
   ]
  },
  {
   "cell_type": "markdown",
   "id": "3751a5cf",
   "metadata": {},
   "source": [
    "## Classifier 1"
   ]
  },
  {
   "cell_type": "markdown",
   "id": "9de9e89b",
   "metadata": {},
   "source": [
    "**Binary target is 1 if fibrosis level > 0; classifer predicts Pr(Target>0)**"
   ]
  },
  {
   "cell_type": "code",
   "execution_count": 224,
   "id": "1e9190e5",
   "metadata": {},
   "outputs": [],
   "source": [
    "# Change y_train to binary\n",
    "y_train1=y_train\n",
    "y_train1=np.where(y_train==0, 0, 1)\n",
    "\n",
    "\n",
    "#initiate and tune\n",
    "model1 = RandomForestClassifier()\n",
    "\n",
    "model1.fit(X_train,y_train1)\n",
    "\n",
    "param_grid = {\n",
    "                'n_estimators': [5, 10, 20, 30, 40, 50],\n",
    "                'max_depth': [2, 7, 12, 17],\n",
    "                'criterion': [\"entropy\"],\n",
    "                'random_state': [0],\n",
    "                'min_samples_split': [8, 10, 12],\n",
    "                'min_samples_leaf': [3, 4, 5],\n",
    "                'bootstrap': [True],\n",
    "                'random_state': [0]\n",
    "    \n",
    "             }\n",
    "\n",
    "grid_clf1 = GridSearchCV(model1, param_grid, cv=5, n_jobs=-1)\n",
    "grid_clf1.fit(X_train,y_train1)\n",
    "\n",
    "#best model\n",
    "m1=grid_clf1.best_estimator_"
   ]
  },
  {
   "cell_type": "markdown",
   "id": "da7bee31",
   "metadata": {},
   "source": [
    "## Classifier 2"
   ]
  },
  {
   "cell_type": "markdown",
   "id": "7d71e289",
   "metadata": {},
   "source": [
    "**Binary target is 1 fibrosis level > 1, so the classifier will predict Pr(Target>1)**"
   ]
  },
  {
   "cell_type": "code",
   "execution_count": 332,
   "id": "1a5c288e",
   "metadata": {},
   "outputs": [],
   "source": [
    "# Change y_train to binary\n",
    "y_train2=y_train\n",
    "y_train2=np.where((y_train2==0)|(y_train2==1), 0, 1)\n",
    "\n",
    "from sklearn.neural_network import MLPClassifier\n",
    "\n",
    "clf = MLPClassifier(hidden_layer_sizes=(200,500,4),\n",
    "                    random_state=0,\n",
    "                    activation='relu',\n",
    "                    solver='sgd',\n",
    "                    batch_size=10)\n",
    "\n",
    "# Fit data onto the model\n",
    "clf.fit(X_train.values,y_train2)\n",
    "m2=clf"
   ]
  },
  {
   "cell_type": "markdown",
   "id": "f7e7372b",
   "metadata": {},
   "source": [
    "## Classifier 3"
   ]
  },
  {
   "cell_type": "markdown",
   "id": "cc9c9adf",
   "metadata": {},
   "source": [
    "**Binary target is 1 fibrosis level > 2, so the classifier will predict Pr(Target>2)**"
   ]
  },
  {
   "cell_type": "code",
   "execution_count": 317,
   "id": "bdd51556",
   "metadata": {},
   "outputs": [],
   "source": [
    "from sklearn.svm import SVC\n",
    "\n",
    "y_train3=y_train\n",
    "y_train3=np.where((y_train3==0)|(y_train3==1)|(y_train3==2), 0, 1)\n",
    "\n",
    "svm = SVC(random_state=0, kernel='rbf', probability=True)\n",
    "\n",
    "# Fit the data to the SVM classifier\n",
    "svm = svm.fit(X_train, y_train3)\n",
    "\n",
    "m3=svm"
   ]
  },
  {
   "cell_type": "code",
   "execution_count": 333,
   "id": "867f052b",
   "metadata": {},
   "outputs": [],
   "source": [
    "pred1=m1.predict_proba(X_test)\n",
    "pred2=m2.predict_proba(X_test.values)\n",
    "pred3=m3.predict_proba(X_test)"
   ]
  },
  {
   "cell_type": "code",
   "execution_count": 334,
   "id": "336547af",
   "metadata": {},
   "outputs": [],
   "source": [
    "pred_1_proba=pred1[:,1]\n",
    "pred_2_proba=pred2[:,1]\n",
    "pred_3_proba=pred3[:,1]\n",
    "\n",
    "BD=1-pred_1_proba  #blood donor\n",
    "H=pred_1_proba - pred_2_proba #hepatitis\n",
    "F=pred_2_proba-pred_3_proba #Fibrosis\n",
    "C=pred_3_proba #cirrhosis"
   ]
  },
  {
   "cell_type": "code",
   "execution_count": 335,
   "id": "616df9b0",
   "metadata": {},
   "outputs": [],
   "source": [
    "merged_df=pd.DataFrame(np.column_stack((BD,H,F,C)), columns=[0, 1, 2, 3])\n",
    "merged_df['predicted'] = merged_df.idxmax(axis=1)"
   ]
  },
  {
   "cell_type": "code",
   "execution_count": 336,
   "id": "da08fa45",
   "metadata": {},
   "outputs": [
    {
     "data": {
      "text/plain": [
       "array([[160,   0,   1,   1],\n",
       "       [  1,   3,   2,   1],\n",
       "       [  0,   1,   4,   1],\n",
       "       [  0,   1,   2,   6]])"
      ]
     },
     "execution_count": 336,
     "metadata": {},
     "output_type": "execute_result"
    }
   ],
   "source": [
    "cm=confusion_matrix(y_test,merged_df['predicted'])\n",
    "cm"
   ]
  },
  {
   "cell_type": "code",
   "execution_count": 344,
   "id": "55769d2c",
   "metadata": {},
   "outputs": [
    {
     "data": {
      "text/plain": [
       "0.9402173913043478"
      ]
     },
     "execution_count": 344,
     "metadata": {},
     "output_type": "execute_result"
    }
   ],
   "source": [
    "from sklearn.metrics import accuracy_score\n",
    "score = accuracy_score(y_test,merged_df['predicted'])\n",
    "score"
   ]
  },
  {
   "cell_type": "code",
   "execution_count": 337,
   "id": "649c7c13",
   "metadata": {},
   "outputs": [
    {
     "data": {
      "text/plain": [
       "array([0.98765432, 0.42857143, 0.66666667, 0.66666667])"
      ]
     },
     "execution_count": 337,
     "metadata": {},
     "output_type": "execute_result"
    }
   ],
   "source": [
    "from sklearn.metrics import recall_score\n",
    "recall_score(y_test,merged_df['predicted'], average=None)"
   ]
  },
  {
   "cell_type": "code",
   "execution_count": 338,
   "id": "4ec22f6e",
   "metadata": {},
   "outputs": [
    {
     "data": {
      "text/plain": [
       "array([0.99378882, 0.6       , 0.44444444, 0.66666667])"
      ]
     },
     "execution_count": 338,
     "metadata": {},
     "output_type": "execute_result"
    }
   ],
   "source": [
    "from sklearn.metrics import precision_score\n",
    "precision_score(y_test,merged_df['predicted'], average=None)"
   ]
  },
  {
   "cell_type": "code",
   "execution_count": 341,
   "id": "4e805633",
   "metadata": {},
   "outputs": [
    {
     "data": {
      "text/plain": [
       "array([0.99071207, 0.5       , 0.53333333, 0.66666667])"
      ]
     },
     "execution_count": 341,
     "metadata": {},
     "output_type": "execute_result"
    }
   ],
   "source": [
    "import sklearn.metrics \n",
    "sklearn.metrics.f1_score(y_test,merged_df['predicted'], average=None)"
   ]
  }
 ],
 "metadata": {
  "kernelspec": {
   "display_name": "Python 3 (ipykernel)",
   "language": "python",
   "name": "python3"
  },
  "language_info": {
   "codemirror_mode": {
    "name": "ipython",
    "version": 3
   },
   "file_extension": ".py",
   "mimetype": "text/x-python",
   "name": "python",
   "nbconvert_exporter": "python",
   "pygments_lexer": "ipython3",
   "version": "3.8.13"
  }
 },
 "nbformat": 4,
 "nbformat_minor": 5
}
