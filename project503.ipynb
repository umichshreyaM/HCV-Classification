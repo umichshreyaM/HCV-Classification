{
 "cells": [
  {
   "cell_type": "code",
   "execution_count": 248,
   "id": "83bcd126",
   "metadata": {},
   "outputs": [],
   "source": [
    "import pandas as pd\n",
    "import numpy as np\n",
    "import matplotlib.pyplot as plt"
   ]
  },
  {
   "cell_type": "code",
   "execution_count": 249,
   "id": "20beb1b6",
   "metadata": {},
   "outputs": [],
   "source": [
    "X_train = pd.read_csv(\"train_x.csv\")\n",
    "y_train = pd.read_csv(\"train_labels.csv\")\n",
    "X_test = pd.read_csv(\"test_x.csv\")\n",
    "y_test = pd.read_csv(\"test_labels.csv\")"
   ]
  },
  {
   "cell_type": "code",
   "execution_count": 250,
   "id": "6c86db70",
   "metadata": {},
   "outputs": [],
   "source": [
    "y_train = np.ravel(y_train)\n",
    "y_test = np.ravel(y_test)"
   ]
  },
  {
   "cell_type": "markdown",
   "id": "ac905b5c",
   "metadata": {},
   "source": [
    "### I do not set class_weight='balanced' in both random forest and logistic regression models because by setting it all accuracies become lower. "
   ]
  },
  {
   "cell_type": "code",
   "execution_count": 258,
   "id": "a12218f2",
   "metadata": {},
   "outputs": [
    {
     "data": {
      "text/plain": [
       "GridSearchCV(cv=5, estimator=RandomForestClassifier(), n_jobs=-1,\n",
       "             param_grid={'criterion': ['entropy'], 'max_depth': [2, 7, 12, 17],\n",
       "                         'n_estimators': [5, 10, 20, 30, 40, 50],\n",
       "                         'random_state': [0]})"
      ]
     },
     "execution_count": 258,
     "metadata": {},
     "output_type": "execute_result"
    }
   ],
   "source": [
    "#Random Forest\n",
    "from sklearn.ensemble import RandomForestClassifier\n",
    "from sklearn.model_selection import train_test_split\n",
    "from sklearn.model_selection import GridSearchCV\n",
    "\n",
    "model = RandomForestClassifier()\n",
    "\n",
    "model.fit(X_train,y_train)\n",
    "\n",
    "param_grid = {\n",
    "                'n_estimators': [5, 10, 20, 30, 40, 50],\n",
    "                'max_depth': [2, 7, 12, 17],\n",
    "                'criterion': [\"entropy\"],\n",
    "                'random_state': [0],\n",
    "             }\n",
    "\n",
    "grid_clf1 = GridSearchCV(model, param_grid, cv=5, n_jobs=-1)\n",
    "grid_clf1.fit(X_train,y_train)"
   ]
  },
  {
   "cell_type": "code",
   "execution_count": 259,
   "id": "e5a827f4",
   "metadata": {},
   "outputs": [
    {
     "data": {
      "text/plain": [
       "RandomForestClassifier(criterion='entropy', max_depth=7, n_estimators=40,\n",
       "                       random_state=0)"
      ]
     },
     "execution_count": 259,
     "metadata": {},
     "output_type": "execute_result"
    }
   ],
   "source": [
    "grid_clf1.best_estimator_"
   ]
  },
  {
   "cell_type": "code",
   "execution_count": 260,
   "id": "64ed572b",
   "metadata": {},
   "outputs": [
    {
     "name": "stdout",
     "output_type": "stream",
     "text": [
      "[[162   0   0   0]\n",
      " [  2   4   1   0]\n",
      " [  2   2   2   0]\n",
      " [  1   1   2   5]]\n",
      "0.9402173913043478\n"
     ]
    }
   ],
   "source": [
    "from sklearn.metrics import confusion_matrix,accuracy_score\n",
    "\n",
    "pred=grid_clf1.best_estimator_.predict(X_test)\n",
    "cm=confusion_matrix(y_test,pred)\n",
    "AS=accuracy_score(y_test,pred)\n",
    "\n",
    "print(cm)\n",
    "print(AS)"
   ]
  },
  {
   "cell_type": "code",
   "execution_count": 261,
   "id": "84ce953d",
   "metadata": {},
   "outputs": [
    {
     "data": {
      "text/plain": [
       "0.5714285714285714"
      ]
     },
     "execution_count": 261,
     "metadata": {},
     "output_type": "execute_result"
    }
   ],
   "source": [
    "# Blood Donor/suspect Blood Donor accuracy = 100\n",
    "\n",
    "# Hepatitis\n",
    "4/7"
   ]
  },
  {
   "cell_type": "code",
   "execution_count": 262,
   "id": "7611ba85",
   "metadata": {},
   "outputs": [
    {
     "data": {
      "text/plain": [
       "0.3333333333333333"
      ]
     },
     "execution_count": 262,
     "metadata": {},
     "output_type": "execute_result"
    }
   ],
   "source": [
    "# Fibrosis\n",
    "2/(2*3)"
   ]
  },
  {
   "cell_type": "code",
   "execution_count": 263,
   "id": "786929cb",
   "metadata": {},
   "outputs": [
    {
     "data": {
      "text/plain": [
       "0.5555555555555556"
      ]
     },
     "execution_count": 263,
     "metadata": {},
     "output_type": "execute_result"
    }
   ],
   "source": [
    "# Cirrhosis\n",
    "\n",
    "5/(4+5)"
   ]
  },
  {
   "cell_type": "markdown",
   "id": "6ab098e2",
   "metadata": {},
   "source": [
    "### All above are accuracy"
   ]
  },
  {
   "cell_type": "code",
   "execution_count": 229,
   "id": "e3bbc519",
   "metadata": {},
   "outputs": [
    {
     "name": "stdout",
     "output_type": "stream",
     "text": [
      "Sensitivity for Blood Donor/suspect Blood Donor accuracy:  1.0\n",
      "Specificity for Blood Donor/suspect Blood Donor accuracy:  0.7727272727272727\n"
     ]
    }
   ],
   "source": [
    "sensitivity1 = cm[0,0]/(cm[0,0]+cm[0,1]+ cm[0,2]+cm[0,3])\n",
    "print('Sensitivity for Blood Donor/suspect Blood Donor accuracy: ', sensitivity1)\n",
    "\n",
    "specificity1 = (cm[1,1] + cm[1,2] + cm[1,3] + cm[2,1] + cm[2,2] + cm[2,3] + cm[3,1] + cm[3,2] + cm[3,3]) / (cm[1,1] + cm[1,2] + cm[1,3] + cm[2,1] + cm[2,2] + cm[2,3] + cm[3,1] + cm[3,2] + cm[3,3] + cm[1,0] + cm[2,0] + cm[3,0])\n",
    "print('Specificity for Blood Donor/suspect Blood Donor accuracy: ', specificity1)"
   ]
  },
  {
   "cell_type": "code",
   "execution_count": 230,
   "id": "cbd0a347",
   "metadata": {},
   "outputs": [
    {
     "name": "stdout",
     "output_type": "stream",
     "text": [
      "Sensitivity for Hepatitis accuracy:  0.5714285714285714\n",
      "Specificity for Hepatitis accuracy:  0.9830508474576272\n"
     ]
    }
   ],
   "source": [
    "sensitivity1 = cm[1,1]/(cm[1,1]+cm[1,0]+ cm[1,2]+cm[1,3])\n",
    "print('Sensitivity for Hepatitis accuracy: ', sensitivity1)\n",
    "\n",
    "specificity1 = (cm[0,0] + cm[0,2] + cm[0,3] + cm[2,0] + cm[2,2] + cm[2,3] + cm[3,0] + cm[3,2] + cm[3,3]) / ((cm[0,0] + cm[0,2] + cm[0,3] + cm[2,0] + cm[2,2] + cm[2,3] + cm[3,0] + cm[3,2] + cm[3,3]) + cm[0,1] + cm[2,1] + cm[3,1])\n",
    "print('Specificity for Hepatitis accuracy: ', specificity1)"
   ]
  },
  {
   "cell_type": "code",
   "execution_count": 235,
   "id": "db48ca4a",
   "metadata": {},
   "outputs": [
    {
     "name": "stdout",
     "output_type": "stream",
     "text": [
      "Sensitivity for Fibrosis accuracy:  0.3333333333333333\n",
      "Specificity for Fibrosis accuracy:  0.9831460674157303\n"
     ]
    }
   ],
   "source": [
    "sensitivity1 = cm[2,2]/(cm[2,2]+cm[2,0]+ cm[2,1]+cm[2,3])\n",
    "print('Sensitivity for Fibrosis accuracy: ', sensitivity1)\n",
    "\n",
    "specificity1 = (cm[1,0] + cm[1,1] + cm[1,3] + cm[0,1] + cm[0,0] + cm[0,3] + cm[3,1] + cm[3,0] + cm[3,3]) / ((cm[1,0] + cm[1,1] + cm[1,3] + cm[0,1] + cm[0,0] + cm[0,3] + cm[3,1] + cm[3,0] + cm[3,3])+cm[0,2]+cm[1,2]+cm[3,2])\n",
    "print('Specificity for Fibrosis accuracy: ', specificity1)"
   ]
  },
  {
   "cell_type": "code",
   "execution_count": 236,
   "id": "9af0b98d",
   "metadata": {},
   "outputs": [
    {
     "name": "stdout",
     "output_type": "stream",
     "text": [
      "Sensitivity for Cirrhosis accuracy:  0.5555555555555556\n",
      "Specificity for Cirrhosis accuracy:  1.0\n"
     ]
    }
   ],
   "source": [
    "sensitivity1 = cm[3,3]/(cm[3,3]+cm[3,1]+ cm[3,2]+cm[3,0])\n",
    "print('Sensitivity for Cirrhosis accuracy: ', sensitivity1)\n",
    "\n",
    "specificity1 = (cm[0,0]+cm[0,1]+cm[0,2]+cm[1,0]+cm[1,1]+cm[1,2]+cm[2,0]+cm[2,1]+cm[2,2])/(cm[0,0]+cm[0,1]+cm[0,2]+cm[1,0]+cm[1,1]+cm[1,2]+cm[2,0]+cm[2,1]+cm[2,2]+cm[0,3]+cm[1,3]+cm[2,3])\n",
    "print('Specificity for Cirrhosis accuracy: ', specificity1)"
   ]
  },
  {
   "cell_type": "code",
   "execution_count": 208,
   "id": "3903ea62",
   "metadata": {
    "scrolled": true
   },
   "outputs": [],
   "source": [
    "# df = pd.concat([pd.DataFrame(X_test), pd.DataFrame(y_test)], axis=1)\n",
    "# df.rename(columns = {0: 'Level'}, inplace = True)\n",
    "# df.head()"
   ]
  },
  {
   "cell_type": "code",
   "execution_count": 209,
   "id": "654cadfc",
   "metadata": {},
   "outputs": [],
   "source": [
    "# df_0_X = df[df['Level'] == 0].drop(columns='Level')\n",
    "# df_1_X = df[df['Level'] == 1].drop(columns='Level')\n",
    "# df_2_X = df[df['Level'] == 2].drop(columns='Level')\n",
    "# df_3_X = df[df['Level'] == 3].drop(columns='Level')\n",
    "\n",
    "\n",
    "# df_0_y = df[df['Level'] == 0][\"Level\"]\n",
    "# df_1_y = df[df['Level'] == 1][\"Level\"]\n",
    "# df_2_y = df[df['Level'] == 2][\"Level\"]\n",
    "# df_3_y = df[df['Level'] == 3][\"Level\"]"
   ]
  },
  {
   "cell_type": "markdown",
   "id": "d60ebaa3",
   "metadata": {},
   "source": [
    "### I combine training and test datasets together below. I used the new dataset (training dataset combined with test dataset) to do 5-fold CV to compute the probability of positive class which is used to draw the ROC curve."
   ]
  },
  {
   "cell_type": "code",
   "execution_count": 210,
   "id": "a8c7bc4d",
   "metadata": {},
   "outputs": [],
   "source": [
    "X = pd.concat([pd.DataFrame(X_train), pd.DataFrame(y_train)], axis=1)\n",
    "X.rename(columns = {0: 'Level'}, inplace = True)\n",
    "Y = pd.concat([pd.DataFrame(X_test), pd.DataFrame(y_test)], axis=1)\n",
    "Y.rename(columns = {0: 'Level'}, inplace = True)\n",
    "Z = pd.concat([X, Y], axis=0)\n",
    "Z_y = Z[\"Level\"]\n",
    "Z_x = Z.drop(columns='Level')"
   ]
  },
  {
   "cell_type": "code",
   "execution_count": 211,
   "id": "8f76e25c",
   "metadata": {},
   "outputs": [],
   "source": [
    "Z_y_bool = Z_y == 3"
   ]
  },
  {
   "cell_type": "code",
   "execution_count": 237,
   "id": "69cc9f3d",
   "metadata": {},
   "outputs": [
    {
     "data": {
      "image/png": "[encoded data removed]",
      "text/plain": [
       "<Figure size 432x288 with 1 Axes>"
      ]
     },
     "metadata": {
      "needs_background": "light"
     },
     "output_type": "display_data"
    }
   ],
   "source": [
    "from sklearn.metrics import roc_curve\n",
    "from sklearn.model_selection import cross_val_predict\n",
    "\n",
    "\n",
    "y_probas_forest = cross_val_predict(grid_clf1.best_estimator_, Z_x.values, Z_y_bool, cv=5,\n",
    "                                    method=\"predict_proba\")\n",
    "\n",
    "y_scores_forest = y_probas_forest[:, 1] # score = proba of positive class\n",
    "fpr_forest, tpr_forest, thresholds_forest = roc_curve(Z_y_bool, y_scores_forest)\n",
    "\n",
    "\n",
    "def plot_roc_curve(fpr, tpr, label=None):\n",
    "    plt.plot(fpr, tpr, linewidth=2, label=label)\n",
    "    plt.plot([0, 1], [0, 1], 'k--') # dashed diagonal\n",
    "    plt.axis([0, 1, 0, 1])                                    # Not shown in the book\n",
    "    plt.xlabel('False Positive Rate (Fall-Out)', fontsize=14) # Not shown\n",
    "    plt.ylabel('True Positive Rate (Recall)', fontsize=14)    # Not shown\n",
    "    plt.grid(True)                                            # Not shown\n",
    "\n",
    "plot_roc_curve(fpr_forest, tpr_forest)\n",
    "plt.title(\"ROC curve for 3=Cirrhosis\")\n",
    "plt.show()"
   ]
  },
  {
   "cell_type": "code",
   "execution_count": 238,
   "id": "8ffb4d9b",
   "metadata": {},
   "outputs": [
    {
     "data": {
      "text/plain": [
       "0.9512250712250712"
      ]
     },
     "execution_count": 238,
     "metadata": {},
     "output_type": "execute_result"
    }
   ],
   "source": [
    "from sklearn.metrics import roc_auc_score\n",
    "roc_auc_score(Z_y_bool, y_scores_forest)"
   ]
  },
  {
   "cell_type": "code",
   "execution_count": 239,
   "id": "a74b18eb",
   "metadata": {},
   "outputs": [],
   "source": [
    "Z_y_bool = Z_y == 2"
   ]
  },
  {
   "cell_type": "code",
   "execution_count": 240,
   "id": "fe53b01a",
   "metadata": {},
   "outputs": [
    {
     "data": {
      "image/png": "[encoded data removed]",
      "text/plain": [
       "<Figure size 432x288 with 1 Axes>"
      ]
     },
     "metadata": {
      "needs_background": "light"
     },
     "output_type": "display_data"
    }
   ],
   "source": [
    "from sklearn.metrics import roc_curve\n",
    "from sklearn.model_selection import cross_val_predict\n",
    "\n",
    "\n",
    "y_probas_forest = cross_val_predict(grid_clf1.best_estimator_, Z_x.values, Z_y_bool, cv=5,\n",
    "                                    method=\"predict_proba\")\n",
    "\n",
    "y_scores_forest = y_probas_forest[:, 1] # score = proba of positive class\n",
    "fpr_forest, tpr_forest, thresholds_forest = roc_curve(Z_y_bool, y_scores_forest)\n",
    "\n",
    "\n",
    "def plot_roc_curve(fpr, tpr, label=None):\n",
    "    plt.plot(fpr, tpr, linewidth=2, label=label)\n",
    "    plt.plot([0, 1], [0, 1], 'k--') # dashed diagonal\n",
    "    plt.axis([0, 1, 0, 1])                                    # Not shown in the book\n",
    "    plt.xlabel('False Positive Rate (Fall-Out)', fontsize=14) # Not shown\n",
    "    plt.ylabel('True Positive Rate (Recall)', fontsize=14)    # Not shown\n",
    "    plt.grid(True)                                            # Not shown\n",
    "\n",
    "plot_roc_curve(fpr_forest, tpr_forest)\n",
    "plt.title(\"ROC curve for 2=Fibrosis\")\n",
    "plt.show()"
   ]
  },
  {
   "cell_type": "code",
   "execution_count": 241,
   "id": "83667084",
   "metadata": {},
   "outputs": [
    {
     "data": {
      "text/plain": [
       "0.9605178771845438"
      ]
     },
     "execution_count": 241,
     "metadata": {},
     "output_type": "execute_result"
    }
   ],
   "source": [
    "from sklearn.metrics import roc_auc_score\n",
    "roc_auc_score(Z_y_bool, y_scores_forest)"
   ]
  },
  {
   "cell_type": "code",
   "execution_count": 242,
   "id": "ff7f9bf5",
   "metadata": {},
   "outputs": [],
   "source": [
    "Z_y_bool = Z_y == 1"
   ]
  },
  {
   "cell_type": "code",
   "execution_count": 243,
   "id": "9294dcc7",
   "metadata": {},
   "outputs": [
    {
     "data": {
      "image/png": "[encoded data removed]",
      "text/plain": [
       "<Figure size 432x288 with 1 Axes>"
      ]
     },
     "metadata": {
      "needs_background": "light"
     },
     "output_type": "display_data"
    }
   ],
   "source": [
    "from sklearn.metrics import roc_curve\n",
    "from sklearn.model_selection import cross_val_predict\n",
    "\n",
    "\n",
    "y_probas_forest = cross_val_predict(grid_clf1.best_estimator_, Z_x.values, Z_y_bool, cv=5,\n",
    "                                    method=\"predict_proba\")\n",
    "\n",
    "y_scores_forest = y_probas_forest[:, 1] # score = proba of positive class\n",
    "fpr_forest, tpr_forest, thresholds_forest = roc_curve(Z_y_bool, y_scores_forest)\n",
    "\n",
    "\n",
    "def plot_roc_curve(fpr, tpr, label=None):\n",
    "    plt.plot(fpr, tpr, linewidth=2, label=label)\n",
    "    plt.plot([0, 1], [0, 1], 'k--') # dashed diagonal\n",
    "    plt.axis([0, 1, 0, 1])                                    # Not shown in the book\n",
    "    plt.xlabel('False Positive Rate (Fall-Out)', fontsize=14) # Not shown\n",
    "    plt.ylabel('True Positive Rate (Recall)', fontsize=14)    # Not shown\n",
    "    plt.grid(True)                                            # Not shown\n",
    "\n",
    "plot_roc_curve(fpr_forest, tpr_forest)\n",
    "plt.title(\"ROC curve for 1=Hepatitis\")\n",
    "plt.show()"
   ]
  },
  {
   "cell_type": "code",
   "execution_count": 244,
   "id": "c0669ba0",
   "metadata": {},
   "outputs": [
    {
     "data": {
      "text/plain": [
       "0.9284757473209251"
      ]
     },
     "execution_count": 244,
     "metadata": {},
     "output_type": "execute_result"
    }
   ],
   "source": [
    "from sklearn.metrics import roc_auc_score\n",
    "roc_auc_score(Z_y_bool, y_scores_forest)"
   ]
  },
  {
   "cell_type": "code",
   "execution_count": 245,
   "id": "d97963b7",
   "metadata": {},
   "outputs": [],
   "source": [
    "Z_y_bool = Z_y == 0"
   ]
  },
  {
   "cell_type": "code",
   "execution_count": 246,
   "id": "c81971a3",
   "metadata": {},
   "outputs": [
    {
     "data": {
      "image/png": "[encoded data removed]",
      "text/plain": [
       "<Figure size 432x288 with 1 Axes>"
      ]
     },
     "metadata": {
      "needs_background": "light"
     },
     "output_type": "display_data"
    }
   ],
   "source": [
    "from sklearn.metrics import roc_curve\n",
    "from sklearn.model_selection import cross_val_predict\n",
    "\n",
    "\n",
    "y_probas_forest = cross_val_predict(grid_clf1.best_estimator_, Z_x.values, Z_y_bool, cv=5,\n",
    "                                    method=\"predict_proba\")\n",
    "\n",
    "y_scores_forest = y_probas_forest[:, 1] # score = proba of positive class\n",
    "fpr_forest, tpr_forest, thresholds_forest = roc_curve(Z_y_bool, y_scores_forest)\n",
    "\n",
    "\n",
    "def plot_roc_curve(fpr, tpr, label=None):\n",
    "    plt.plot(fpr, tpr, linewidth=2, label=label)\n",
    "    plt.plot([0, 1], [0, 1], 'k--') # dashed diagonal\n",
    "    plt.axis([0, 1, 0, 1])                                    # Not shown in the book\n",
    "    plt.xlabel('False Positive Rate (Fall-Out)', fontsize=14) # Not shown\n",
    "    plt.ylabel('True Positive Rate (Recall)', fontsize=14)    # Not shown\n",
    "    plt.grid(True)                                            # Not shown\n",
    "\n",
    "plot_roc_curve(fpr_forest, tpr_forest)\n",
    "plt.title(\"ROC curve for Blood Donor/suspect Blood Donor accuracy\")\n",
    "plt.show()"
   ]
  },
  {
   "cell_type": "code",
   "execution_count": 247,
   "id": "24231651",
   "metadata": {},
   "outputs": [
    {
     "data": {
      "text/plain": [
       "0.9820617283950616"
      ]
     },
     "execution_count": 247,
     "metadata": {},
     "output_type": "execute_result"
    }
   ],
   "source": [
    "from sklearn.metrics import roc_auc_score\n",
    "roc_auc_score(Z_y_bool, y_scores_forest)"
   ]
  },
  {
   "cell_type": "markdown",
   "id": "3d52f404",
   "metadata": {},
   "source": [
    "### END of RF"
   ]
  },
  {
   "cell_type": "code",
   "execution_count": 272,
   "id": "a6368ed8",
   "metadata": {},
   "outputs": [
    {
     "data": {
      "text/plain": [
       "LogisticRegression(max_iter=10000, random_state=0)"
      ]
     },
     "execution_count": 272,
     "metadata": {},
     "output_type": "execute_result"
    }
   ],
   "source": [
    "#Logistic Regression\n",
    "from sklearn.linear_model import LogisticRegression\n",
    "\n",
    "LG = LogisticRegression(random_state=0, max_iter=10000)\n",
    "\n",
    "LG.fit(X_train,y_train)"
   ]
  },
  {
   "cell_type": "code",
   "execution_count": 273,
   "id": "bbcedf68",
   "metadata": {},
   "outputs": [
    {
     "name": "stdout",
     "output_type": "stream",
     "text": [
      "[[161   1   0   0]\n",
      " [  1   4   1   1]\n",
      " [  1   2   3   0]\n",
      " [  3   0   2   4]]\n",
      "0.9347826086956522\n"
     ]
    }
   ],
   "source": [
    "from sklearn.metrics import confusion_matrix,accuracy_score\n",
    "model_LG= LG\n",
    "\n",
    "pred_LG=model_LG.predict(X_test)\n",
    "cm=confusion_matrix(y_test,pred_LG)\n",
    "AS_LG=accuracy_score(y_test,pred_LG)\n",
    "\n",
    "print(cm_LG)\n",
    "print(AS_LG)"
   ]
  },
  {
   "cell_type": "code",
   "execution_count": 274,
   "id": "b1f2f6fe",
   "metadata": {},
   "outputs": [
    {
     "data": {
      "text/plain": [
       "0.9938271604938271"
      ]
     },
     "execution_count": 274,
     "metadata": {},
     "output_type": "execute_result"
    }
   ],
   "source": [
    "# Blood Donor/suspect Blood Donor accuracy\n",
    "\n",
    "161/162"
   ]
  },
  {
   "cell_type": "code",
   "execution_count": 275,
   "id": "3e29dcf6",
   "metadata": {},
   "outputs": [
    {
     "data": {
      "text/plain": [
       "0.5714285714285714"
      ]
     },
     "execution_count": 275,
     "metadata": {},
     "output_type": "execute_result"
    }
   ],
   "source": [
    "# Hepatitis\n",
    "\n",
    "4/7"
   ]
  },
  {
   "cell_type": "code",
   "execution_count": 276,
   "id": "49a76f7f",
   "metadata": {},
   "outputs": [
    {
     "data": {
      "text/plain": [
       "0.5"
      ]
     },
     "execution_count": 276,
     "metadata": {},
     "output_type": "execute_result"
    }
   ],
   "source": [
    "# Fibrosis\n",
    "\n",
    "3/6"
   ]
  },
  {
   "cell_type": "code",
   "execution_count": 277,
   "id": "556a726e",
   "metadata": {},
   "outputs": [
    {
     "data": {
      "text/plain": [
       "0.4444444444444444"
      ]
     },
     "execution_count": 277,
     "metadata": {},
     "output_type": "execute_result"
    }
   ],
   "source": [
    "# Cirrhosis\n",
    "\n",
    "4/9"
   ]
  },
  {
   "cell_type": "markdown",
   "id": "da5b60e7",
   "metadata": {},
   "source": [
    "### All above are accuracy"
   ]
  },
  {
   "cell_type": "code",
   "execution_count": 278,
   "id": "ebae12b5",
   "metadata": {},
   "outputs": [
    {
     "name": "stdout",
     "output_type": "stream",
     "text": [
      "Sensitivity for Blood Donor/suspect Blood Donor accuracy:  0.9938271604938271\n",
      "Specificity for Blood Donor/suspect Blood Donor accuracy:  0.7727272727272727\n"
     ]
    }
   ],
   "source": [
    "sensitivity1 = cm[0,0]/(cm[0,0]+cm[0,1]+ cm[0,2]+cm[0,3])\n",
    "print('Sensitivity for Blood Donor/suspect Blood Donor accuracy: ', sensitivity1)\n",
    "\n",
    "specificity1 = (cm[1,1] + cm[1,2] + cm[1,3] + cm[2,1] + cm[2,2] + cm[2,3] + cm[3,1] + cm[3,2] + cm[3,3]) / (cm[1,1] + cm[1,2] + cm[1,3] + cm[2,1] + cm[2,2] + cm[2,3] + cm[3,1] + cm[3,2] + cm[3,3] + cm[1,0] + cm[2,0] + cm[3,0])\n",
    "print('Specificity for Blood Donor/suspect Blood Donor accuracy: ', specificity1)"
   ]
  },
  {
   "cell_type": "code",
   "execution_count": 279,
   "id": "2fd9c23b",
   "metadata": {},
   "outputs": [
    {
     "name": "stdout",
     "output_type": "stream",
     "text": [
      "Sensitivity for Hepatitis accuracy:  0.5714285714285714\n",
      "Specificity for Hepatitis accuracy:  0.9830508474576272\n"
     ]
    }
   ],
   "source": [
    "sensitivity1 = cm[1,1]/(cm[1,1]+cm[1,0]+ cm[1,2]+cm[1,3])\n",
    "print('Sensitivity for Hepatitis accuracy: ', sensitivity1)\n",
    "\n",
    "specificity1 = (cm[0,0] + cm[0,2] + cm[0,3] + cm[2,0] + cm[2,2] + cm[2,3] + cm[3,0] + cm[3,2] + cm[3,3]) / ((cm[0,0] + cm[0,2] + cm[0,3] + cm[2,0] + cm[2,2] + cm[2,3] + cm[3,0] + cm[3,2] + cm[3,3]) + cm[0,1] + cm[2,1] + cm[3,1])\n",
    "print('Specificity for Hepatitis accuracy: ', specificity1)"
   ]
  },
  {
   "cell_type": "code",
   "execution_count": 280,
   "id": "3db4c8c5",
   "metadata": {},
   "outputs": [
    {
     "name": "stdout",
     "output_type": "stream",
     "text": [
      "Sensitivity for Fibrosis accuracy:  0.5\n",
      "Specificity for Fibrosis accuracy:  0.9831460674157303\n"
     ]
    }
   ],
   "source": [
    "sensitivity1 = cm[2,2]/(cm[2,2]+cm[2,0]+ cm[2,1]+cm[2,3])\n",
    "print('Sensitivity for Fibrosis accuracy: ', sensitivity1)\n",
    "\n",
    "specificity1 = (cm[1,0] + cm[1,1] + cm[1,3] + cm[0,1] + cm[0,0] + cm[0,3] + cm[3,1] + cm[3,0] + cm[3,3]) / ((cm[1,0] + cm[1,1] + cm[1,3] + cm[0,1] + cm[0,0] + cm[0,3] + cm[3,1] + cm[3,0] + cm[3,3])+cm[0,2]+cm[1,2]+cm[3,2])\n",
    "print('Specificity for Fibrosis accuracy: ', specificity1)"
   ]
  },
  {
   "cell_type": "code",
   "execution_count": 281,
   "id": "4fd36416",
   "metadata": {},
   "outputs": [
    {
     "name": "stdout",
     "output_type": "stream",
     "text": [
      "Sensitivity for Cirrhosis accuracy:  0.4444444444444444\n",
      "Specificity for Cirrhosis accuracy:  0.9942857142857143\n"
     ]
    }
   ],
   "source": [
    "sensitivity1 = cm[3,3]/(cm[3,3]+cm[3,1]+ cm[3,2]+cm[3,0])\n",
    "print('Sensitivity for Cirrhosis accuracy: ', sensitivity1)\n",
    "\n",
    "specificity1 = (cm[0,0]+cm[0,1]+cm[0,2]+cm[1,0]+cm[1,1]+cm[1,2]+cm[2,0]+cm[2,1]+cm[2,2])/(cm[0,0]+cm[0,1]+cm[0,2]+cm[1,0]+cm[1,1]+cm[1,2]+cm[2,0]+cm[2,1]+cm[2,2]+cm[0,3]+cm[1,3]+cm[2,3])\n",
    "print('Specificity for Cirrhosis accuracy: ', specificity1)"
   ]
  },
  {
   "cell_type": "code",
   "execution_count": 282,
   "id": "f554d534",
   "metadata": {},
   "outputs": [],
   "source": [
    "Z_y_bool = Z_y == 3"
   ]
  },
  {
   "cell_type": "code",
   "execution_count": 283,
   "id": "af45ae35",
   "metadata": {},
   "outputs": [
    {
     "data": {
      "image/png": "[encoded data removed]",
      "text/plain": [
       "<Figure size 432x288 with 1 Axes>"
      ]
     },
     "metadata": {
      "needs_background": "light"
     },
     "output_type": "display_data"
    }
   ],
   "source": [
    "y_probas = cross_val_predict(model_LG, Z_x.values, Z_y_bool, cv=5,\n",
    "                                    method=\"predict_proba\")\n",
    "\n",
    "y_scores = y_probas[:, 1] # score = proba of positive class\n",
    "fpr, tpr, thresholds = roc_curve(Z_y_bool, y_scores)\n",
    "\n",
    "\n",
    "def plot_roc_curve(fpr, tpr, label=None):\n",
    "    plt.plot(fpr, tpr, linewidth=2, label=label)\n",
    "    plt.plot([0, 1], [0, 1], 'k--') # dashed diagonal\n",
    "    plt.axis([0, 1, 0, 1])                                    # Not shown in the book\n",
    "    plt.xlabel('False Positive Rate (Fall-Out)', fontsize=14) # Not shown\n",
    "    plt.ylabel('True Positive Rate (Recall)', fontsize=14)    # Not shown\n",
    "    plt.grid(True)                                            # Not shown\n",
    "\n",
    "plot_roc_curve(fpr, tpr)\n",
    "plt.title(\"ROC curve for 3=Cirrhosis\")\n",
    "plt.show()"
   ]
  },
  {
   "cell_type": "code",
   "execution_count": 284,
   "id": "81b06ca6",
   "metadata": {},
   "outputs": [
    {
     "data": {
      "text/plain": [
       "0.930940170940171"
      ]
     },
     "execution_count": 284,
     "metadata": {},
     "output_type": "execute_result"
    }
   ],
   "source": [
    "from sklearn.metrics import roc_auc_score\n",
    "roc_auc_score(Z_y_bool, y_scores)"
   ]
  },
  {
   "cell_type": "code",
   "execution_count": 285,
   "id": "ddedb654",
   "metadata": {},
   "outputs": [],
   "source": [
    "Z_y_bool = Z_y == 2"
   ]
  },
  {
   "cell_type": "code",
   "execution_count": 286,
   "id": "ad1a0e21",
   "metadata": {},
   "outputs": [
    {
     "data": {
      "image/png": "[encoded data removed]",
      "text/plain": [
       "<Figure size 432x288 with 1 Axes>"
      ]
     },
     "metadata": {
      "needs_background": "light"
     },
     "output_type": "display_data"
    }
   ],
   "source": [
    "y_probas = cross_val_predict(model_LG, Z_x.values, Z_y_bool, cv=5,\n",
    "                                    method=\"predict_proba\")\n",
    "\n",
    "y_scores = y_probas[:, 1] # score = proba of positive class\n",
    "fpr, tpr, thresholds = roc_curve(Z_y_bool, y_scores)\n",
    "\n",
    "\n",
    "def plot_roc_curve(fpr, tpr, label=None):\n",
    "    plt.plot(fpr, tpr, linewidth=2, label=label)\n",
    "    plt.plot([0, 1], [0, 1], 'k--') # dashed diagonal\n",
    "    plt.axis([0, 1, 0, 1])                                    # Not shown in the book\n",
    "    plt.xlabel('False Positive Rate (Fall-Out)', fontsize=14) # Not shown\n",
    "    plt.ylabel('True Positive Rate (Recall)', fontsize=14)    # Not shown\n",
    "    plt.grid(True)                                            # Not shown\n",
    "\n",
    "plot_roc_curve(fpr, tpr)\n",
    "plt.title(\"ROC curve for 2=Fibrosis\")\n",
    "plt.show()"
   ]
  },
  {
   "cell_type": "code",
   "execution_count": 287,
   "id": "2516ce2f",
   "metadata": {},
   "outputs": [
    {
     "data": {
      "text/plain": [
       "0.9333012666346001"
      ]
     },
     "execution_count": 287,
     "metadata": {},
     "output_type": "execute_result"
    }
   ],
   "source": [
    "from sklearn.metrics import roc_auc_score\n",
    "roc_auc_score(Z_y_bool, y_scores)"
   ]
  },
  {
   "cell_type": "code",
   "execution_count": 288,
   "id": "dc26d42e",
   "metadata": {},
   "outputs": [],
   "source": [
    "Z_y_bool = Z_y == 1"
   ]
  },
  {
   "cell_type": "code",
   "execution_count": 289,
   "id": "fb9c9872",
   "metadata": {},
   "outputs": [
    {
     "data": {
      "image/png": "[encoded data removed]",
      "text/plain": [
       "<Figure size 432x288 with 1 Axes>"
      ]
     },
     "metadata": {
      "needs_background": "light"
     },
     "output_type": "display_data"
    }
   ],
   "source": [
    "y_probas = cross_val_predict(model_LG, Z_x.values, Z_y_bool, cv=5,\n",
    "                                    method=\"predict_proba\")\n",
    "\n",
    "y_scores = y_probas[:, 1] # score = proba of positive class\n",
    "fpr, tpr, thresholds = roc_curve(Z_y_bool, y_scores)\n",
    "\n",
    "\n",
    "def plot_roc_curve(fpr, tpr, label=None):\n",
    "    plt.plot(fpr, tpr, linewidth=2, label=label)\n",
    "    plt.plot([0, 1], [0, 1], 'k--') # dashed diagonal\n",
    "    plt.axis([0, 1, 0, 1])                                    # Not shown in the book\n",
    "    plt.xlabel('False Positive Rate (Fall-Out)', fontsize=14) # Not shown\n",
    "    plt.ylabel('True Positive Rate (Recall)', fontsize=14)    # Not shown\n",
    "    plt.grid(True)                                            # Not shown\n",
    "\n",
    "plot_roc_curve(fpr, tpr)\n",
    "plt.title(\"ROC curve for 1=Hepatitis\")\n",
    "plt.show()"
   ]
  },
  {
   "cell_type": "code",
   "execution_count": 290,
   "id": "19e4d6e3",
   "metadata": {},
   "outputs": [
    {
     "data": {
      "text/plain": [
       "0.9249153976311337"
      ]
     },
     "execution_count": 290,
     "metadata": {},
     "output_type": "execute_result"
    }
   ],
   "source": [
    "from sklearn.metrics import roc_auc_score\n",
    "roc_auc_score(Z_y_bool, y_scores)"
   ]
  },
  {
   "cell_type": "code",
   "execution_count": 291,
   "id": "f1f07888",
   "metadata": {},
   "outputs": [],
   "source": [
    "Z_y_bool = Z_y == 0"
   ]
  },
  {
   "cell_type": "code",
   "execution_count": 292,
   "id": "3e6a5511",
   "metadata": {},
   "outputs": [
    {
     "data": {
      "image/png": "[encoded data removed]",
      "text/plain": [
       "<Figure size 432x288 with 1 Axes>"
      ]
     },
     "metadata": {
      "needs_background": "light"
     },
     "output_type": "display_data"
    }
   ],
   "source": [
    "y_probas = cross_val_predict(model_LG, Z_x.values, Z_y_bool, cv=5,\n",
    "                                    method=\"predict_proba\")\n",
    "\n",
    "y_scores = y_probas[:, 1] # score = proba of positive class\n",
    "fpr, tpr, thresholds = roc_curve(Z_y_bool, y_scores)\n",
    "\n",
    "\n",
    "def plot_roc_curve(fpr, tpr, label=None):\n",
    "    plt.plot(fpr, tpr, linewidth=2, label=label)\n",
    "    plt.plot([0, 1], [0, 1], 'k--') # dashed diagonal\n",
    "    plt.axis([0, 1, 0, 1])                                    # Not shown in the book\n",
    "    plt.xlabel('False Positive Rate (Fall-Out)', fontsize=14) # Not shown\n",
    "    plt.ylabel('True Positive Rate (Recall)', fontsize=14)    # Not shown\n",
    "    plt.grid(True)                                            # Not shown\n",
    "\n",
    "plot_roc_curve(fpr, tpr)\n",
    "plt.title(\"ROC curve for lood Donor/suspect Blood Donor accuracy\")\n",
    "plt.show()"
   ]
  },
  {
   "cell_type": "code",
   "execution_count": 293,
   "id": "05cfafc5",
   "metadata": {},
   "outputs": [
    {
     "data": {
      "text/plain": [
       "0.9140246913580247"
      ]
     },
     "execution_count": 293,
     "metadata": {},
     "output_type": "execute_result"
    }
   ],
   "source": [
    "from sklearn.metrics import roc_auc_score\n",
    "roc_auc_score(Z_y_bool, y_scores)"
   ]
  },
  {
   "cell_type": "markdown",
   "id": "000aae3e",
   "metadata": {},
   "source": [
    "## END"
   ]
  },
  {
   "cell_type": "code",
   "execution_count": null,
   "id": "3acc9259",
   "metadata": {},
   "outputs": [],
   "source": []
  },
  {
   "cell_type": "code",
   "execution_count": null,
   "id": "6b59ee92",
   "metadata": {},
   "outputs": [],
   "source": []
  },
  {
   "cell_type": "code",
   "execution_count": null,
   "id": "900cdebb",
   "metadata": {},
   "outputs": [],
   "source": []
  },
  {
   "cell_type": "code",
   "execution_count": 48,
   "id": "d956a3fc",
   "metadata": {},
   "outputs": [],
   "source": [
    "# import pandas as pd"
   ]
  },
  {
   "cell_type": "code",
   "execution_count": 49,
   "id": "a6ee75c2",
   "metadata": {
    "scrolled": false
   },
   "outputs": [],
   "source": [
    "# hcv = pd.read_csv(\"HCV-Egy-Data.csv\")\n",
    "# hcv"
   ]
  },
  {
   "cell_type": "markdown",
   "id": "4d75b5c0",
   "metadata": {},
   "source": [
    "We can see that there are 1385 observations and 29 variables in this dataset."
   ]
  },
  {
   "cell_type": "code",
   "execution_count": 50,
   "id": "a7be8033",
   "metadata": {},
   "outputs": [],
   "source": [
    "# hcv.info()"
   ]
  },
  {
   "cell_type": "markdown",
   "id": "afe28c80",
   "metadata": {},
   "source": [
    "We can see that there is no missing value in this dataset and all variables are numerical (not categorical)."
   ]
  },
  {
   "cell_type": "code",
   "execution_count": 51,
   "id": "3d54d8ca",
   "metadata": {
    "scrolled": true
   },
   "outputs": [],
   "source": [
    "# hcv['Baselinehistological staging'].value_counts(normalize = True)"
   ]
  },
  {
   "cell_type": "markdown",
   "id": "b82e2f5a",
   "metadata": {},
   "source": [
    "I randomly assign 80% of the dataset into training dataset and the rest of the dataset into test dataset. "
   ]
  },
  {
   "cell_type": "code",
   "execution_count": 52,
   "id": "cbd95099",
   "metadata": {},
   "outputs": [],
   "source": [
    "# from sklearn.model_selection import StratifiedShuffleSplit\n",
    "\n",
    "# sss = StratifiedShuffleSplit(n_splits=1, test_size=0.2, random_state=1)\n",
    "# for train_index, test_index in sss.split(hcv, hcv['Baselinehistological staging']):\n",
    "#     hcv_train_set = hcv.iloc[hcv.index.intersection(train_index)]\n",
    "#     hcv_test_set = hcv.iloc[hcv.index.intersection(test_index)]"
   ]
  },
  {
   "cell_type": "code",
   "execution_count": 53,
   "id": "18ccb405",
   "metadata": {},
   "outputs": [],
   "source": [
    "# hcv_train_set.shape,hcv_test_set.shape"
   ]
  },
  {
   "cell_type": "code",
   "execution_count": 54,
   "id": "37203204",
   "metadata": {},
   "outputs": [],
   "source": [
    "# hcv_train_set['Baselinehistological staging'].value_counts(normalize = True)"
   ]
  },
  {
   "cell_type": "code",
   "execution_count": 55,
   "id": "ea60efaf",
   "metadata": {},
   "outputs": [],
   "source": [
    "# hcv_test_set['Baselinehistological staging'].value_counts(normalize = True)"
   ]
  },
  {
   "cell_type": "code",
   "execution_count": 56,
   "id": "d59baa39",
   "metadata": {},
   "outputs": [],
   "source": [
    "# hcv_train_X = hcv_train_set.drop('Baselinehistological staging',axis=1)\n",
    "# hcv_train_y = hcv_train_set['Baselinehistological staging'].copy()\n",
    "# hcv_test_X = hcv_test_set.drop('Baselinehistological staging',axis=1)\n",
    "# hcv_test_y = hcv_test_set[['Baselinehistological staging']].copy()"
   ]
  },
  {
   "cell_type": "code",
   "execution_count": 57,
   "id": "a9b1f9dd",
   "metadata": {},
   "outputs": [],
   "source": [
    "# from sklearn.metrics import accuracy_score\n",
    "# from sklearn.metrics import classification_report, confusion_matrix\n",
    "# from sklearn.ensemble import RandomForestClassifier\n",
    "# from sklearn.model_selection import train_test_split\n",
    "\n",
    "\n",
    "# model = RandomForestClassifier(n_estimators=45,\n",
    "#                        random_state=seed, \n",
    "#                        criterion='entropy',\n",
    "#                        max_depth=5, \n",
    "#                        min_samples_split=2)\n",
    "\n",
    "# model.fit(hcv_train_X, hcv_train_y)\n",
    "\n",
    "# y_pred = model.predict(hcv_test_X)\n",
    "\n",
    "# # evaluate predictions\n",
    "# accuracy = model.score(hcv_test_X, hcv_test_y)\n",
    "# print(\"Accuracy: %.2f%%\" % (accuracy * 100.0))"
   ]
  },
  {
   "cell_type": "code",
   "execution_count": 58,
   "id": "e9e474b7",
   "metadata": {},
   "outputs": [],
   "source": [
    "# print(confusion_matrix(hcv_test_y, y_pred))"
   ]
  },
  {
   "cell_type": "code",
   "execution_count": null,
   "id": "c45cae45",
   "metadata": {},
   "outputs": [],
   "source": []
  }
 ],
 "metadata": {
  "kernelspec": {
   "display_name": "Python 3",
   "language": "python",
   "name": "python3"
  },
  "language_info": {
   "codemirror_mode": {
    "name": "ipython",
    "version": 3
   },
   "file_extension": ".py",
   "mimetype": "text/x-python",
   "name": "python",
   "nbconvert_exporter": "python",
   "pygments_lexer": "ipython3",
   "version": "3.8.8"
  }
 },
 "nbformat": 4,
 "nbformat_minor": 5
}
