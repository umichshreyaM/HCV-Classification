{
  "nbformat": 4,
  "nbformat_minor": 0,
  "metadata": {
    "colab": {
      "name": "project.ipynb",
      "provenance": []
    },
    "kernelspec": {
      "name": "python3",
      "display_name": "Python 3"
    },
    "language_info": {
      "name": "python"
    }
  },
  "cells": [
    {
      "cell_type": "markdown",
      "source": [
        "I read the article to learn and use the code here.\n",
        "https://machinelearningmastery.com/multi-class-imbalanced-classification/"
      ],
      "metadata": {
        "id": "yoT9KTGtX_AB"
      }
    },
    {
      "cell_type": "code",
      "execution_count": 1,
      "metadata": {
        "id": "E90uX6A9Wc6S"
      },
      "outputs": [],
      "source": [
        "import pandas as pd\n",
        "import numpy as np\n",
        "import matplotlib.pyplot as plt\n",
        "import imblearn"
      ]
    },
    {
      "cell_type": "code",
      "source": [
        "X_train = pd.read_csv(\"train_x.csv\")\n",
        "y_train = pd.read_csv(\"train_labels.csv\")\n",
        "X_test = pd.read_csv(\"test_x.csv\")\n",
        "y_test = pd.read_csv(\"test_labels.csv\")"
      ],
      "metadata": {
        "id": "lgPSxEFrWnv3"
      },
      "execution_count": 2,
      "outputs": []
    },
    {
      "cell_type": "code",
      "source": [
        "y_train = np.ravel(y_train)\n",
        "y_test = np.ravel(y_test)"
      ],
      "metadata": {
        "id": "PVX-QmxnWqb1"
      },
      "execution_count": 3,
      "outputs": []
    },
    {
      "cell_type": "code",
      "source": [
        "from imblearn.over_sampling import SMOTE\n",
        "from collections import Counter\n",
        "from matplotlib import pyplot\n",
        "\n",
        "\n",
        "# transform the dataset\n",
        "oversample = SMOTE()\n",
        "X, y = oversample.fit_resample(X_train, y_train)\n",
        "# summarize distribution\n",
        "counter = Counter(y)\n",
        "for k,v in counter.items():\n",
        "\tper = v / len(y) * 100\n",
        "\tprint('Class=%d, n=%d (%.3f%%)' % (k, v, per))\n",
        "# plot the distribution\n",
        "pyplot.bar(counter.keys(), counter.values())\n",
        "pyplot.show()"
      ],
      "metadata": {
        "colab": {
          "base_uri": "https://localhost:8080/",
          "height": 334
        },
        "id": "9Psu1Iu0Wr0g",
        "outputId": "0513185a-e2fc-4158-ec0b-1abb777943f9"
      },
      "execution_count": 4,
      "outputs": [
        {
          "output_type": "stream",
          "name": "stdout",
          "text": [
            "Class=0, n=378 (25.000%)\n",
            "Class=1, n=378 (25.000%)\n",
            "Class=2, n=378 (25.000%)\n",
            "Class=3, n=378 (25.000%)\n"
          ]
        },
        {
          "output_type": "display_data",
          "data": {
            "text/plain": [
              "<Figure size 432x288 with 1 Axes>"
            ],
            "image/png": "[encoded data removed]"
          },
          "metadata": {
            "needs_background": "light"
          }
        }
      ]
    },
    {
      "cell_type": "code",
      "source": [
        "#Random Forest\n",
        "from sklearn.ensemble import RandomForestClassifier\n",
        "from sklearn.model_selection import train_test_split\n",
        "from sklearn.model_selection import GridSearchCV\n",
        "\n",
        "model = RandomForestClassifier()\n",
        "\n",
        "model.fit(X,y)\n",
        "\n",
        "param_grid = {\n",
        "                'n_estimators': [5, 10, 20, 30, 40, 50],\n",
        "                'max_depth': [2, 7, 12, 17],\n",
        "                'criterion': [\"entropy\"],\n",
        "                'random_state': [0],\n",
        "             }\n",
        "\n",
        "grid_clf1 = GridSearchCV(model, param_grid, cv=5, n_jobs=-1)\n",
        "grid_clf1.fit(X,y)"
      ],
      "metadata": {
        "colab": {
          "base_uri": "https://localhost:8080/"
        },
        "id": "VP2saMq0WuvG",
        "outputId": "59522f32-230a-43bb-9fe8-2b8e0f98d6f7"
      },
      "execution_count": 17,
      "outputs": [
        {
          "output_type": "execute_result",
          "data": {
            "text/plain": [
              "GridSearchCV(cv=5, estimator=RandomForestClassifier(), n_jobs=-1,\n",
              "             param_grid={'criterion': ['entropy'], 'max_depth': [2, 7, 12, 17],\n",
              "                         'n_estimators': [5, 10, 20, 30, 40, 50],\n",
              "                         'random_state': [0]})"
            ]
          },
          "metadata": {},
          "execution_count": 17
        }
      ]
    },
    {
      "cell_type": "code",
      "source": [
        "grid_clf1.best_estimator_"
      ],
      "metadata": {
        "colab": {
          "base_uri": "https://localhost:8080/"
        },
        "id": "00ZQ51JuW4_C",
        "outputId": "a8f5e34d-b05c-4664-d546-d57bc6e554e2"
      },
      "execution_count": 18,
      "outputs": [
        {
          "output_type": "execute_result",
          "data": {
            "text/plain": [
              "RandomForestClassifier(criterion='entropy', max_depth=12, n_estimators=20,\n",
              "                       random_state=0)"
            ]
          },
          "metadata": {},
          "execution_count": 18
        }
      ]
    },
    {
      "cell_type": "code",
      "source": [
        "from sklearn.metrics import confusion_matrix,accuracy_score\n",
        "\n",
        "pred=grid_clf1.best_estimator_.predict(X_test)\n",
        "cm=confusion_matrix(y_test,pred)\n",
        "AS=accuracy_score(y_test,pred)\n",
        "\n",
        "print(cm)\n",
        "print(AS)"
      ],
      "metadata": {
        "colab": {
          "base_uri": "https://localhost:8080/"
        },
        "id": "VkwPto8bXFyD",
        "outputId": "7f2bc69b-3884-426b-f35f-610efd5f308a"
      },
      "execution_count": 19,
      "outputs": [
        {
          "output_type": "stream",
          "name": "stdout",
          "text": [
            "[[157   0   1   4]\n",
            " [  0   4   3   0]\n",
            " [  1   4   1   0]\n",
            " [  2   1   1   5]]\n",
            "0.907608695652174\n"
          ]
        }
      ]
    },
    {
      "cell_type": "code",
      "source": [
        ""
      ],
      "metadata": {
        "id": "dqyX2zIKXh-q"
      },
      "execution_count": null,
      "outputs": []
    }
  ]
}