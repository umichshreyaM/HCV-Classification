{
 "cells": [
  {
   "cell_type": "markdown",
   "id": "5b354b38",
   "metadata": {},
   "source": [
    "# Group 15 - Final Project: Radial SVM"
   ]
  },
  {
   "cell_type": "code",
   "execution_count": 2,
   "id": "ba0a0f03",
   "metadata": {},
   "outputs": [],
   "source": [
    "# packages\n",
    "library(dplyr)\n",
    "library(tidyverse)\n",
    "library(ggplot2)\n",
    "library(ggpubr)\n",
    "library(e1071)\n",
    "library(ROCR)"
   ]
  },
  {
   "cell_type": "code",
   "execution_count": 11,
   "id": "7f379a18",
   "metadata": {},
   "outputs": [
    {
     "data": {
      "text/html": [
       "<table class=\"dataframe\">\n",
       "<caption>A data.frame: 6 × 13</caption>\n",
       "<thead>\n",
       "\t<tr><th></th><th scope=col>Category</th><th scope=col>Age</th><th scope=col>Sex</th><th scope=col>ALB</th><th scope=col>ALP</th><th scope=col>ALT</th><th scope=col>AST</th><th scope=col>BIL</th><th scope=col>CHE</th><th scope=col>CHOL</th><th scope=col>CREA</th><th scope=col>GGT</th><th scope=col>PROT</th></tr>\n",
       "\t<tr><th></th><th scope=col>&lt;fct&gt;</th><th scope=col>&lt;int&gt;</th><th scope=col>&lt;int&gt;</th><th scope=col>&lt;dbl&gt;</th><th scope=col>&lt;dbl&gt;</th><th scope=col>&lt;dbl&gt;</th><th scope=col>&lt;dbl&gt;</th><th scope=col>&lt;dbl&gt;</th><th scope=col>&lt;dbl&gt;</th><th scope=col>&lt;dbl&gt;</th><th scope=col>&lt;dbl&gt;</th><th scope=col>&lt;dbl&gt;</th><th scope=col>&lt;dbl&gt;</th></tr>\n",
       "</thead>\n",
       "<tbody>\n",
       "\t<tr><th scope=row>1</th><td>BD</td><td>32</td><td>0</td><td>38.5</td><td>70.3</td><td>18.0</td><td>24.7</td><td> 3.9</td><td>11.17</td><td>4.80</td><td> 74</td><td>15.6</td><td>76.5</td></tr>\n",
       "\t<tr><th scope=row>2</th><td>BD</td><td>32</td><td>0</td><td>46.9</td><td>74.7</td><td>36.2</td><td>52.6</td><td> 6.1</td><td> 8.84</td><td>5.20</td><td> 86</td><td>33.2</td><td>79.3</td></tr>\n",
       "\t<tr><th scope=row>3</th><td>BD</td><td>32</td><td>0</td><td>43.2</td><td>52.0</td><td>30.6</td><td>22.6</td><td>18.9</td><td> 7.33</td><td>4.74</td><td> 80</td><td>33.8</td><td>75.7</td></tr>\n",
       "\t<tr><th scope=row>4</th><td>BD</td><td>32</td><td>0</td><td>42.2</td><td>41.9</td><td>35.8</td><td>31.1</td><td>16.1</td><td> 5.82</td><td>4.60</td><td>109</td><td>21.5</td><td>67.1</td></tr>\n",
       "\t<tr><th scope=row>5</th><td>BD</td><td>32</td><td>0</td><td>44.3</td><td>52.3</td><td>21.7</td><td>22.4</td><td>17.2</td><td> 4.15</td><td>3.57</td><td> 78</td><td>24.1</td><td>75.4</td></tr>\n",
       "\t<tr><th scope=row>6</th><td>BD</td><td>33</td><td>0</td><td>36.3</td><td>78.6</td><td>23.6</td><td>22.0</td><td> 7.0</td><td> 8.56</td><td>5.38</td><td> 78</td><td>19.4</td><td>68.7</td></tr>\n",
       "</tbody>\n",
       "</table>\n"
      ],
      "text/latex": [
       "A data.frame: 6 × 13\n",
       "\\begin{tabular}{r|lllllllllllll}\n",
       "  & Category & Age & Sex & ALB & ALP & ALT & AST & BIL & CHE & CHOL & CREA & GGT & PROT\\\\\n",
       "  & <fct> & <int> & <int> & <dbl> & <dbl> & <dbl> & <dbl> & <dbl> & <dbl> & <dbl> & <dbl> & <dbl> & <dbl>\\\\\n",
       "\\hline\n",
       "\t1 & BD & 32 & 0 & 38.5 & 70.3 & 18.0 & 24.7 &  3.9 & 11.17 & 4.80 &  74 & 15.6 & 76.5\\\\\n",
       "\t2 & BD & 32 & 0 & 46.9 & 74.7 & 36.2 & 52.6 &  6.1 &  8.84 & 5.20 &  86 & 33.2 & 79.3\\\\\n",
       "\t3 & BD & 32 & 0 & 43.2 & 52.0 & 30.6 & 22.6 & 18.9 &  7.33 & 4.74 &  80 & 33.8 & 75.7\\\\\n",
       "\t4 & BD & 32 & 0 & 42.2 & 41.9 & 35.8 & 31.1 & 16.1 &  5.82 & 4.60 & 109 & 21.5 & 67.1\\\\\n",
       "\t5 & BD & 32 & 0 & 44.3 & 52.3 & 21.7 & 22.4 & 17.2 &  4.15 & 3.57 &  78 & 24.1 & 75.4\\\\\n",
       "\t6 & BD & 33 & 0 & 36.3 & 78.6 & 23.6 & 22.0 &  7.0 &  8.56 & 5.38 &  78 & 19.4 & 68.7\\\\\n",
       "\\end{tabular}\n"
      ],
      "text/markdown": [
       "\n",
       "A data.frame: 6 × 13\n",
       "\n",
       "| <!--/--> | Category &lt;fct&gt; | Age &lt;int&gt; | Sex &lt;int&gt; | ALB &lt;dbl&gt; | ALP &lt;dbl&gt; | ALT &lt;dbl&gt; | AST &lt;dbl&gt; | BIL &lt;dbl&gt; | CHE &lt;dbl&gt; | CHOL &lt;dbl&gt; | CREA &lt;dbl&gt; | GGT &lt;dbl&gt; | PROT &lt;dbl&gt; |\n",
       "|---|---|---|---|---|---|---|---|---|---|---|---|---|---|\n",
       "| 1 | BD | 32 | 0 | 38.5 | 70.3 | 18.0 | 24.7 |  3.9 | 11.17 | 4.80 |  74 | 15.6 | 76.5 |\n",
       "| 2 | BD | 32 | 0 | 46.9 | 74.7 | 36.2 | 52.6 |  6.1 |  8.84 | 5.20 |  86 | 33.2 | 79.3 |\n",
       "| 3 | BD | 32 | 0 | 43.2 | 52.0 | 30.6 | 22.6 | 18.9 |  7.33 | 4.74 |  80 | 33.8 | 75.7 |\n",
       "| 4 | BD | 32 | 0 | 42.2 | 41.9 | 35.8 | 31.1 | 16.1 |  5.82 | 4.60 | 109 | 21.5 | 67.1 |\n",
       "| 5 | BD | 32 | 0 | 44.3 | 52.3 | 21.7 | 22.4 | 17.2 |  4.15 | 3.57 |  78 | 24.1 | 75.4 |\n",
       "| 6 | BD | 33 | 0 | 36.3 | 78.6 | 23.6 | 22.0 |  7.0 |  8.56 | 5.38 |  78 | 19.4 | 68.7 |\n",
       "\n"
      ],
      "text/plain": [
       "  Category Age Sex ALB  ALP  ALT  AST  BIL  CHE   CHOL CREA GGT  PROT\n",
       "1 BD       32  0   38.5 70.3 18.0 24.7  3.9 11.17 4.80  74  15.6 76.5\n",
       "2 BD       32  0   46.9 74.7 36.2 52.6  6.1  8.84 5.20  86  33.2 79.3\n",
       "3 BD       32  0   43.2 52.0 30.6 22.6 18.9  7.33 4.74  80  33.8 75.7\n",
       "4 BD       32  0   42.2 41.9 35.8 31.1 16.1  5.82 4.60 109  21.5 67.1\n",
       "5 BD       32  0   44.3 52.3 21.7 22.4 17.2  4.15 3.57  78  24.1 75.4\n",
       "6 BD       33  0   36.3 78.6 23.6 22.0  7.0  8.56 5.38  78  19.4 68.7"
      ]
     },
     "metadata": {},
     "output_type": "display_data"
    }
   ],
   "source": [
    "# train dataset : weighted SMOTE\n",
    "train.x.wSMOTE = read.csv(\"X_train_wSMOTE.csv\")\n",
    "train.labels.wSMOTE = read.csv(\"Y_train_wSMOTE.csv\") %>% \n",
    "                        transmute(Category = case_when(V1 == 0 ~ \"BD\",\n",
    "                                                       V1 == 1 ~ \"H\",\n",
    "                                                       V1 == 2 ~ \"F\",\n",
    "                                                       V1 == 3 ~ \"C\")) %>%\n",
    "                        mutate(Category = as.factor(Category))  \n",
    "train.wSMOTE = data.frame(train.labels.wSMOTE, train.x.wSMOTE)\n",
    "\n",
    "# test dataset :\n",
    "test_x = read.csv(\"test_x.csv\")\n",
    "test_labels = read.csv(\"test_labels.csv\") %>% \n",
    "                    transmute(Category = case_when(V1 == 0 ~ \"BD\",\n",
    "                                                   V1 == 1 ~ \"H\",\n",
    "                                                   V1 == 2 ~ \"F\",\n",
    "                                                   V1 == 3 ~ \"C\")) %>%\n",
    "                    mutate(Category = as.factor(Category)) \n",
    "test = data.frame(test_labels, test_x)\n",
    "head(train.wSMOTE)"
   ]
  },
  {
   "cell_type": "code",
   "execution_count": 8,
   "id": "c18175e3",
   "metadata": {},
   "outputs": [],
   "source": [
    "# initial settings\n",
    "kernels <- c('radial')\n",
    "cost0 <- 10^(seq(-2, 2, 0.1))\n",
    "gamma0 <- 10^(seq(-5, 5, 0.1))\n",
    "degree0 <- c(1, 2, 3, 4, 5)\n",
    "\n",
    "# vector of lists to store tuning results\n",
    "tune_result.wSMOTE <- vector('list', 1)\n",
    "\n",
    "# reproducability\n",
    "set.seed(0)\n",
    "\n",
    "# tuning the radial kernel SVM\n",
    "tune_result.wSMOTE = tune(svm, Category ~ ., data = train.wSMOTE, kernel = kernels,\n",
    "                          scale = FALSE, range = list(cost = cost0, gamma = gamma0),\n",
    "                          tunecontrol = tune.control(cross = 5))"
   ]
  },
  {
   "cell_type": "code",
   "execution_count": 9,
   "id": "5ed5124a",
   "metadata": {},
   "outputs": [],
   "source": [
    "##### Best model for radial kernel\n",
    "# hyper parameters for the best model\n",
    "hyper = tune_result.wSMOTE$best.parameters\n",
    "# radial kernel SVM with the hyper parameters and probabilities\n",
    "best.models.wSMOTE <- svm(Category ~ ., data = train.wSMOTE, probability = TRUE,\n",
    "                          kernel = kernels, scale = FALSE, cost = hyper[,1], gamma = hyper[,2])"
   ]
  },
  {
   "cell_type": "code",
   "execution_count": 17,
   "id": "a14d09c1",
   "metadata": {},
   "outputs": [
    {
     "data": {
      "text/html": [
       "<table class=\"dataframe\">\n",
       "<caption>A data.frame: 1 × 2</caption>\n",
       "<thead>\n",
       "\t<tr><th></th><th scope=col>cost</th><th scope=col>gamma</th></tr>\n",
       "\t<tr><th></th><th scope=col>&lt;dbl&gt;</th><th scope=col>&lt;dbl&gt;</th></tr>\n",
       "</thead>\n",
       "<tbody>\n",
       "\t<tr><th scope=row>765</th><td>3.981072</td><td>0.0006309573</td></tr>\n",
       "</tbody>\n",
       "</table>\n"
      ],
      "text/latex": [
       "A data.frame: 1 × 2\n",
       "\\begin{tabular}{r|ll}\n",
       "  & cost & gamma\\\\\n",
       "  & <dbl> & <dbl>\\\\\n",
       "\\hline\n",
       "\t765 & 3.981072 & 0.0006309573\\\\\n",
       "\\end{tabular}\n"
      ],
      "text/markdown": [
       "\n",
       "A data.frame: 1 × 2\n",
       "\n",
       "| <!--/--> | cost &lt;dbl&gt; | gamma &lt;dbl&gt; |\n",
       "|---|---|---|\n",
       "| 765 | 3.981072 | 0.0006309573 |\n",
       "\n"
      ],
      "text/plain": [
       "    cost     gamma       \n",
       "765 3.981072 0.0006309573"
      ]
     },
     "metadata": {},
     "output_type": "display_data"
    }
   ],
   "source": [
    "##### Results for the best model\n",
    "hyper"
   ]
  },
  {
   "cell_type": "code",
   "execution_count": 15,
   "id": "ca5857ef",
   "metadata": {},
   "outputs": [],
   "source": [
    "##### Predicted classes & Confusion matrix & Overall accuracy & Confusion matrix & Recall & Precision & F-1 score\n",
    "results.wSMOTE <- vector('list', 1)\n",
    "\n",
    "    # array to store results for each model\n",
    "    a <- array(list(), 2)\n",
    "\n",
    "    #### training data\n",
    "    ## prediction\n",
    "    pred = predict(best.models.wSMOTE, train.wSMOTE[, -1])\n",
    "    ## confusion matrix\n",
    "    confusion = table(predict = pred, truth = train.wSMOTE$Category)\n",
    "    ## overall error\n",
    "    overall = mean(pred == train.wSMOTE$Category)\n",
    "    ## error for each class\n",
    "    each.class = round(diag(confusion)/table(train.wSMOTE$Category), 2)\n",
    "    a[[1]] <- list(pred = pred, confusion = confusion, overall = overall, \n",
    "                   recall.each.class = each.class)\n",
    "    #### test data\n",
    "    ## prediction\n",
    "    pred = predict(best.models.wSMOTE, test[, -1])\n",
    "    ## confusion matrix\n",
    "    confusion = table(truth = test$Category, predict = pred)\n",
    "    ## overall accuracy\n",
    "    accuracy = mean(pred == test$Category)\n",
    "    ## recall \n",
    "    recall = round(diag(confusion)/table(test$Category), 2)\n",
    "    ## precision \n",
    "    precision = round(diag(confusion)/table(pred),2)\n",
    "    ## F-1 score \n",
    "    F_1 = round(2*recall*precision/(recall+precision), 2)\n",
    "    a[[2]] <- list(pred = pred, confusion = confusion, accuracy = accuracy, \n",
    "                   precision = precision, recall = recall, F_1 = F_1)\n",
    "    \n",
    "    # combine training & test results into 'results' list\n",
    "    results.wSMOTE <- a"
   ]
  },
  {
   "cell_type": "code",
   "execution_count": 16,
   "id": "3e95b52c",
   "metadata": {},
   "outputs": [
    {
     "data": {
      "text/plain": [
       "$pred\n",
       "  1   2   3   4   5   6   7   8   9  10  11  12  13  14  15  16  17  18  19  20 \n",
       " BD  BD  BD  BD  BD  BD  BD  BD  BD  BD  BD  BD  BD  BD  BD  BD  BD  BD  BD  BD \n",
       " 21  22  23  24  25  26  27  28  29  30  31  32  33  34  35  36  37  38  39  40 \n",
       " BD  BD  BD  BD  BD  BD  BD  BD  BD  BD  BD  BD  BD  BD  BD  BD  BD   H  BD  BD \n",
       " 41  42  43  44  45  46  47  48  49  50  51  52  53  54  55  56  57  58  59  60 \n",
       " BD  BD  BD  BD  BD  BD  BD  BD  BD  BD  BD  BD  BD  BD  BD  BD  BD  BD  BD  BD \n",
       " 61  62  63  64  65  66  67  68  69  70  71  72  73  74  75  76  77  78  79  80 \n",
       " BD  BD  BD  BD  BD  BD  BD  BD  BD  BD  BD  BD  BD  BD  BD   C  BD  BD  BD  BD \n",
       " 81  82  83  84  85  86  87  88  89  90  91  92  93  94  95  96  97  98  99 100 \n",
       " BD  BD  BD  BD  BD  BD  BD  BD  BD  BD  BD  BD  BD  BD  BD  BD  BD  BD  BD  BD \n",
       "101 102 103 104 105 106 107 108 109 110 111 112 113 114 115 116 117 118 119 120 \n",
       " BD  BD  BD  BD  BD  BD  BD  BD  BD  BD  BD  BD  BD  BD  BD  BD  BD  BD  BD  BD \n",
       "121 122 123 124 125 126 127 128 129 130 131 132 133 134 135 136 137 138 139 140 \n",
       " BD  BD  BD  BD  BD  BD  BD  BD  BD  BD  BD  BD  BD  BD  BD  BD  BD  BD  BD  BD \n",
       "141 142 143 144 145 146 147 148 149 150 151 152 153 154 155 156 157 158 159 160 \n",
       " BD  BD  BD  BD  BD  BD  BD  BD  BD  BD  BD  BD  BD  BD  BD  BD  BD  BD  BD   C \n",
       "161 162 163 164 165 166 167 168 169 170 171 172 173 174 175 176 177 178 179 180 \n",
       "  C   C   C   H   H   H   F   H   H   H   F   C   H  BD  BD   C   C   C   C   C \n",
       "181 182 183 184 \n",
       "  C   C   F   F \n",
       "Levels: BD C F H\n",
       "\n",
       "$confusion\n",
       "     predict\n",
       "truth  BD   C   F   H\n",
       "   BD 157   4   0   1\n",
       "   C    0   7   2   0\n",
       "   F    2   1   1   2\n",
       "   H    0   1   1   5\n",
       "\n",
       "$accuracy\n",
       "[1] 0.923913\n",
       "\n",
       "$precision\n",
       "pred\n",
       "  BD    C    F    H \n",
       "0.99 0.54 0.25 0.62 \n",
       "\n",
       "$recall\n",
       "\n",
       "  BD    C    F    H \n",
       "0.97 0.78 0.17 0.71 \n",
       "\n",
       "$F_1\n",
       "\n",
       "  BD    C    F    H \n",
       "0.98 0.64 0.20 0.66 \n"
      ]
     },
     "metadata": {},
     "output_type": "display_data"
    }
   ],
   "source": [
    "##### Display the results\n",
    "results.wSMOTE[[2]]"
   ]
  },
  {
   "cell_type": "code",
   "execution_count": null,
   "id": "2c448bbc",
   "metadata": {},
   "outputs": [],
   "source": []
  }
 ],
 "metadata": {
  "kernelspec": {
   "display_name": "R",
   "language": "R",
   "name": "ir"
  },
  "language_info": {
   "codemirror_mode": "r",
   "file_extension": ".r",
   "mimetype": "text/x-r-source",
   "name": "R",
   "pygments_lexer": "r",
   "version": "4.1.1"
  }
 },
 "nbformat": 4,
 "nbformat_minor": 5
}
