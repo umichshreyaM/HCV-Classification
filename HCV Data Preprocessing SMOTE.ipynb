{
 "cells": [
  {
   "cell_type": "code",
   "execution_count": 8,
   "id": "ea846a1e",
   "metadata": {},
   "outputs": [],
   "source": [
    "import pandas as pd\n",
    "#Export to csvs\n",
    "train_labels=pd.read_csv(\"/Users/shreya/Desktop/STAT 503/train_labels.csv\")\n",
    "test_labels=pd.read_csv(\"/Users/shreya/Desktop/STAT 503/test_labels.csv\")\n",
    "train_x=pd.read_csv(\"/Users/shreya/Desktop/STAT 503/train_x.csv\")\n",
    "test_x=pd.read_csv(\"/Users/shreya/Desktop/STAT 503/test_x.csv\")"
   ]
  },
  {
   "cell_type": "markdown",
   "id": "198fb6fb-283d-462d-a086-05dc15952228",
   "metadata": {},
   "source": [
    "#0,1,2,3. \n",
    "0:1\n",
    "1:0.0449\n",
    "2:0.0396\n",
    "3:0.0555"
   ]
  },
  {
   "cell_type": "markdown",
   "id": "c904f6d3-5123-4bc4-bc0a-e78398d92f47",
   "metadata": {},
   "source": [
    "## SMOTE"
   ]
  },
  {
   "cell_type": "code",
   "execution_count": 61,
   "id": "002a1070-f6cc-4aa6-9e4d-7f2b5b5945f1",
   "metadata": {},
   "outputs": [],
   "source": [
    "import imblearn\n",
    "from imblearn.over_sampling import SMOTE"
   ]
  },
  {
   "cell_type": "code",
   "execution_count": 62,
   "id": "47c461a5-175b-44b1-b556-75246cf19763",
   "metadata": {},
   "outputs": [],
   "source": [
    "#strategy shows how many samples we take per class\n",
    "strategy = {0:378, 1:100, 2:200, 3:300}\n",
    "oversample = SMOTE(sampling_strategy=strategy)\n",
    "#apply to training data only\n",
    "X, y = oversample.fit_resample(train_x, train_labels)"
   ]
  },
  {
   "cell_type": "code",
   "execution_count": 63,
   "id": "066cb3a1-960a-4fc5-9652-8e1fcc6fc179",
   "metadata": {},
   "outputs": [
    {
     "data": {
      "text/plain": [
       "0    378\n",
       "3    300\n",
       "2    200\n",
       "1    100\n",
       "Name: V1, dtype: int64"
      ]
     },
     "execution_count": 63,
     "metadata": {},
     "output_type": "execute_result"
    }
   ],
   "source": [
    "#check counts per class\n",
    "from collections import Counter\n",
    "from matplotlib import pyplot\n",
    "y['V1'].value_counts()"
   ]
  },
  {
   "cell_type": "code",
   "execution_count": 64,
   "id": "23a28076-636a-40e2-bc10-03f26e04d16d",
   "metadata": {},
   "outputs": [],
   "source": [
    "X.to_csv('/Users/shreya/Downloads/X_Train_SMOTE.csv', index=False)\n",
    "y.to_csv('/Users/shreya/Downloads/y_train_SMOTE.csv', index=False)"
   ]
  },
  {
   "cell_type": "markdown",
   "id": "7b33c30f-381c-4144-aff4-4663ef109469",
   "metadata": {},
   "source": [
    "## Finding the Best MLP"
   ]
  },
  {
   "cell_type": "code",
   "execution_count": 68,
   "id": "4dab0a17-be5a-4942-b797-d5d84b7381f8",
   "metadata": {},
   "outputs": [],
   "source": [
    "from sklearn.neural_network import MLPClassifier\n",
    "mlp = MLPClassifier(max_iter=100)"
   ]
  },
  {
   "cell_type": "code",
   "execution_count": 75,
   "id": "f18e47be-444c-4d87-bbe8-58033166f61d",
   "metadata": {},
   "outputs": [],
   "source": [
    "parameter_space = {\n",
    "    'hidden_layer_sizes': [(150,100), (100,200), (200,100),(400,200)],\n",
    "    'activation': ['tanh', 'relu'],\n",
    "    'solver': ['sgd', 'adam'],\n",
    "    'alpha': [0.0001, 0.05],\n",
    "    'learning_rate': ['constant','adaptive'],\n",
    "}"
   ]
  },
  {
   "cell_type": "code",
   "execution_count": 76,
   "id": "04388d40-c5b0-4647-87ee-7b9958127d56",
   "metadata": {},
   "outputs": [
    {
     "name": "stderr",
     "output_type": "stream",
     "text": [
      "/Users/shreya/opt/anaconda3/lib/python3.8/site-packages/sklearn/neural_network/_multilayer_perceptron.py:1109: DataConversionWarning: A column-vector y was passed when a 1d array was expected. Please change the shape of y to (n_samples, ), for example using ravel().\n",
      "  y = column_or_1d(y, warn=True)\n",
      "/Users/shreya/opt/anaconda3/lib/python3.8/site-packages/sklearn/neural_network/_multilayer_perceptron.py:692: ConvergenceWarning: Stochastic Optimizer: Maximum iterations (100) reached and the optimization hasn't converged yet.\n",
      "  warnings.warn(\n"
     ]
    },
    {
     "data": {
      "text/plain": [
       "GridSearchCV(cv=3, estimator=MLPClassifier(max_iter=100), n_jobs=-1,\n",
       "             param_grid={'activation': ['tanh', 'relu'],\n",
       "                         'alpha': [0.0001, 0.05],\n",
       "                         'hidden_layer_sizes': [(150, 100), (100, 200),\n",
       "                                                (200, 100), (400, 200)],\n",
       "                         'learning_rate': ['constant', 'adaptive'],\n",
       "                         'solver': ['sgd', 'adam']})"
      ]
     },
     "execution_count": 76,
     "metadata": {},
     "output_type": "execute_result"
    }
   ],
   "source": [
    "from sklearn.model_selection import GridSearchCV\n",
    "\n",
    "clf = GridSearchCV(mlp, parameter_space, n_jobs=-1, cv=3)\n",
    "clf.fit(X, y)"
   ]
  },
  {
   "cell_type": "code",
   "execution_count": 77,
   "id": "199d64c3-9f1b-45c9-92d3-26e043b86ae5",
   "metadata": {},
   "outputs": [
    {
     "name": "stdout",
     "output_type": "stream",
     "text": [
      "Best parameters found:\n",
      " {'activation': 'tanh', 'alpha': 0.0001, 'hidden_layer_sizes': (200, 100), 'learning_rate': 'adaptive', 'solver': 'adam'}\n"
     ]
    }
   ],
   "source": [
    "# Best paramete set\n",
    "print('Best parameters found:\\n', clf.best_params_)"
   ]
  }
 ],
 "metadata": {
  "kernelspec": {
   "display_name": "Python 3 (ipykernel)",
   "language": "python",
   "name": "python3"
  },
  "language_info": {
   "codemirror_mode": {
    "name": "ipython",
    "version": 3
   },
   "file_extension": ".py",
   "mimetype": "text/x-python",
   "name": "python",
   "nbconvert_exporter": "python",
   "pygments_lexer": "ipython3",
   "version": "3.8.13"
  }
 },
 "nbformat": 4,
 "nbformat_minor": 5
}
