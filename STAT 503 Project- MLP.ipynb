{
 "cells": [
  {
   "cell_type": "code",
   "execution_count": 5,
   "id": "56f38daf-b351-4dc6-aa94-0e66070006cf",
   "metadata": {},
   "outputs": [],
   "source": [
    "train_labels = read.csv(file = '/Users/shreya/Desktop/STAT 503/train_labels.csv')\n",
    "test_labels = read.csv(file = '/Users/shreya/Desktop/STAT 503/test_labels.csv')\n",
    "train_x=read.csv(file = '/Users/shreya/Desktop/STAT 503/train_x.csv')\n",
    "test_x=read.csv(file = '/Users/shreya/Desktop/STAT 503/test_x.csv')"
   ]
  },
  {
   "cell_type": "code",
   "execution_count": 6,
   "id": "a67a2d07-d37d-4a33-8333-bce476ce985a",
   "metadata": {},
   "outputs": [],
   "source": [
    "train_labels=as.matrix(train_labels)\n",
    "test_labels=as.matrix(test_labels)\n",
    "train_x=as.matrix(train_x)\n",
    "test_x=as.matrix(test_x)"
   ]
  },
  {
   "cell_type": "code",
   "execution_count": 41,
   "id": "9cb7ca2b",
   "metadata": {},
   "outputs": [
    {
     "data": {
      "text/html": [
       "<table class=\"dataframe\">\n",
       "<caption>A matrix: 6 × 12 of type dbl</caption>\n",
       "<thead>\n",
       "\t<tr><th scope=col>Age</th><th scope=col>Sex</th><th scope=col>ALB</th><th scope=col>ALP</th><th scope=col>ALT</th><th scope=col>AST</th><th scope=col>BIL</th><th scope=col>CHE</th><th scope=col>CHOL</th><th scope=col>CREA</th><th scope=col>GGT</th><th scope=col>PROT</th></tr>\n",
       "</thead>\n",
       "<tbody>\n",
       "\t<tr><td>32</td><td>0</td><td>38.5</td><td>70.3</td><td>18.0</td><td>24.7</td><td> 3.9</td><td>11.17</td><td>4.80</td><td> 74</td><td>15.6</td><td>76.5</td></tr>\n",
       "\t<tr><td>32</td><td>0</td><td>46.9</td><td>74.7</td><td>36.2</td><td>52.6</td><td> 6.1</td><td> 8.84</td><td>5.20</td><td> 86</td><td>33.2</td><td>79.3</td></tr>\n",
       "\t<tr><td>32</td><td>0</td><td>43.2</td><td>52.0</td><td>30.6</td><td>22.6</td><td>18.9</td><td> 7.33</td><td>4.74</td><td> 80</td><td>33.8</td><td>75.7</td></tr>\n",
       "\t<tr><td>32</td><td>0</td><td>42.2</td><td>41.9</td><td>35.8</td><td>31.1</td><td>16.1</td><td> 5.82</td><td>4.60</td><td>109</td><td>21.5</td><td>67.1</td></tr>\n",
       "\t<tr><td>32</td><td>0</td><td>44.3</td><td>52.3</td><td>21.7</td><td>22.4</td><td>17.2</td><td> 4.15</td><td>3.57</td><td> 78</td><td>24.1</td><td>75.4</td></tr>\n",
       "\t<tr><td>33</td><td>0</td><td>36.3</td><td>78.6</td><td>23.6</td><td>22.0</td><td> 7.0</td><td> 8.56</td><td>5.38</td><td> 78</td><td>19.4</td><td>68.7</td></tr>\n",
       "</tbody>\n",
       "</table>\n"
      ],
      "text/latex": [
       "A matrix: 6 × 12 of type dbl\n",
       "\\begin{tabular}{llllllllllll}\n",
       " Age & Sex & ALB & ALP & ALT & AST & BIL & CHE & CHOL & CREA & GGT & PROT\\\\\n",
       "\\hline\n",
       "\t 32 & 0 & 38.5 & 70.3 & 18.0 & 24.7 &  3.9 & 11.17 & 4.80 &  74 & 15.6 & 76.5\\\\\n",
       "\t 32 & 0 & 46.9 & 74.7 & 36.2 & 52.6 &  6.1 &  8.84 & 5.20 &  86 & 33.2 & 79.3\\\\\n",
       "\t 32 & 0 & 43.2 & 52.0 & 30.6 & 22.6 & 18.9 &  7.33 & 4.74 &  80 & 33.8 & 75.7\\\\\n",
       "\t 32 & 0 & 42.2 & 41.9 & 35.8 & 31.1 & 16.1 &  5.82 & 4.60 & 109 & 21.5 & 67.1\\\\\n",
       "\t 32 & 0 & 44.3 & 52.3 & 21.7 & 22.4 & 17.2 &  4.15 & 3.57 &  78 & 24.1 & 75.4\\\\\n",
       "\t 33 & 0 & 36.3 & 78.6 & 23.6 & 22.0 &  7.0 &  8.56 & 5.38 &  78 & 19.4 & 68.7\\\\\n",
       "\\end{tabular}\n"
      ],
      "text/markdown": [
       "\n",
       "A matrix: 6 × 12 of type dbl\n",
       "\n",
       "| Age | Sex | ALB | ALP | ALT | AST | BIL | CHE | CHOL | CREA | GGT | PROT |\n",
       "|---|---|---|---|---|---|---|---|---|---|---|---|\n",
       "| 32 | 0 | 38.5 | 70.3 | 18.0 | 24.7 |  3.9 | 11.17 | 4.80 |  74 | 15.6 | 76.5 |\n",
       "| 32 | 0 | 46.9 | 74.7 | 36.2 | 52.6 |  6.1 |  8.84 | 5.20 |  86 | 33.2 | 79.3 |\n",
       "| 32 | 0 | 43.2 | 52.0 | 30.6 | 22.6 | 18.9 |  7.33 | 4.74 |  80 | 33.8 | 75.7 |\n",
       "| 32 | 0 | 42.2 | 41.9 | 35.8 | 31.1 | 16.1 |  5.82 | 4.60 | 109 | 21.5 | 67.1 |\n",
       "| 32 | 0 | 44.3 | 52.3 | 21.7 | 22.4 | 17.2 |  4.15 | 3.57 |  78 | 24.1 | 75.4 |\n",
       "| 33 | 0 | 36.3 | 78.6 | 23.6 | 22.0 |  7.0 |  8.56 | 5.38 |  78 | 19.4 | 68.7 |\n",
       "\n"
      ],
      "text/plain": [
       "     Age Sex ALB  ALP  ALT  AST  BIL  CHE   CHOL CREA GGT  PROT\n",
       "[1,] 32  0   38.5 70.3 18.0 24.7  3.9 11.17 4.80  74  15.6 76.5\n",
       "[2,] 32  0   46.9 74.7 36.2 52.6  6.1  8.84 5.20  86  33.2 79.3\n",
       "[3,] 32  0   43.2 52.0 30.6 22.6 18.9  7.33 4.74  80  33.8 75.7\n",
       "[4,] 32  0   42.2 41.9 35.8 31.1 16.1  5.82 4.60 109  21.5 67.1\n",
       "[5,] 32  0   44.3 52.3 21.7 22.4 17.2  4.15 3.57  78  24.1 75.4\n",
       "[6,] 33  0   36.3 78.6 23.6 22.0  7.0  8.56 5.38  78  19.4 68.7"
      ]
     },
     "metadata": {},
     "output_type": "display_data"
    }
   ],
   "source": [
    "head(train_x_smote)"
   ]
  },
  {
   "cell_type": "code",
   "execution_count": 9,
   "id": "04b50f24",
   "metadata": {},
   "outputs": [
    {
     "data": {
      "text/html": [
       "<table class=\"dataframe\">\n",
       "<caption>A matrix: 4 × 1 of type int</caption>\n",
       "<thead>\n",
       "\t<tr><th scope=col>V1</th></tr>\n",
       "</thead>\n",
       "<tbody>\n",
       "\t<tr><td>0</td></tr>\n",
       "\t<tr><td>1</td></tr>\n",
       "\t<tr><td>2</td></tr>\n",
       "\t<tr><td>3</td></tr>\n",
       "</tbody>\n",
       "</table>\n"
      ],
      "text/latex": [
       "A matrix: 4 × 1 of type int\n",
       "\\begin{tabular}{l}\n",
       " V1\\\\\n",
       "\\hline\n",
       "\t 0\\\\\n",
       "\t 1\\\\\n",
       "\t 2\\\\\n",
       "\t 3\\\\\n",
       "\\end{tabular}\n"
      ],
      "text/markdown": [
       "\n",
       "A matrix: 4 × 1 of type int\n",
       "\n",
       "| V1 |\n",
       "|---|\n",
       "| 0 |\n",
       "| 1 |\n",
       "| 2 |\n",
       "| 3 |\n",
       "\n"
      ],
      "text/plain": [
       "     V1\n",
       "[1,] 0 \n",
       "[2,] 1 \n",
       "[3,] 2 \n",
       "[4,] 3 "
      ]
     },
     "metadata": {},
     "output_type": "display_data"
    }
   ],
   "source": [
    "unique(test_labels)"
   ]
  },
  {
   "cell_type": "markdown",
   "id": "65470e18-3baa-4091-88c7-e958cef6ae31",
   "metadata": {},
   "source": [
    "## SIMPLE MLP - Not SMOTE"
   ]
  },
  {
   "cell_type": "code",
   "execution_count": 1,
   "id": "59706645",
   "metadata": {},
   "outputs": [
    {
     "name": "stderr",
     "output_type": "stream",
     "text": [
      "Warning message:\n",
      "“package ‘reticulate’ was built under R version 4.0.5”\n",
      "── \u001b[1mAttaching packages\u001b[22m ─────────────────────────────────────── tidyverse 1.3.1 ──\n",
      "\n",
      "\u001b[32m✔\u001b[39m \u001b[34mggplot2\u001b[39m 3.3.5     \u001b[32m✔\u001b[39m \u001b[34mpurrr  \u001b[39m 0.3.4\n",
      "\u001b[32m✔\u001b[39m \u001b[34mtibble \u001b[39m 3.1.5     \u001b[32m✔\u001b[39m \u001b[34mdplyr  \u001b[39m 1.0.7\n",
      "\u001b[32m✔\u001b[39m \u001b[34mtidyr  \u001b[39m 1.1.4     \u001b[32m✔\u001b[39m \u001b[34mstringr\u001b[39m 1.4.0\n",
      "\u001b[32m✔\u001b[39m \u001b[34mreadr  \u001b[39m 2.0.2     \u001b[32m✔\u001b[39m \u001b[34mforcats\u001b[39m 0.5.1\n",
      "\n",
      "── \u001b[1mConflicts\u001b[22m ────────────────────────────────────────── tidyverse_conflicts() ──\n",
      "\u001b[31m✖\u001b[39m \u001b[34mdplyr\u001b[39m::\u001b[32mfilter()\u001b[39m masks \u001b[34mstats\u001b[39m::filter()\n",
      "\u001b[31m✖\u001b[39m \u001b[34mdplyr\u001b[39m::\u001b[32mlag()\u001b[39m    masks \u001b[34mstats\u001b[39m::lag()\n",
      "\n"
     ]
    },
    {
     "data": {
      "text/html": [
       "<table class=\"dataframe\">\n",
       "<caption>A data.frame: 2 × 2</caption>\n",
       "<thead>\n",
       "\t<tr><th scope=col>name</th><th scope=col>python</th></tr>\n",
       "\t<tr><th scope=col>&lt;chr&gt;</th><th scope=col>&lt;chr&gt;</th></tr>\n",
       "</thead>\n",
       "<tbody>\n",
       "\t<tr><td>base   </td><td>/Users/shreya/opt/anaconda3/bin/python             </td></tr>\n",
       "\t<tr><td>STAT507</td><td>/Users/shreya/opt/anaconda3/envs/STAT507/bin/python</td></tr>\n",
       "</tbody>\n",
       "</table>\n"
      ],
      "text/latex": [
       "A data.frame: 2 × 2\n",
       "\\begin{tabular}{ll}\n",
       " name & python\\\\\n",
       " <chr> & <chr>\\\\\n",
       "\\hline\n",
       "\t base    & /Users/shreya/opt/anaconda3/bin/python             \\\\\n",
       "\t STAT507 & /Users/shreya/opt/anaconda3/envs/STAT507/bin/python\\\\\n",
       "\\end{tabular}\n"
      ],
      "text/markdown": [
       "\n",
       "A data.frame: 2 × 2\n",
       "\n",
       "| name &lt;chr&gt; | python &lt;chr&gt; |\n",
       "|---|---|\n",
       "| base    | /Users/shreya/opt/anaconda3/bin/python              |\n",
       "| STAT507 | /Users/shreya/opt/anaconda3/envs/STAT507/bin/python |\n",
       "\n"
      ],
      "text/plain": [
       "  name    python                                             \n",
       "1 base    /Users/shreya/opt/anaconda3/bin/python             \n",
       "2 STAT507 /Users/shreya/opt/anaconda3/envs/STAT507/bin/python"
      ]
     },
     "metadata": {},
     "output_type": "display_data"
    }
   ],
   "source": [
    "library(reticulate)\n",
    "library(tidyverse)\n",
    "\n",
    "# Seeing your enviroments\n",
    "conda_list()"
   ]
  },
  {
   "cell_type": "code",
   "execution_count": 2,
   "id": "e65cfa52-4649-4515-9de4-562c9cc2273f",
   "metadata": {},
   "outputs": [
    {
     "name": "stdout",
     "output_type": "stream",
     "text": [
      "\n",
      "The downloaded binary packages are in\n",
      "\t/var/folders/0c/y78gmd852fg62dh0g5d1w9hr0000gn/T//RtmpAqJPo2/downloaded_packages\n"
     ]
    },
    {
     "name": "stderr",
     "output_type": "stream",
     "text": [
      "Skipping install of 'keras' from a github remote, the SHA1 (4e9a6daf) has not changed since last install.\n",
      "  Use `force = TRUE` to force installation\n",
      "\n",
      "Skipping install of 'tensorflow' from a github remote, the SHA1 (b8c5290f) has not changed since last install.\n",
      "  Use `force = TRUE` to force installation\n",
      "\n",
      "Loading required package: usethis\n",
      "\n"
     ]
    },
    {
     "name": "stdout",
     "output_type": "stream",
     "text": [
      "\n",
      "Installation complete.\n",
      "\n",
      "\n",
      "Installation complete.\n",
      "\n"
     ]
    }
   ],
   "source": [
    "install.packages('devtools')\n",
    "devtools::install_github(\"rstudio/keras\")\n",
    "devtools::install_github(\"rstudio/tensorflow\")\n",
    "library(devtools)\n",
    "library(tensorflow)\n",
    "install_tensorflow(version = \"2.8.0\")\n",
    "library(keras)\n",
    "install_keras()\n",
    "\n",
    "reticulate::use_condaenv(\"base\", required = TRUE)"
   ]
  },
  {
   "cell_type": "code",
   "execution_count": 10,
   "id": "ede6030c-d35e-4ea6-92f7-eca587e9ebc8",
   "metadata": {},
   "outputs": [],
   "source": [
    "model_HCV <- keras_model_sequential()\n",
    "model_HCV %>%\n",
    "  layer_dense(units = 225, activation = 'relu') %>%\n",
    "  layer_dense(units = 225, activation = 'relu') %>%\n",
    "  layer_dropout(0.20) %>%\n",
    "  layer_dense(units = 4, activation = 'softmax')"
   ]
  },
  {
   "cell_type": "code",
   "execution_count": 11,
   "id": "958c402c-0eb7-4721-862f-5bd20420f201",
   "metadata": {},
   "outputs": [],
   "source": [
    "model_HCV %>% compile(\n",
    "  optimizer = 'adam', \n",
    "  loss = 'sparse_categorical_crossentropy',\n",
    "  metrics = c('accuracy')\n",
    ")"
   ]
  },
  {
   "cell_type": "code",
   "execution_count": 12,
   "id": "ffdb438c-9b0c-4e34-8d44-fbd2f345aa1b",
   "metadata": {},
   "outputs": [],
   "source": [
    "model_HCV_fitted = model_HCV %>% fit(train_x, train_labels, epochs = 32)"
   ]
  },
  {
   "cell_type": "code",
   "execution_count": 13,
   "id": "8ffc5aad-5413-48ef-a72b-02390631c5ef",
   "metadata": {},
   "outputs": [
    {
     "data": {
      "image/png": "[encoded data removed]",
      "text/plain": [
       "plot without title"
      ]
     },
     "metadata": {
      "image/png": {
       "height": 420,
       "width": 420
      }
     },
     "output_type": "display_data"
    }
   ],
   "source": [
    "plot(model_HCV_fitted) + theme_minimal()"
   ]
  },
  {
   "cell_type": "code",
   "execution_count": 14,
   "id": "37d032d2-713d-472f-b089-5c0453a4e588",
   "metadata": {},
   "outputs": [
    {
     "name": "stdout",
     "output_type": "stream",
     "text": [
      "Test loss: 0.4071616 \n",
      "Test accuracy: 0.9184783 \n"
     ]
    }
   ],
   "source": [
    "score = model_HCV %>% evaluate(test_x, test_labels)\n",
    "\n",
    "cat('Test loss:', score[1], \"\\n\")\n",
    "cat('Test accuracy:', score[2], \"\\n\")\n"
   ]
  },
  {
   "cell_type": "code",
   "execution_count": 15,
   "id": "9897e32a",
   "metadata": {},
   "outputs": [
    {
     "name": "stderr",
     "output_type": "stream",
     "text": [
      "\n",
      "Attaching package: ‘ramify’\n",
      "\n",
      "\n",
      "The following object is masked from ‘package:purrr’:\n",
      "\n",
      "    flatten\n",
      "\n",
      "\n",
      "The following object is masked from ‘package:tidyr’:\n",
      "\n",
      "    fill\n",
      "\n",
      "\n",
      "The following object is masked from ‘package:graphics’:\n",
      "\n",
      "    clip\n",
      "\n",
      "\n",
      "For binary classification, the first factor level is assumed to be the event.\n",
      "Use the argument `event_level = \"second\"` to alter this as needed.\n",
      "\n",
      "\n",
      "Attaching package: ‘yardstick’\n",
      "\n",
      "\n",
      "The following object is masked from ‘package:keras’:\n",
      "\n",
      "    get_weights\n",
      "\n",
      "\n",
      "The following object is masked from ‘package:readr’:\n",
      "\n",
      "    spec\n",
      "\n",
      "\n"
     ]
    }
   ],
   "source": [
    "library(ramify)\n",
    "library(yardstick)\n",
    "predictions <- model_HCV %>% predict(test_x) \n",
    "classes=argmax(predictions) %>% as.vector()\n"
   ]
  },
  {
   "cell_type": "code",
   "execution_count": 17,
   "id": "0af2e90d",
   "metadata": {
    "scrolled": true
   },
   "outputs": [],
   "source": [
    "estimates_keras_tbl <- tibble(\n",
    "  truth      = as.factor(test_labels),\n",
    "  estimate   = as.factor(classes),\n",
    "  class_prob = predictions)\n",
    "estimates_keras_tbl$class_prob_new = apply(estimates_keras_tbl$class_prob,1, FUN=max)\n",
    "estimates_keras_tbl$estimate <- as.character(estimates_keras_tbl$estimate)\n",
    "\n",
    "estimates_keras_tbl$estimate[estimates_keras_tbl$estimate == \"1\"] <- \"0\"\n",
    "estimates_keras_tbl$estimate[estimates_keras_tbl$estimate == \"2\"] <- \"1\"\n",
    "estimates_keras_tbl$estimate[estimates_keras_tbl$estimate == \"3\"] <- \"2\"\n",
    "estimates_keras_tbl$estimate[estimates_keras_tbl$estimate == \"4\"] <- \"3\"\n",
    "\n",
    "estimates_keras_tbl$estimate <- as.factor(estimates_keras_tbl$estimate)"
   ]
  },
  {
   "cell_type": "code",
   "execution_count": 18,
   "id": "fdd5c8e3",
   "metadata": {},
   "outputs": [],
   "source": [
    "library(purrr)\n",
    "library(tidyr)"
   ]
  },
  {
   "cell_type": "code",
   "execution_count": 19,
   "id": "28ebf81f",
   "metadata": {},
   "outputs": [
    {
     "data": {
      "text/html": [
       "<table class=\"dataframe\">\n",
       "<caption>A matrix: 4 × 4 of type int</caption>\n",
       "<thead>\n",
       "\t<tr><th></th><th scope=col>0</th><th scope=col>1</th><th scope=col>2</th><th scope=col>3</th></tr>\n",
       "</thead>\n",
       "<tbody>\n",
       "\t<tr><th scope=row>0</th><td>158</td><td>1</td><td>3</td><td>0</td></tr>\n",
       "\t<tr><th scope=row>1</th><td>  0</td><td>5</td><td>2</td><td>0</td></tr>\n",
       "\t<tr><th scope=row>2</th><td>  2</td><td>2</td><td>2</td><td>0</td></tr>\n",
       "\t<tr><th scope=row>3</th><td>  1</td><td>1</td><td>3</td><td>4</td></tr>\n",
       "</tbody>\n",
       "</table>\n"
      ],
      "text/latex": [
       "A matrix: 4 × 4 of type int\n",
       "\\begin{tabular}{r|llll}\n",
       "  & 0 & 1 & 2 & 3\\\\\n",
       "\\hline\n",
       "\t0 & 158 & 1 & 3 & 0\\\\\n",
       "\t1 &   0 & 5 & 2 & 0\\\\\n",
       "\t2 &   2 & 2 & 2 & 0\\\\\n",
       "\t3 &   1 & 1 & 3 & 4\\\\\n",
       "\\end{tabular}\n"
      ],
      "text/markdown": [
       "\n",
       "A matrix: 4 × 4 of type int\n",
       "\n",
       "| <!--/--> | 0 | 1 | 2 | 3 |\n",
       "|---|---|---|---|---|\n",
       "| 0 | 158 | 1 | 3 | 0 |\n",
       "| 1 |   0 | 5 | 2 | 0 |\n",
       "| 2 |   2 | 2 | 2 | 0 |\n",
       "| 3 |   1 | 1 | 3 | 4 |\n",
       "\n"
      ],
      "text/plain": [
       "  0   1 2 3\n",
       "0 158 1 3 0\n",
       "1   0 5 2 0\n",
       "2   2 2 2 0\n",
       "3   1 1 3 4"
      ]
     },
     "metadata": {},
     "output_type": "display_data"
    }
   ],
   "source": [
    "cm=estimates_keras_tbl %>% conf_mat(truth, estimate)\n",
    "# Now reshape these into a matrix\n",
    "tidy_cm=tidy(cm)\n",
    "cm_mat <- matrix(tidy_cm$value, byrow = TRUE, ncol = 4)\n",
    "rownames(cm_mat) <- c(0,1,2,3)\n",
    "colnames(cm_mat) <- c(0,1,2,3)\n",
    "cm_mat"
   ]
  },
  {
   "cell_type": "code",
   "execution_count": 20,
   "id": "fec356d7",
   "metadata": {
    "scrolled": true
   },
   "outputs": [
    {
     "data": {
      "text/html": [
       "<table class=\"dataframe\">\n",
       "<caption>A tibble: 2 × 3</caption>\n",
       "<thead>\n",
       "\t<tr><th scope=col>.metric</th><th scope=col>.estimator</th><th scope=col>.estimate</th></tr>\n",
       "\t<tr><th scope=col>&lt;chr&gt;</th><th scope=col>&lt;chr&gt;</th><th scope=col>&lt;dbl&gt;</th></tr>\n",
       "</thead>\n",
       "<tbody>\n",
       "\t<tr><td>accuracy</td><td>multiclass</td><td>0.9184783</td></tr>\n",
       "\t<tr><td>kap     </td><td>multiclass</td><td>0.6375575</td></tr>\n",
       "</tbody>\n",
       "</table>\n"
      ],
      "text/latex": [
       "A tibble: 2 × 3\n",
       "\\begin{tabular}{lll}\n",
       " .metric & .estimator & .estimate\\\\\n",
       " <chr> & <chr> & <dbl>\\\\\n",
       "\\hline\n",
       "\t accuracy & multiclass & 0.9184783\\\\\n",
       "\t kap      & multiclass & 0.6375575\\\\\n",
       "\\end{tabular}\n"
      ],
      "text/markdown": [
       "\n",
       "A tibble: 2 × 3\n",
       "\n",
       "| .metric &lt;chr&gt; | .estimator &lt;chr&gt; | .estimate &lt;dbl&gt; |\n",
       "|---|---|---|\n",
       "| accuracy | multiclass | 0.9184783 |\n",
       "| kap      | multiclass | 0.6375575 |\n",
       "\n"
      ],
      "text/plain": [
       "  .metric  .estimator .estimate\n",
       "1 accuracy multiclass 0.9184783\n",
       "2 kap      multiclass 0.6375575"
      ]
     },
     "metadata": {},
     "output_type": "display_data"
    }
   ],
   "source": [
    "estimates_keras_tbl %>% metrics (truth, estimate)"
   ]
  },
  {
   "cell_type": "code",
   "execution_count": 21,
   "id": "6fea4e34",
   "metadata": {},
   "outputs": [],
   "source": [
    "n = sum(cm_mat) # number of instances\n",
    "nc = nrow(cm_mat) # number of classes\n",
    "diag = diag(cm_mat) # number of correctly classified instances per class \n",
    "rowsums = apply(cm_mat, 1, sum) # number of instances per class\n",
    "colsums = apply(cm_mat, 2, sum) # number of predictions per class\n",
    "p = rowsums / n # distribution of instances over the actual classes\n",
    "q = colsums / n # distribution of instances over the predicted classes"
   ]
  },
  {
   "cell_type": "code",
   "execution_count": 22,
   "id": "588773d5",
   "metadata": {},
   "outputs": [
    {
     "data": {
      "text/html": [
       "<table class=\"dataframe\">\n",
       "<caption>A data.frame: 4 × 3</caption>\n",
       "<thead>\n",
       "\t<tr><th></th><th scope=col>precision</th><th scope=col>recall</th><th scope=col>f1</th></tr>\n",
       "\t<tr><th></th><th scope=col>&lt;dbl&gt;</th><th scope=col>&lt;dbl&gt;</th><th scope=col>&lt;dbl&gt;</th></tr>\n",
       "</thead>\n",
       "<tbody>\n",
       "\t<tr><th scope=row>0</th><td>0.9813665</td><td>0.9753086</td><td>0.9783282</td></tr>\n",
       "\t<tr><th scope=row>1</th><td>0.5555556</td><td>0.7142857</td><td>0.6250000</td></tr>\n",
       "\t<tr><th scope=row>2</th><td>0.2000000</td><td>0.3333333</td><td>0.2500000</td></tr>\n",
       "\t<tr><th scope=row>3</th><td>1.0000000</td><td>0.4444444</td><td>0.6153846</td></tr>\n",
       "</tbody>\n",
       "</table>\n"
      ],
      "text/latex": [
       "A data.frame: 4 × 3\n",
       "\\begin{tabular}{r|lll}\n",
       "  & precision & recall & f1\\\\\n",
       "  & <dbl> & <dbl> & <dbl>\\\\\n",
       "\\hline\n",
       "\t0 & 0.9813665 & 0.9753086 & 0.9783282\\\\\n",
       "\t1 & 0.5555556 & 0.7142857 & 0.6250000\\\\\n",
       "\t2 & 0.2000000 & 0.3333333 & 0.2500000\\\\\n",
       "\t3 & 1.0000000 & 0.4444444 & 0.6153846\\\\\n",
       "\\end{tabular}\n"
      ],
      "text/markdown": [
       "\n",
       "A data.frame: 4 × 3\n",
       "\n",
       "| <!--/--> | precision &lt;dbl&gt; | recall &lt;dbl&gt; | f1 &lt;dbl&gt; |\n",
       "|---|---|---|---|\n",
       "| 0 | 0.9813665 | 0.9753086 | 0.9783282 |\n",
       "| 1 | 0.5555556 | 0.7142857 | 0.6250000 |\n",
       "| 2 | 0.2000000 | 0.3333333 | 0.2500000 |\n",
       "| 3 | 1.0000000 | 0.4444444 | 0.6153846 |\n",
       "\n"
      ],
      "text/plain": [
       "  precision recall    f1       \n",
       "0 0.9813665 0.9753086 0.9783282\n",
       "1 0.5555556 0.7142857 0.6250000\n",
       "2 0.2000000 0.3333333 0.2500000\n",
       "3 1.0000000 0.4444444 0.6153846"
      ]
     },
     "metadata": {},
     "output_type": "display_data"
    }
   ],
   "source": [
    "precision = diag / colsums \n",
    "recall = diag / rowsums \n",
    "f1 = 2 * precision * recall / (precision + recall) \n",
    "data.frame(precision, recall, f1) "
   ]
  },
  {
   "cell_type": "markdown",
   "id": "a8a46c9e-2b76-4edf-bb01-02f03a0db15d",
   "metadata": {},
   "source": [
    "## SMOTE-Results"
   ]
  },
  {
   "cell_type": "code",
   "execution_count": 104,
   "id": "c6f96b1c-7b10-4504-90a2-cc59250a198b",
   "metadata": {},
   "outputs": [],
   "source": [
    "train_x_smote=read.csv(file = '/Users/shreya/Downloads/X_Train_SMOTE.csv')\n",
    "train_labels_smote = read.csv(file = '/Users/shreya/Downloads/y_train_SMOTE.csv')\n",
    "train_x_smote=as.matrix(train_x_smote)\n",
    "train_labels_smote=as.matrix(train_labels_smote)"
   ]
  },
  {
   "cell_type": "code",
   "execution_count": 114,
   "id": "39401156-a9a3-49f4-87f8-c456e6f8c064",
   "metadata": {},
   "outputs": [],
   "source": [
    "model_HCV_smote<- keras_model_sequential()\n",
    "model_HCV_smote %>%\n",
    "  layer_dense(units = 100, activation = 'tanh') %>%\n",
    "  layer_dense(units = 200, activation = 'tanh') %>%\n",
    "  layer_dropout(0.25) %>%\n",
    "  layer_dense(units = 4, activation = 'softmax')"
   ]
  },
  {
   "cell_type": "code",
   "execution_count": 115,
   "id": "2d856de6-e3bb-4c2b-8005-12fe69cfa8a9",
   "metadata": {},
   "outputs": [],
   "source": [
    "model_HCV_smote %>% compile(\n",
    "  optimizer = 'adam', \n",
    "  loss = 'sparse_categorical_crossentropy',\n",
    "  metrics = c('accuracy')\n",
    ")"
   ]
  },
  {
   "cell_type": "code",
   "execution_count": 116,
   "id": "1abf9d23-cd22-4a84-b8db-ee1f0191654a",
   "metadata": {},
   "outputs": [],
   "source": [
    "model_HCV_fitted_smote = model_HCV_smote %>% fit(train_x_smote, train_labels_smote, epochs = 32)"
   ]
  },
  {
   "cell_type": "code",
   "execution_count": 117,
   "id": "c5976df6-9750-4dbd-b370-1ae0e2ab506a",
   "metadata": {},
   "outputs": [
    {
     "name": "stdout",
     "output_type": "stream",
     "text": [
      "Test loss: 0.3398894 \n",
      "Test accuracy: 0.9239131 \n"
     ]
    }
   ],
   "source": [
    "score = model_HCV_smote %>% evaluate(test_x, test_labels)\n",
    "\n",
    "cat('Test loss:', score[1], \"\\n\")\n",
    "cat('Test accuracy:', score[2], \"\\n\")"
   ]
  },
  {
   "cell_type": "code",
   "execution_count": 118,
   "id": "99b490cb-0629-43fc-a95f-28798bdfa023",
   "metadata": {},
   "outputs": [],
   "source": [
    "library(ramify)\n",
    "library(yardstick)\n",
    "predictions <- model_HCV_smote %>% predict(test_x) \n",
    "classes=argmax(predictions) %>% as.vector()"
   ]
  },
  {
   "cell_type": "code",
   "execution_count": 119,
   "id": "fe7fe75b-6dd3-422d-9ed8-c076ddb9b826",
   "metadata": {},
   "outputs": [],
   "source": [
    "estimates_keras_tbl <- tibble(\n",
    "  truth      = as.factor(test_labels),\n",
    "  estimate   = as.factor(classes),\n",
    "  class_prob = predictions)\n",
    "estimates_keras_tbl$class_prob_new = apply(estimates_keras_tbl$class_prob,1, FUN=max)\n",
    "estimates_keras_tbl$estimate <- as.character(estimates_keras_tbl$estimate)\n",
    "\n",
    "estimates_keras_tbl$estimate[estimates_keras_tbl$estimate == \"1\"] <- \"0\"\n",
    "estimates_keras_tbl$estimate[estimates_keras_tbl$estimate == \"2\"] <- \"1\"\n",
    "estimates_keras_tbl$estimate[estimates_keras_tbl$estimate == \"3\"] <- \"2\"\n",
    "estimates_keras_tbl$estimate[estimates_keras_tbl$estimate == \"4\"] <- \"3\"\n",
    "\n",
    "estimates_keras_tbl$estimate <- as.factor(estimates_keras_tbl$estimate)"
   ]
  },
  {
   "cell_type": "code",
   "execution_count": 120,
   "id": "e346fcd8-2aad-45ac-ab9f-d08ad24b1939",
   "metadata": {},
   "outputs": [
    {
     "data": {
      "text/html": [
       "<table class=\"dataframe\">\n",
       "<caption>A matrix: 4 × 4 of type int</caption>\n",
       "<thead>\n",
       "\t<tr><th></th><th scope=col>0</th><th scope=col>1</th><th scope=col>2</th><th scope=col>3</th></tr>\n",
       "</thead>\n",
       "<tbody>\n",
       "\t<tr><th scope=row>0</th><td>157</td><td>1</td><td>2</td><td>2</td></tr>\n",
       "\t<tr><th scope=row>1</th><td>  0</td><td>3</td><td>3</td><td>1</td></tr>\n",
       "\t<tr><th scope=row>2</th><td>  1</td><td>1</td><td>3</td><td>1</td></tr>\n",
       "\t<tr><th scope=row>3</th><td>  0</td><td>0</td><td>2</td><td>7</td></tr>\n",
       "</tbody>\n",
       "</table>\n"
      ],
      "text/latex": [
       "A matrix: 4 × 4 of type int\n",
       "\\begin{tabular}{r|llll}\n",
       "  & 0 & 1 & 2 & 3\\\\\n",
       "\\hline\n",
       "\t0 & 157 & 1 & 2 & 2\\\\\n",
       "\t1 &   0 & 3 & 3 & 1\\\\\n",
       "\t2 &   1 & 1 & 3 & 1\\\\\n",
       "\t3 &   0 & 0 & 2 & 7\\\\\n",
       "\\end{tabular}\n"
      ],
      "text/markdown": [
       "\n",
       "A matrix: 4 × 4 of type int\n",
       "\n",
       "| <!--/--> | 0 | 1 | 2 | 3 |\n",
       "|---|---|---|---|---|\n",
       "| 0 | 157 | 1 | 2 | 2 |\n",
       "| 1 |   0 | 3 | 3 | 1 |\n",
       "| 2 |   1 | 1 | 3 | 1 |\n",
       "| 3 |   0 | 0 | 2 | 7 |\n",
       "\n"
      ],
      "text/plain": [
       "  0   1 2 3\n",
       "0 157 1 2 2\n",
       "1   0 3 3 1\n",
       "2   1 1 3 1\n",
       "3   0 0 2 7"
      ]
     },
     "metadata": {},
     "output_type": "display_data"
    }
   ],
   "source": [
    "library(purrr)\n",
    "library(tidyr)\n",
    "cm=estimates_keras_tbl %>% conf_mat(truth, estimate)\n",
    "# Now reshape these into a matrix\n",
    "tidy_cm=tidy(cm)\n",
    "cm_mat <- matrix(tidy_cm$value, byrow = TRUE, ncol = 4)\n",
    "rownames(cm_mat) <- c(0,1,2,3)\n",
    "colnames(cm_mat) <- c(0,1,2,3)\n",
    "cm_mat"
   ]
  },
  {
   "cell_type": "code",
   "execution_count": 126,
   "id": "775845dc-1bd7-4e00-a435-ea4e81c415ed",
   "metadata": {},
   "outputs": [],
   "source": [
    "n = sum(cm_mat) # number of instances\n",
    "nc = nrow(cm_mat) # number of classes\n",
    "diag = diag(cm_mat) # number of correctly classified instances per class \n",
    "rowsums = apply(cm_mat, 1, sum) # number of instances per class\n",
    "colsums = apply(cm_mat, 2, sum) # number of predictions per class\n",
    "p = rowsums / n # distribution of instances over the actual classes\n",
    "q = colsums / n # distribution of instances over the predicted classes\n"
   ]
  },
  {
   "cell_type": "code",
   "execution_count": 143,
   "id": "3d0d3a43-e172-4e40-abd2-d479cdef8d8e",
   "metadata": {},
   "outputs": [],
   "source": [
    "tn_0=(3+3+1+1+3+1+0+2+7)\n",
    "fp_0=(1+2+2)\n",
    "\n",
    "tn_1=157+2+2+1+2+1+0+2+7\n",
    "fp_1=0+3+1\n",
    "\n",
    "tn_2=157+1+2+0+3+1+0+0+7\n",
    "fp_2=3\n",
    "\n",
    "tn_3=157+1+2+0+3+3+1+1+3\n",
    "fp_3=2"
   ]
  },
  {
   "cell_type": "code",
   "execution_count": 145,
   "id": "83b591b7-0496-4d46-a86e-40886b43bd66",
   "metadata": {},
   "outputs": [
    {
     "data": {
      "text/html": [
       "<table class=\"dataframe\">\n",
       "<caption>A data.frame: 4 × 3</caption>\n",
       "<thead>\n",
       "\t<tr><th></th><th scope=col>precision</th><th scope=col>recall</th><th scope=col>f1</th></tr>\n",
       "\t<tr><th></th><th scope=col>&lt;dbl&gt;</th><th scope=col>&lt;dbl&gt;</th><th scope=col>&lt;dbl&gt;</th></tr>\n",
       "</thead>\n",
       "<tbody>\n",
       "\t<tr><th scope=row>0</th><td>0.9936709</td><td>0.9691358</td><td>0.98125</td></tr>\n",
       "\t<tr><th scope=row>1</th><td>0.6000000</td><td>0.4285714</td><td>0.50000</td></tr>\n",
       "\t<tr><th scope=row>2</th><td>0.3000000</td><td>0.5000000</td><td>0.37500</td></tr>\n",
       "\t<tr><th scope=row>3</th><td>0.6363636</td><td>0.7777778</td><td>0.70000</td></tr>\n",
       "</tbody>\n",
       "</table>\n"
      ],
      "text/latex": [
       "A data.frame: 4 × 3\n",
       "\\begin{tabular}{r|lll}\n",
       "  & precision & recall & f1\\\\\n",
       "  & <dbl> & <dbl> & <dbl>\\\\\n",
       "\\hline\n",
       "\t0 & 0.9936709 & 0.9691358 & 0.98125\\\\\n",
       "\t1 & 0.6000000 & 0.4285714 & 0.50000\\\\\n",
       "\t2 & 0.3000000 & 0.5000000 & 0.37500\\\\\n",
       "\t3 & 0.6363636 & 0.7777778 & 0.70000\\\\\n",
       "\\end{tabular}\n"
      ],
      "text/markdown": [
       "\n",
       "A data.frame: 4 × 3\n",
       "\n",
       "| <!--/--> | precision &lt;dbl&gt; | recall &lt;dbl&gt; | f1 &lt;dbl&gt; |\n",
       "|---|---|---|---|\n",
       "| 0 | 0.9936709 | 0.9691358 | 0.98125 |\n",
       "| 1 | 0.6000000 | 0.4285714 | 0.50000 |\n",
       "| 2 | 0.3000000 | 0.5000000 | 0.37500 |\n",
       "| 3 | 0.6363636 | 0.7777778 | 0.70000 |\n",
       "\n"
      ],
      "text/plain": [
       "  precision recall    f1     \n",
       "0 0.9936709 0.9691358 0.98125\n",
       "1 0.6000000 0.4285714 0.50000\n",
       "2 0.3000000 0.5000000 0.37500\n",
       "3 0.6363636 0.7777778 0.70000"
      ]
     },
     "metadata": {},
     "output_type": "display_data"
    }
   ],
   "source": [
    "precision = diag / colsums \n",
    "recall = diag / rowsums \n",
    "f1 = 2 * precision * recall / (precision + recall) \n",
    "data.frame(precision, recall, f1) "
   ]
  },
  {
   "cell_type": "code",
   "execution_count": 147,
   "id": "92a5b69b-cc51-4991-9c72-c6429ca0da61",
   "metadata": {},
   "outputs": [
    {
     "data": {
      "text/html": [
       "<style>\n",
       ".list-inline {list-style: none; margin:0; padding: 0}\n",
       ".list-inline>li {display: inline-block}\n",
       ".list-inline>li:not(:last-child)::after {content: \"\\00b7\"; padding: 0 .5ex}\n",
       "</style>\n",
       "<ol class=list-inline><li>0.807692307692308</li><li>0.97752808988764</li><li>0.982758620689655</li><li>0.988439306358382</li></ol>\n"
      ],
      "text/latex": [
       "\\begin{enumerate*}\n",
       "\\item 0.807692307692308\n",
       "\\item 0.97752808988764\n",
       "\\item 0.982758620689655\n",
       "\\item 0.988439306358382\n",
       "\\end{enumerate*}\n"
      ],
      "text/markdown": [
       "1. 0.807692307692308\n",
       "2. 0.97752808988764\n",
       "3. 0.982758620689655\n",
       "4. 0.988439306358382\n",
       "\n",
       "\n"
      ],
      "text/plain": [
       "[1] 0.8076923 0.9775281 0.9827586 0.9884393"
      ]
     },
     "metadata": {},
     "output_type": "display_data"
    }
   ],
   "source": [
    "#specificity per class\n",
    "c(tn_0/(tn_0+fp_0), tn_1/(tn_1+fp_1), tn_2/(tn_2+fp_2), tn_3/(tn_3+fp_3))"
   ]
  }
 ],
 "metadata": {
  "kernelspec": {
   "display_name": "R",
   "language": "R",
   "name": "ir"
  },
  "language_info": {
   "codemirror_mode": "r",
   "file_extension": ".r",
   "mimetype": "text/x-r-source",
   "name": "R",
   "pygments_lexer": "r",
   "version": "4.0.2"
  }
 },
 "nbformat": 4,
 "nbformat_minor": 5
}
