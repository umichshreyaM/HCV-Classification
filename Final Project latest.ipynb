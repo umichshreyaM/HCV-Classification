{
 "cells": [
  {
   "cell_type": "markdown",
   "id": "fd36d409",
   "metadata": {},
   "source": [
    "# Final Project\n",
    "\n",
    "1. EDA\n",
    "2. SVM"
   ]
  },
  {
   "cell_type": "markdown",
   "id": "4459946b",
   "metadata": {},
   "source": [
    "## 1. EDA"
   ]
  },
  {
   "cell_type": "code",
   "execution_count": 33,
   "id": "04de105d",
   "metadata": {},
   "outputs": [],
   "source": [
    "# packages\n",
    "library(dplyr)\n",
    "library(tidyverse)\n",
    "library(ggplot2)\n",
    "library(ggpubr)\n",
    "library(e1071)\n",
    "library(ROCR)"
   ]
  },
  {
   "cell_type": "code",
   "execution_count": 34,
   "id": "2d415651",
   "metadata": {},
   "outputs": [],
   "source": [
    "# data loading\n",
    "data <- read.csv(\"hcv.csv\") %>% \n",
    "               # delete id\n",
    "               select(-X) %>%\n",
    "               # remove \"0s=suspect Blood Donor\"\n",
    "                filter(Category != \"0s=suspect Blood Donor\") %>%\n",
    "                mutate(Category = case_when(Category == \"0=Blood Donor\" ~ \"BD\",\n",
    "                                            Category == \"1=Hepatitis\" ~ \"H\",\n",
    "                                            Category == \"2=Fibrosis\" ~ \"F\",\n",
    "                                            Category == \"3=Cirrhosis\" ~ \"C\"),\n",
    "                       Category = as.factor(Category),\n",
    "                       Sex = as.factor(ifelse(Sex == \"m\", 0, 1))) %>% \n",
    "                na.omit()"
   ]
  },
  {
   "cell_type": "code",
   "execution_count": 35,
   "id": "923f09fa",
   "metadata": {},
   "outputs": [
    {
     "data": {
      "text/html": [
       "<table class=\"dataframe\">\n",
       "<caption>A data.frame: 6 × 13</caption>\n",
       "<thead>\n",
       "\t<tr><th></th><th scope=col>Category</th><th scope=col>Age</th><th scope=col>Sex</th><th scope=col>ALB</th><th scope=col>ALP</th><th scope=col>ALT</th><th scope=col>AST</th><th scope=col>BIL</th><th scope=col>CHE</th><th scope=col>CHOL</th><th scope=col>CREA</th><th scope=col>GGT</th><th scope=col>PROT</th></tr>\n",
       "\t<tr><th></th><th scope=col>&lt;fct&gt;</th><th scope=col>&lt;int&gt;</th><th scope=col>&lt;fct&gt;</th><th scope=col>&lt;dbl&gt;</th><th scope=col>&lt;dbl&gt;</th><th scope=col>&lt;dbl&gt;</th><th scope=col>&lt;dbl&gt;</th><th scope=col>&lt;dbl&gt;</th><th scope=col>&lt;dbl&gt;</th><th scope=col>&lt;dbl&gt;</th><th scope=col>&lt;dbl&gt;</th><th scope=col>&lt;dbl&gt;</th><th scope=col>&lt;dbl&gt;</th></tr>\n",
       "</thead>\n",
       "<tbody>\n",
       "\t<tr><th scope=row>1</th><td>BD</td><td>32</td><td>0</td><td>38.5</td><td>52.5</td><td> 7.7</td><td>22.1</td><td> 7.5</td><td> 6.93</td><td>3.23</td><td>106</td><td>12.1</td><td>69.0</td></tr>\n",
       "\t<tr><th scope=row>2</th><td>BD</td><td>32</td><td>0</td><td>38.5</td><td>70.3</td><td>18.0</td><td>24.7</td><td> 3.9</td><td>11.17</td><td>4.80</td><td> 74</td><td>15.6</td><td>76.5</td></tr>\n",
       "\t<tr><th scope=row>3</th><td>BD</td><td>32</td><td>0</td><td>46.9</td><td>74.7</td><td>36.2</td><td>52.6</td><td> 6.1</td><td> 8.84</td><td>5.20</td><td> 86</td><td>33.2</td><td>79.3</td></tr>\n",
       "\t<tr><th scope=row>4</th><td>BD</td><td>32</td><td>0</td><td>43.2</td><td>52.0</td><td>30.6</td><td>22.6</td><td>18.9</td><td> 7.33</td><td>4.74</td><td> 80</td><td>33.8</td><td>75.7</td></tr>\n",
       "\t<tr><th scope=row>5</th><td>BD</td><td>32</td><td>0</td><td>39.2</td><td>74.1</td><td>32.6</td><td>24.8</td><td> 9.6</td><td> 9.15</td><td>4.32</td><td> 76</td><td>29.9</td><td>68.7</td></tr>\n",
       "\t<tr><th scope=row>6</th><td>BD</td><td>32</td><td>0</td><td>41.6</td><td>43.3</td><td>18.5</td><td>19.7</td><td>12.3</td><td> 9.92</td><td>6.05</td><td>111</td><td>91.0</td><td>74.0</td></tr>\n",
       "</tbody>\n",
       "</table>\n"
      ],
      "text/latex": [
       "A data.frame: 6 × 13\n",
       "\\begin{tabular}{r|lllllllllllll}\n",
       "  & Category & Age & Sex & ALB & ALP & ALT & AST & BIL & CHE & CHOL & CREA & GGT & PROT\\\\\n",
       "  & <fct> & <int> & <fct> & <dbl> & <dbl> & <dbl> & <dbl> & <dbl> & <dbl> & <dbl> & <dbl> & <dbl> & <dbl>\\\\\n",
       "\\hline\n",
       "\t1 & BD & 32 & 0 & 38.5 & 52.5 &  7.7 & 22.1 &  7.5 &  6.93 & 3.23 & 106 & 12.1 & 69.0\\\\\n",
       "\t2 & BD & 32 & 0 & 38.5 & 70.3 & 18.0 & 24.7 &  3.9 & 11.17 & 4.80 &  74 & 15.6 & 76.5\\\\\n",
       "\t3 & BD & 32 & 0 & 46.9 & 74.7 & 36.2 & 52.6 &  6.1 &  8.84 & 5.20 &  86 & 33.2 & 79.3\\\\\n",
       "\t4 & BD & 32 & 0 & 43.2 & 52.0 & 30.6 & 22.6 & 18.9 &  7.33 & 4.74 &  80 & 33.8 & 75.7\\\\\n",
       "\t5 & BD & 32 & 0 & 39.2 & 74.1 & 32.6 & 24.8 &  9.6 &  9.15 & 4.32 &  76 & 29.9 & 68.7\\\\\n",
       "\t6 & BD & 32 & 0 & 41.6 & 43.3 & 18.5 & 19.7 & 12.3 &  9.92 & 6.05 & 111 & 91.0 & 74.0\\\\\n",
       "\\end{tabular}\n"
      ],
      "text/markdown": [
       "\n",
       "A data.frame: 6 × 13\n",
       "\n",
       "| <!--/--> | Category &lt;fct&gt; | Age &lt;int&gt; | Sex &lt;fct&gt; | ALB &lt;dbl&gt; | ALP &lt;dbl&gt; | ALT &lt;dbl&gt; | AST &lt;dbl&gt; | BIL &lt;dbl&gt; | CHE &lt;dbl&gt; | CHOL &lt;dbl&gt; | CREA &lt;dbl&gt; | GGT &lt;dbl&gt; | PROT &lt;dbl&gt; |\n",
       "|---|---|---|---|---|---|---|---|---|---|---|---|---|---|\n",
       "| 1 | BD | 32 | 0 | 38.5 | 52.5 |  7.7 | 22.1 |  7.5 |  6.93 | 3.23 | 106 | 12.1 | 69.0 |\n",
       "| 2 | BD | 32 | 0 | 38.5 | 70.3 | 18.0 | 24.7 |  3.9 | 11.17 | 4.80 |  74 | 15.6 | 76.5 |\n",
       "| 3 | BD | 32 | 0 | 46.9 | 74.7 | 36.2 | 52.6 |  6.1 |  8.84 | 5.20 |  86 | 33.2 | 79.3 |\n",
       "| 4 | BD | 32 | 0 | 43.2 | 52.0 | 30.6 | 22.6 | 18.9 |  7.33 | 4.74 |  80 | 33.8 | 75.7 |\n",
       "| 5 | BD | 32 | 0 | 39.2 | 74.1 | 32.6 | 24.8 |  9.6 |  9.15 | 4.32 |  76 | 29.9 | 68.7 |\n",
       "| 6 | BD | 32 | 0 | 41.6 | 43.3 | 18.5 | 19.7 | 12.3 |  9.92 | 6.05 | 111 | 91.0 | 74.0 |\n",
       "\n"
      ],
      "text/plain": [
       "  Category Age Sex ALB  ALP  ALT  AST  BIL  CHE   CHOL CREA GGT  PROT\n",
       "1 BD       32  0   38.5 52.5  7.7 22.1  7.5  6.93 3.23 106  12.1 69.0\n",
       "2 BD       32  0   38.5 70.3 18.0 24.7  3.9 11.17 4.80  74  15.6 76.5\n",
       "3 BD       32  0   46.9 74.7 36.2 52.6  6.1  8.84 5.20  86  33.2 79.3\n",
       "4 BD       32  0   43.2 52.0 30.6 22.6 18.9  7.33 4.74  80  33.8 75.7\n",
       "5 BD       32  0   39.2 74.1 32.6 24.8  9.6  9.15 4.32  76  29.9 68.7\n",
       "6 BD       32  0   41.6 43.3 18.5 19.7 12.3  9.92 6.05 111  91.0 74.0"
      ]
     },
     "metadata": {},
     "output_type": "display_data"
    }
   ],
   "source": [
    "head(data)"
   ]
  },
  {
   "cell_type": "code",
   "execution_count": 36,
   "id": "0d63c876",
   "metadata": {},
   "outputs": [
    {
     "data": {
      "text/plain": [
       "\n",
       " BD   C   F   H \n",
       "526  24  12  20 "
      ]
     },
     "metadata": {},
     "output_type": "display_data"
    }
   ],
   "source": [
    "table(data$Category)"
   ]
  },
  {
   "cell_type": "markdown",
   "id": "a30065cf",
   "metadata": {},
   "source": [
    "Very imbalanced sample sizes among all groups of HCV staging."
   ]
  },
  {
   "cell_type": "code",
   "execution_count": 37,
   "id": "0bb36218",
   "metadata": {},
   "outputs": [
    {
     "data": {
      "text/plain": [
       " Category      Age       Sex          ALB             ALP        \n",
       " BD:526   Min.   :23.0   0:357   Min.   :23.00   Min.   : 11.30  \n",
       " C : 24   1st Qu.:39.0   1:225   1st Qu.:39.00   1st Qu.: 52.50  \n",
       " F : 12   Median :47.0           Median :41.95   Median : 66.00  \n",
       " H : 20   Mean   :47.3           Mean   :41.83   Mean   : 67.65  \n",
       "          3rd Qu.:54.0           3rd Qu.:45.17   3rd Qu.: 79.30  \n",
       "          Max.   :77.0           Max.   :82.20   Max.   :416.60  \n",
       "      ALT              AST              BIL              CHE        \n",
       " Min.   :  0.90   Min.   : 12.00   Min.   :  1.80   Min.   : 1.420  \n",
       " 1st Qu.: 16.32   1st Qu.: 21.43   1st Qu.:  5.30   1st Qu.: 6.950  \n",
       " Median : 22.50   Median : 25.60   Median :  7.15   Median : 8.265  \n",
       " Mean   : 25.67   Mean   : 33.33   Mean   : 11.09   Mean   : 8.212  \n",
       " 3rd Qu.: 31.75   3rd Qu.: 31.60   3rd Qu.: 11.00   3rd Qu.: 9.565  \n",
       " Max.   :118.10   Max.   :324.00   Max.   :209.00   Max.   :16.410  \n",
       "      CHOL            CREA              GGT              PROT      \n",
       " Min.   :1.430   Min.   :   8.00   Min.   :  4.50   Min.   :51.00  \n",
       " 1st Qu.:4.630   1st Qu.:  68.00   1st Qu.: 15.45   1st Qu.:69.30  \n",
       " Median :5.310   Median :  77.00   Median : 22.65   Median :72.10  \n",
       " Mean   :5.403   Mean   :  81.91   Mean   : 36.84   Mean   :72.11  \n",
       " 3rd Qu.:6.088   3rd Qu.:  89.00   3rd Qu.: 36.20   3rd Qu.:75.20  \n",
       " Max.   :9.670   Max.   :1079.10   Max.   :650.90   Max.   :86.50  "
      ]
     },
     "metadata": {},
     "output_type": "display_data"
    }
   ],
   "source": [
    "# summary of this dataset\n",
    "summary(data)"
   ]
  },
  {
   "cell_type": "markdown",
   "id": "972fc80f",
   "metadata": {},
   "source": [
    "### EDA - Continuous Variables"
   ]
  },
  {
   "cell_type": "code",
   "execution_count": 38,
   "id": "ba2f0571",
   "metadata": {},
   "outputs": [],
   "source": [
    "# extract only continuous variables & category\n",
    "continuous <- data %>%\n",
    "                select_if(is.numeric)\n",
    "continuous <- cbind(continuous, Category = data[,1])\n",
    "\n",
    "# arrays for boxplots\n",
    "bps <- vector(\"list\", ncol(continuous)-1)"
   ]
  },
  {
   "cell_type": "code",
   "execution_count": 39,
   "id": "dbc5c655",
   "metadata": {},
   "outputs": [],
   "source": [
    "# produce boxplots\n",
    "for(i in 1:(ncol(continuous)-1)){\n",
    "    bp <- continuous[,c(i, ncol(continuous))]\n",
    "    var <- colnames(bp)[1]\n",
    "    liver_bp <- continuous[,c(i, ncol(continuous))] %>%\n",
    "                        gather(key = \"variables\", value = \"value\", -Category)\n",
    "\n",
    "    bps[[i]] <- ggplot(data = liver_bp) + \n",
    "                    geom_boxplot(aes(x = Category, y = value)) + \n",
    "                    facet_wrap(~ variables, scales = \"free\", nrow = 1) +\n",
    "                    labs(x = \"Staging\", y = var) + theme_bw() +\n",
    "                    ggtitle(paste0(\"Boxplot of \", var, \"and Staging\", sep = \"\")) +\n",
    "                    theme(plot.title = element_text(hjust=.5, size=6))\n",
    "}"
   ]
  },
  {
   "cell_type": "code",
   "execution_count": 40,
   "id": "85d9efd5",
   "metadata": {},
   "outputs": [
    {
     "data": {
      "image/png": "[encoded data removed]",
      "text/plain": [
       "plot without title"
      ]
     },
     "metadata": {
      "image/png": {
       "height": 420,
       "width": 420
      }
     },
     "output_type": "display_data"
    }
   ],
   "source": [
    "# plot boxplots\n",
    "options(reper.plot.width = 21, reper.plot.height = 21)\n",
    "ggarrange(plotlist = bps[1:11], ncol = 4, nrow = 3)"
   ]
  },
  {
   "cell_type": "code",
   "execution_count": 41,
   "id": "03091b75",
   "metadata": {},
   "outputs": [],
   "source": [
    "# # take log for some variables\n",
    "# bps_2 <- vector(\"list\", ncol(continuous)-1)\n",
    "\n",
    "# for(i in 1:(ncol(continuous)-1)){\n",
    "    \n",
    "#     if(i %in% c(2,3,6,9,10)){\n",
    "#         data <- continuous[,c(i, ncol(continuous))]\n",
    "#         data[,1] = log(data[,1])\n",
    "#     }else{\n",
    "#         data <- continuous[,c(i, ncol(continuous))]\n",
    "#     } \n",
    "#      var <- colnames(data)[1]\n",
    "#      liver_bp <- data %>% gather(key = \"variables\", value = \"value\", -outcome)\n",
    "\n",
    "#      bps_2[[i]] <- ggplot(data = liver_bp) + \n",
    "#                          geom_boxplot(aes(x = outcome, y = value)) + \n",
    "#                          labs(x = \"Staging\", y = var) + theme_bw() +\n",
    "#                          ggtitle(paste0(\"Boxplot of \", var, \"and Staging\", sep = \"\")) +\n",
    "#                          theme(plot.title = element_text(hjust=.5, size=15))\n",
    "# }"
   ]
  },
  {
   "cell_type": "markdown",
   "id": "e22c10f5",
   "metadata": {},
   "source": [
    "## Support Vector Machine\n",
    "\n",
    "As we did in hw, we are going to use three different kernels for support vector machine classify the level of `staging` of a subject in this analysis. They are `Linear`, `Radial`, and `Polynomial`. We will first split the whole data set into training and test data. We will use 70% of the whole data for training models.\n",
    "\n",
    "We will try three different ways:\n",
    "\n",
    "1) Weighting each class when tuning\n",
    "\n",
    "2) Using SMOTE data\n",
    "\n",
    "3) Using weighted SMOTE data\n",
    "\n",
    "If I have time, I will try **ordinal logistic regression**."
   ]
  },
  {
   "cell_type": "code",
   "execution_count": 42,
   "id": "cfa66772",
   "metadata": {},
   "outputs": [],
   "source": [
    "library(dplyr)\n",
    "# load data\n",
    "train_x = read.csv(\"train_x.csv\")\n",
    "train_labels = read.csv(\"train_labels.csv\") %>%\n",
    "                transmute(Category = case_when(V1 == 0 ~ \"BD\",\n",
    "                                               V1 == 1 ~ \"H\",\n",
    "                                               V1 == 2 ~ \"F\",\n",
    "                                               V1 == 3 ~ \"C\")) %>%\n",
    "                mutate(Category = as.factor(Category))\n",
    "\n",
    "test_x = read.csv(\"test_x.csv\")\n",
    "test_labels = read.csv(\"test_labels.csv\") %>% \n",
    "                    transmute(Category = case_when(V1 == 0 ~ \"BD\",\n",
    "                                                   V1 == 1 ~ \"H\",\n",
    "                                                   V1 == 2 ~ \"F\",\n",
    "                                                   V1 == 3 ~ \"C\")) %>%\n",
    "                    mutate(Category = as.factor(Category))   \n",
    "# train & test data\n",
    "train = data.frame(train_labels, train_x)\n",
    "test = data.frame(test_labels, test_x)"
   ]
  },
  {
   "cell_type": "markdown",
   "id": "898dda3d",
   "metadata": {},
   "source": [
    "## Outlier detection using SVM\n",
    "\n",
    "We will use `kernlab` package to find outliers."
   ]
  },
  {
   "cell_type": "code",
   "execution_count": 43,
   "id": "bc6688c3",
   "metadata": {},
   "outputs": [],
   "source": [
    "#library(kernlab)"
   ]
  },
  {
   "cell_type": "code",
   "execution_count": 44,
   "id": "fe5c47d2",
   "metadata": {},
   "outputs": [],
   "source": [
    "#kernlab::ksvm(train, nu=0.09, type=\"one-svc\", kernel=)"
   ]
  },
  {
   "cell_type": "code",
   "execution_count": 45,
   "id": "20e35978",
   "metadata": {},
   "outputs": [],
   "source": [
    "#get_index=predict(svm_model)\n",
    "#head(get_index)"
   ]
  },
  {
   "cell_type": "code",
   "execution_count": 46,
   "id": "209aadbb",
   "metadata": {},
   "outputs": [],
   "source": [
    "#out_index=which(get_index[,1]==TRUE)\n",
    "#train[out_index]"
   ]
  },
  {
   "cell_type": "code",
   "execution_count": 47,
   "id": "10f670bd",
   "metadata": {},
   "outputs": [
    {
     "data": {
      "text/plain": [
       "\n",
       " BD   C   F   H \n",
       "0.3 5.1 7.2 6.3 "
      ]
     },
     "metadata": {},
     "output_type": "display_data"
    }
   ],
   "source": [
    "# class weights\n",
    "round((nrow(train))/(table(train$Category)*4),1)"
   ]
  },
  {
   "cell_type": "code",
   "execution_count": 69,
   "id": "1a88463a",
   "metadata": {},
   "outputs": [],
   "source": [
    "# initial settings\n",
    "kernels <- c('linear', 'radial', 'polynomial')\n",
    "cost0 <- 10^(seq(-2, 2, 0.1))\n",
    "gamma0 <- 10^(seq(-5, 5, 0.1))\n",
    "degree0 <- c(1, 2, 3, 4, 5)\n",
    "CW <- c('BD' = 0.3, 'C' = 5.1, 'F' = 7.2, 'H' = 6.3)\n",
    "\n",
    "# vector of lists to store tuning results\n",
    "tune_result <- vector('list', 3)"
   ]
  },
  {
   "cell_type": "code",
   "execution_count": 70,
   "id": "4345695c",
   "metadata": {
    "scrolled": true
   },
   "outputs": [],
   "source": [
    "# tuning all models with different kernels\n",
    "for(i in 1:length(kernels)){\n",
    "  # reproducability\n",
    "    set.seed(503)\n",
    "    if(kernels[i] == 'linear'){\n",
    "        tune_result[[i]] = tune(svm, Category ~ ., data = train, kernel = kernels[i],\n",
    "                                scale = FALSE, range = list(cost = cost0),\n",
    "                                class.weights = CW, tunecontrol = tune.control(cross = 5))\n",
    "    }else if(kernels[i] == 'radial'){\n",
    "        tune_result[[i]] = tune(svm, Category ~ ., data = train, kernel = kernels[i],\n",
    "                                scale = FALSE, range = list(cost = cost0, gamma = gamma0),\n",
    "                                class.weights = CW, tunecontrol = tune.control(cross = 5))\n",
    "    }else{\n",
    "        tune_result[[i]] = tune(svm, Category ~ ., data = train, kernel = kernels[i],\n",
    "                                scale = FALSE, range = list(cost = cost0, degree = degree0),\n",
    "                                class.weights = CW, tunecontrol = tune.control(cross = 5))\n",
    "    }\n",
    "}"
   ]
  },
  {
   "cell_type": "markdown",
   "id": "2b7b1a5b",
   "metadata": {},
   "source": [
    "### Best models for each kernel"
   ]
  },
  {
   "cell_type": "code",
   "execution_count": 76,
   "id": "706cb6f3",
   "metadata": {},
   "outputs": [],
   "source": [
    "# vector of lists to store svm results\n",
    "best.models <- vector('list', 3)\n",
    "\n",
    "for(i in 1:length(kernels)){\n",
    "    hyper = tune_result[[i]]$best.parameters\n",
    "    if(kernels[i] == 'linear'){\n",
    "        best.models[[i]] <- svm(Category ~ ., data = train, kernel = kernels[i], \n",
    "                                scale = FALSE, cost = hyper[,1], class.weights = CW)\n",
    "    }else if(kernels[i] == 'radial'){\n",
    "        best.models[[i]] <- svm(Category ~ ., data = train, kernel = kernels[i], \n",
    "                                scale = FALSE, cost = hyper[,1], gamma = hyper[,2],\n",
    "                                class.weights = CW)\n",
    "    }else{\n",
    "        best.models[[i]] <- svm(Category ~ ., data = train, kernel = kernels[i], \n",
    "                                scale = FALSE, cost = hyper[,1], degree = hyper[,2],\n",
    "                                class.weights = CW)\n",
    "    }\n",
    "}"
   ]
  },
  {
   "cell_type": "code",
   "execution_count": 77,
   "id": "8e7cca13",
   "metadata": {},
   "outputs": [],
   "source": [
    "# Prediction & Confusion Matrix: Training dataset\n",
    "results <- vector('list', length(kernels))\n",
    "for(i in 1:length(kernels)){\n",
    "    # array to store results for each model\n",
    "    a <- array(list(), 2)\n",
    "    # training data\n",
    "    ## prediction\n",
    "    pred = predict(best.models[[i]], train[, -1])\n",
    "    ## confusion matrix\n",
    "    confusion = table(predict = pred, truth = train$Category)\n",
    "    ## overall error\n",
    "    overall = mean(pred == train$Category)\n",
    "    ## error for each class\n",
    "    each.class = round(diag(confusion)/table(train$Category), 2)\n",
    "    a[[1]] <- list(pred = pred, confusion = confusion, overall = overall, \n",
    "                   recall.each.class = each.class)\n",
    "    # test data\n",
    "    ## prediction\n",
    "    pred = predict(best.models[[i]], test[, -1])\n",
    "    ## confusion matrix\n",
    "    confusion = table(truth = test$Category, predict = pred)\n",
    "    ## overall error\n",
    "    accuracy = mean(pred == test$Category)\n",
    "    ## recall for each class\n",
    "    recall = round(diag(confusion)/table(test$Category), 2)\n",
    "    ## precision for each class\n",
    "    precision = round(diag(confusion)/table(pred),2)\n",
    "    a[[2]] <- list(pred = pred, confusion = confusion, accuracy = accuracy, \n",
    "                   recall = recall, precision = precision)\n",
    "    \n",
    "    # combine training & test results into 'results' list\n",
    "    results[[i]] <- a\n",
    "}"
   ]
  },
  {
   "cell_type": "markdown",
   "id": "ea3bd93b",
   "metadata": {},
   "source": [
    "## Results for training"
   ]
  },
  {
   "cell_type": "code",
   "execution_count": 73,
   "id": "d852b9c3",
   "metadata": {},
   "outputs": [],
   "source": [
    "# results[[3]][[2]][2:5]\n",
    "# print(\"---------------SMOTE\")\n",
    "# #results.wSMOTE[[3]][[2]][2:5]"
   ]
  },
  {
   "cell_type": "code",
   "execution_count": 74,
   "id": "e4346399",
   "metadata": {},
   "outputs": [],
   "source": [
    "#results[[1]][[1]][2:4]; results[[2]][[1]][2:4]; results[[3]][[1]][2:4]"
   ]
  },
  {
   "cell_type": "markdown",
   "id": "94127cab",
   "metadata": {},
   "source": [
    "## Results for test"
   ]
  },
  {
   "cell_type": "code",
   "execution_count": 116,
   "id": "e0b51c53",
   "metadata": {},
   "outputs": [],
   "source": [
    "#results[[1]][[2]][3:4]; results[[2]][[2]][3:4]; results[[3]][[2]][3:4]"
   ]
  },
  {
   "cell_type": "markdown",
   "id": "83db3814",
   "metadata": {},
   "source": [
    "## SVM with SMOTE"
   ]
  },
  {
   "cell_type": "code",
   "execution_count": 55,
   "id": "6f7d2898",
   "metadata": {},
   "outputs": [],
   "source": [
    "# # train dataset : SMOTE\n",
    "# train.x.SMOTE = read.csv(\"X_train_SMOTE.csv\") %>% select(-X)\n",
    "# train.labels.SMOTE = read.csv(\"Y_train_SMOTE.csv\") %>% \n",
    "#                         transmute(Category = case_when(V1 == 0 ~ \"BD\",\n",
    "#                                                        V1 == 1 ~ \"H\",\n",
    "#                                                        V1 == 2 ~ \"F\",\n",
    "#                                                        V1 == 3 ~ \"C\")) %>%\n",
    "#                         mutate(Category = as.factor(Category))  \n",
    "# train.SMOTE = data.frame(train.labels.SMOTE, train.x.SMOTE)"
   ]
  },
  {
   "cell_type": "code",
   "execution_count": 56,
   "id": "ca19b671",
   "metadata": {},
   "outputs": [],
   "source": [
    "# # vector of lists to store tuning results\n",
    "# tune_result.SMOTE <- vector('list', 3)\n",
    "\n",
    "# # tuning all models with different kernels\n",
    "# for(i in 1:length(kernels)){\n",
    "#   # reproducability\n",
    "#     set.seed(503)\n",
    "#     if(kernels[i] == 'linear'){\n",
    "#         tune_result.SMOTE[[i]] = tune(svm, Category ~ ., data = train.SMOTE, \n",
    "#                                       kernel = kernels[i], scale = FALSE, \n",
    "#                                       range = list(cost = cost0),\n",
    "#                                       tunecontrol = tune.control(cross = 5))\n",
    "#     }else if(kernels[i] == 'radial'){\n",
    "#         tune_result.SMOTE[[i]] = tune(svm, Category ~ ., data = train.SMOTE, \n",
    "#                                       kernel = kernels[i],\n",
    "#                                       scale = FALSE, range = list(cost = cost0, \n",
    "#                                                                   gamma = gamma0),\n",
    "#                                       tunecontrol = tune.control(cross = 5))\n",
    "#     }else{\n",
    "#         tune_result.SMOTE[[i]] = tune(svm, Category ~ ., data = train.SMOTE, \n",
    "#                                       kernel = kernels[i],\n",
    "#                                       scale = FALSE, range = list(cost = cost0, \n",
    "#                                                                   degree = degree0),\n",
    "#                                       tunecontrol = tune.control(cross = 5))\n",
    "#     }\n",
    "# }"
   ]
  },
  {
   "cell_type": "code",
   "execution_count": 57,
   "id": "deab3300",
   "metadata": {},
   "outputs": [],
   "source": [
    "# # vector of lists to store svm results\n",
    "# best.models.SMOTE <- vector('list', 3)\n",
    "\n",
    "# for(i in 1:length(kernels)){\n",
    "#     hyper = tune_result.SMOTE[[i]]$best.parameters\n",
    "#     if(kernels[i] == 'linear'){\n",
    "#         best.models.SMOTE[[i]] <- svm(Category ~ ., data = train.SMOTE, probability = TRUE,\n",
    "#                                       kernel = kernels[i], scale = FALSE, cost = hyper[,1])\n",
    "#     }else if(kernels[i] == 'radial'){\n",
    "#         best.models.SMOTE[[i]] <- svm(Category ~ ., data = train.SMOTE, probability = TRUE,\n",
    "#                                       kernel = kernels[i], scale = FALSE, \n",
    "#                                       cost = hyper[,1], gamma = hyper[,2])\n",
    "#     }else{\n",
    "#         best.models.SMOTE[[i]] <- svm(Category ~ ., data = train.SMOTE, probability = TRUE,\n",
    "#                                       kernel = kernels[i], scale = FALSE, \n",
    "#                                       cost = hyper[,1], degree = hyper[,2])\n",
    "#     }\n",
    "# }"
   ]
  },
  {
   "cell_type": "code",
   "execution_count": 58,
   "id": "24e91ab8",
   "metadata": {},
   "outputs": [],
   "source": [
    "# # Prediction & Confusion Matrix: Training dataset\n",
    "# results.SMOTE <- vector('list', length(kernels))\n",
    "# for(i in 1:length(kernels)){\n",
    "#     # array to store results for each model\n",
    "#     a <- array(list(), 2)\n",
    "#     # training data\n",
    "#     ## prediction\n",
    "#     pred = predict(best.models.SMOTE[[i]], train.SMOTE[, -1])\n",
    "#     ## confusion matrix\n",
    "#     confusion = table(predict = pred, truth = train.SMOTE$Category)\n",
    "#     ## overall error\n",
    "#     overall = mean(pred == train.SMOTE$Category)\n",
    "#     ## error for each class\n",
    "#     each.class = round(diag(confusion)/table(train.SMOTE$Category), 2)\n",
    "#     a[[1]] <- list(pred = pred, confusion = confusion, overall = overall, \n",
    "#                    recall.each.class = each.class)\n",
    "#     # test data\n",
    "#     ## prediction\n",
    "#     pred = predict(best.models.SMOTE[[i]], test[, -1])\n",
    "#     ## confusion matrix\n",
    "#     confusion = table(truth = test$Category, predict = pred)\n",
    "#     ## overall error\n",
    "#     overall = mean(pred == test$Category)\n",
    "#     ## error for each class\n",
    "#     each.class = round(diag(confusion)/table(test$Category), 2)\n",
    "#     a[[2]] <- list(pred = pred, confusion = confusion, overall = overall, \n",
    "#                    recall.each.class = each.class)\n",
    "    \n",
    "#     # combine training & test results into 'results' list\n",
    "#     results.SMOTE[[i]] <- a\n",
    "# }"
   ]
  },
  {
   "cell_type": "code",
   "execution_count": 59,
   "id": "4c067bbb",
   "metadata": {},
   "outputs": [],
   "source": [
    "#results.SMOTE[[1]][[1]][3:4]; results.SMOTE[[2]][[1]][3:4]; results.SMOTE[[3]][[1]][3:4]"
   ]
  },
  {
   "cell_type": "code",
   "execution_count": 60,
   "id": "64421399",
   "metadata": {},
   "outputs": [],
   "source": [
    "# results.SMOTE[[1]][[2]][3:4]; results.SMOTE[[2]][[2]][3:4]; results.SMOTE[[3]][[2]][3:4]"
   ]
  },
  {
   "cell_type": "markdown",
   "id": "2ef76b2f",
   "metadata": {},
   "source": [
    "# Weighted SMOTE --- This section is for the best radial kernel model"
   ]
  },
  {
   "cell_type": "code",
   "execution_count": 61,
   "id": "63c26beb",
   "metadata": {},
   "outputs": [
    {
     "data": {
      "text/html": [
       "<table class=\"dataframe\">\n",
       "<caption>A data.frame: 6 × 12</caption>\n",
       "<thead>\n",
       "\t<tr><th></th><th scope=col>Age</th><th scope=col>Sex</th><th scope=col>ALB</th><th scope=col>ALP</th><th scope=col>ALT</th><th scope=col>AST</th><th scope=col>BIL</th><th scope=col>CHE</th><th scope=col>CHOL</th><th scope=col>CREA</th><th scope=col>GGT</th><th scope=col>PROT</th></tr>\n",
       "\t<tr><th></th><th scope=col>&lt;int&gt;</th><th scope=col>&lt;int&gt;</th><th scope=col>&lt;dbl&gt;</th><th scope=col>&lt;dbl&gt;</th><th scope=col>&lt;dbl&gt;</th><th scope=col>&lt;dbl&gt;</th><th scope=col>&lt;dbl&gt;</th><th scope=col>&lt;dbl&gt;</th><th scope=col>&lt;dbl&gt;</th><th scope=col>&lt;dbl&gt;</th><th scope=col>&lt;dbl&gt;</th><th scope=col>&lt;dbl&gt;</th></tr>\n",
       "</thead>\n",
       "<tbody>\n",
       "\t<tr><th scope=row>1</th><td>32</td><td>0</td><td>38.5</td><td>70.3</td><td>18.0</td><td>24.7</td><td> 3.9</td><td>11.17</td><td>4.80</td><td> 74</td><td>15.6</td><td>76.5</td></tr>\n",
       "\t<tr><th scope=row>2</th><td>32</td><td>0</td><td>46.9</td><td>74.7</td><td>36.2</td><td>52.6</td><td> 6.1</td><td> 8.84</td><td>5.20</td><td> 86</td><td>33.2</td><td>79.3</td></tr>\n",
       "\t<tr><th scope=row>3</th><td>32</td><td>0</td><td>43.2</td><td>52.0</td><td>30.6</td><td>22.6</td><td>18.9</td><td> 7.33</td><td>4.74</td><td> 80</td><td>33.8</td><td>75.7</td></tr>\n",
       "\t<tr><th scope=row>4</th><td>32</td><td>0</td><td>42.2</td><td>41.9</td><td>35.8</td><td>31.1</td><td>16.1</td><td> 5.82</td><td>4.60</td><td>109</td><td>21.5</td><td>67.1</td></tr>\n",
       "\t<tr><th scope=row>5</th><td>32</td><td>0</td><td>44.3</td><td>52.3</td><td>21.7</td><td>22.4</td><td>17.2</td><td> 4.15</td><td>3.57</td><td> 78</td><td>24.1</td><td>75.4</td></tr>\n",
       "\t<tr><th scope=row>6</th><td>33</td><td>0</td><td>36.3</td><td>78.6</td><td>23.6</td><td>22.0</td><td> 7.0</td><td> 8.56</td><td>5.38</td><td> 78</td><td>19.4</td><td>68.7</td></tr>\n",
       "</tbody>\n",
       "</table>\n"
      ],
      "text/latex": [
       "A data.frame: 6 × 12\n",
       "\\begin{tabular}{r|llllllllllll}\n",
       "  & Age & Sex & ALB & ALP & ALT & AST & BIL & CHE & CHOL & CREA & GGT & PROT\\\\\n",
       "  & <int> & <int> & <dbl> & <dbl> & <dbl> & <dbl> & <dbl> & <dbl> & <dbl> & <dbl> & <dbl> & <dbl>\\\\\n",
       "\\hline\n",
       "\t1 & 32 & 0 & 38.5 & 70.3 & 18.0 & 24.7 &  3.9 & 11.17 & 4.80 &  74 & 15.6 & 76.5\\\\\n",
       "\t2 & 32 & 0 & 46.9 & 74.7 & 36.2 & 52.6 &  6.1 &  8.84 & 5.20 &  86 & 33.2 & 79.3\\\\\n",
       "\t3 & 32 & 0 & 43.2 & 52.0 & 30.6 & 22.6 & 18.9 &  7.33 & 4.74 &  80 & 33.8 & 75.7\\\\\n",
       "\t4 & 32 & 0 & 42.2 & 41.9 & 35.8 & 31.1 & 16.1 &  5.82 & 4.60 & 109 & 21.5 & 67.1\\\\\n",
       "\t5 & 32 & 0 & 44.3 & 52.3 & 21.7 & 22.4 & 17.2 &  4.15 & 3.57 &  78 & 24.1 & 75.4\\\\\n",
       "\t6 & 33 & 0 & 36.3 & 78.6 & 23.6 & 22.0 &  7.0 &  8.56 & 5.38 &  78 & 19.4 & 68.7\\\\\n",
       "\\end{tabular}\n"
      ],
      "text/markdown": [
       "\n",
       "A data.frame: 6 × 12\n",
       "\n",
       "| <!--/--> | Age &lt;int&gt; | Sex &lt;int&gt; | ALB &lt;dbl&gt; | ALP &lt;dbl&gt; | ALT &lt;dbl&gt; | AST &lt;dbl&gt; | BIL &lt;dbl&gt; | CHE &lt;dbl&gt; | CHOL &lt;dbl&gt; | CREA &lt;dbl&gt; | GGT &lt;dbl&gt; | PROT &lt;dbl&gt; |\n",
       "|---|---|---|---|---|---|---|---|---|---|---|---|---|\n",
       "| 1 | 32 | 0 | 38.5 | 70.3 | 18.0 | 24.7 |  3.9 | 11.17 | 4.80 |  74 | 15.6 | 76.5 |\n",
       "| 2 | 32 | 0 | 46.9 | 74.7 | 36.2 | 52.6 |  6.1 |  8.84 | 5.20 |  86 | 33.2 | 79.3 |\n",
       "| 3 | 32 | 0 | 43.2 | 52.0 | 30.6 | 22.6 | 18.9 |  7.33 | 4.74 |  80 | 33.8 | 75.7 |\n",
       "| 4 | 32 | 0 | 42.2 | 41.9 | 35.8 | 31.1 | 16.1 |  5.82 | 4.60 | 109 | 21.5 | 67.1 |\n",
       "| 5 | 32 | 0 | 44.3 | 52.3 | 21.7 | 22.4 | 17.2 |  4.15 | 3.57 |  78 | 24.1 | 75.4 |\n",
       "| 6 | 33 | 0 | 36.3 | 78.6 | 23.6 | 22.0 |  7.0 |  8.56 | 5.38 |  78 | 19.4 | 68.7 |\n",
       "\n"
      ],
      "text/plain": [
       "  Age Sex ALB  ALP  ALT  AST  BIL  CHE   CHOL CREA GGT  PROT\n",
       "1 32  0   38.5 70.3 18.0 24.7  3.9 11.17 4.80  74  15.6 76.5\n",
       "2 32  0   46.9 74.7 36.2 52.6  6.1  8.84 5.20  86  33.2 79.3\n",
       "3 32  0   43.2 52.0 30.6 22.6 18.9  7.33 4.74  80  33.8 75.7\n",
       "4 32  0   42.2 41.9 35.8 31.1 16.1  5.82 4.60 109  21.5 67.1\n",
       "5 32  0   44.3 52.3 21.7 22.4 17.2  4.15 3.57  78  24.1 75.4\n",
       "6 33  0   36.3 78.6 23.6 22.0  7.0  8.56 5.38  78  19.4 68.7"
      ]
     },
     "metadata": {},
     "output_type": "display_data"
    }
   ],
   "source": [
    "# change the file name to \"X_train_wSMOTE.csv\"\n",
    "train.x.wSMOTE = read.csv(\"X_train_wSMOTE.csv\")\n",
    "head(train.x.wSMOTE)"
   ]
  },
  {
   "cell_type": "code",
   "execution_count": 62,
   "id": "6b598f4a",
   "metadata": {},
   "outputs": [],
   "source": [
    "# train dataset : SMOTE\n",
    "train.x.wSMOTE = read.csv(\"X_train_wSMOTE.csv\")\n",
    "train.labels.wSMOTE = read.csv(\"Y_train_wSMOTE.csv\") %>% \n",
    "                        transmute(Category = case_when(V1 == 0 ~ \"BD\",\n",
    "                                                       V1 == 1 ~ \"H\",\n",
    "                                                       V1 == 2 ~ \"F\",\n",
    "                                                       V1 == 3 ~ \"C\")) %>%\n",
    "                        mutate(Category = as.factor(Category))  \n",
    "train.wSMOTE = data.frame(train.labels.wSMOTE, train.x.wSMOTE)"
   ]
  },
  {
   "cell_type": "code",
   "execution_count": 80,
   "id": "a7027bb9",
   "metadata": {},
   "outputs": [],
   "source": [
    "# vector of lists to store tuning results\n",
    "tune_result.wSMOTE <- vector('list', 3)\n",
    "\n",
    "# tuning all models with different kernels\n",
    "for(i in 1:length(kernels)){\n",
    "  # reproducability\n",
    "    set.seed(503)\n",
    "    if(kernels[i] == 'linear'){\n",
    "        tune_result.wSMOTE[[i]] = tune(svm, Category ~ ., data = train.wSMOTE, \n",
    "                                      kernel = kernels[i], scale = FALSE, \n",
    "                                      range = list(cost = cost0),\n",
    "                                      tunecontrol = tune.control(cross = 5))\n",
    "    }else if(kernels[i] == 'radial'){\n",
    "        tune_result.wSMOTE[[i]] = tune(svm, Category ~ ., data = train.wSMOTE, \n",
    "                                      kernel = kernels[i],\n",
    "                                      scale = FALSE, range = list(cost = cost0, \n",
    "                                                                  gamma = gamma0),\n",
    "                                      tunecontrol = tune.control(cross = 5))\n",
    "    }else{\n",
    "        tune_result.wSMOTE[[i]] = tune(svm, Category ~ ., data = train.wSMOTE, \n",
    "                                      kernel = kernels[i],\n",
    "                                      scale = FALSE, range = list(cost = cost0, \n",
    "                                                                  degree = degree0),\n",
    "                                      tunecontrol = tune.control(cross = 5))\n",
    "    }\n",
    "}"
   ]
  },
  {
   "cell_type": "code",
   "execution_count": 81,
   "id": "060be273",
   "metadata": {},
   "outputs": [],
   "source": [
    "# vector of lists to store svm results\n",
    "best.models.wSMOTE <- vector('list', 3)\n",
    "\n",
    "for(i in 1:length(kernels)){\n",
    "    hyper = tune_result.wSMOTE[[i]]$best.parameters\n",
    "    if(kernels[i] == 'linear'){\n",
    "        best.models.wSMOTE[[i]] <- svm(Category ~ ., data = train.wSMOTE, probability = TRUE,\n",
    "                                      kernel = kernels[i], scale = FALSE, cost = hyper[,1])\n",
    "    }else if(kernels[i] == 'radial'){\n",
    "        best.models.wSMOTE[[i]] <- svm(Category ~ ., data = train.wSMOTE, probability = TRUE,\n",
    "                                      kernel = kernels[i], scale = FALSE, \n",
    "                                      cost = hyper[,1], gamma = hyper[,2])\n",
    "    }else{\n",
    "        best.models.wSMOTE[[i]] <- svm(Category ~ ., data = train.wSMOTE, probability = TRUE,\n",
    "                                      kernel = kernels[i], scale = FALSE, \n",
    "                                      cost = hyper[,1], degree = hyper[,2])\n",
    "    }\n",
    "}"
   ]
  },
  {
   "cell_type": "code",
   "execution_count": 82,
   "id": "948a18f9",
   "metadata": {},
   "outputs": [],
   "source": [
    "# Prediction & Confusion Matrix: Training dataset\n",
    "results.wSMOTE <- vector('list', length(kernels))\n",
    "for(i in 1:length(kernels)){\n",
    "    # array to store results for each model\n",
    "    a <- array(list(), 2)\n",
    "    # training data\n",
    "    ## prediction\n",
    "    pred = predict(best.models.wSMOTE[[i]], train.wSMOTE[, -1])\n",
    "    ## confusion matrix\n",
    "    confusion = table(predict = pred, truth = train.wSMOTE$Category)\n",
    "    ## overall error\n",
    "    overall = mean(pred == train.wSMOTE$Category)\n",
    "    ## error for each class\n",
    "    each.class = round(diag(confusion)/table(train.wSMOTE$Category), 2)\n",
    "    a[[1]] <- list(pred = pred, confusion = confusion, overall = overall, \n",
    "                   recall.each.class = each.class)\n",
    "    # test data\n",
    "    ## prediction\n",
    "    pred = predict(best.models.wSMOTE[[i]], test[, -1])\n",
    "    ## confusion matrix\n",
    "    confusion = table(truth = test$Category, predict = pred)\n",
    "    ## overall error\n",
    "    accuracy = mean(pred == test$Category)\n",
    "    ## recall for each class\n",
    "    recall = round(diag(confusion)/table(test$Category), 2)\n",
    "    ## precision for each class\n",
    "    precision = round(diag(confusion)/table(pred),2)\n",
    "    a[[2]] <- list(pred = pred, confusion = confusion, accuracy = accuracy, \n",
    "                   recall = recall, precision = precision)\n",
    "    \n",
    "    # combine training & test results into 'results' list\n",
    "    results.wSMOTE[[i]] <- a\n",
    "}"
   ]
  },
  {
   "cell_type": "code",
   "execution_count": 115,
   "id": "3e1a3f39",
   "metadata": {},
   "outputs": [
    {
     "data": {
      "text/plain": [
       "$confusion\n",
       "     predict\n",
       "truth  BD   C   F   H\n",
       "   BD 160   0   0   2\n",
       "   C    0   7   2   0\n",
       "   F    1   1   3   1\n",
       "   H    1   0   1   5\n",
       "\n",
       "$accuracy\n",
       "[1] 0.951087\n",
       "\n",
       "$recall\n",
       "\n",
       "  BD    C    F    H \n",
       "0.99 0.78 0.50 0.71 \n",
       "\n",
       "$precision\n",
       "pred\n",
       "  BD    C    F    H \n",
       "0.99 0.88 0.50 0.62 \n"
      ]
     },
     "metadata": {},
     "output_type": "display_data"
    }
   ],
   "source": [
    "#results.wSMOTE[[2]][[2]][2:5]"
   ]
  },
  {
   "cell_type": "code",
   "execution_count": 67,
   "id": "dfe97161",
   "metadata": {},
   "outputs": [
    {
     "data": {
      "text/plain": [
       "$accuracy\n",
       "[1] 0.9130435\n",
       "\n",
       "$recall\n",
       "\n",
       "  BD    C    F    H \n",
       "0.99 0.44 0.17 0.43 \n"
      ]
     },
     "metadata": {},
     "output_type": "display_data"
    },
    {
     "data": {
      "text/plain": [
       "$accuracy\n",
       "[1] 0.8804348\n",
       "\n",
       "$recall\n",
       "\n",
       "BD  C  F  H \n",
       " 1  0  0  0 \n"
      ]
     },
     "metadata": {},
     "output_type": "display_data"
    },
    {
     "data": {
      "text/plain": [
       "$accuracy\n",
       "[1] 0.9130435\n",
       "\n",
       "$recall\n",
       "\n",
       "  BD    C    F    H \n",
       "0.99 0.44 0.17 0.43 \n"
      ]
     },
     "metadata": {},
     "output_type": "display_data"
    }
   ],
   "source": [
    "# training result\n",
    "#results.wSMOTE[[1]][[1]][2:4]; results.wSMOTE[[2]][[1]][2:4]; results.wSMOTE[[3]][[1]][2:4]\n",
    "# test result\n",
    "#results.wSMOTE[[1]][[2]][3:4]; results.wSMOTE[[2]][[2]][3:4]; results.wSMOTE[[3]][[2]][3:4]"
   ]
  },
  {
   "cell_type": "markdown",
   "id": "4b5d3160",
   "metadata": {},
   "source": [
    "# Results of all models\n",
    "\n",
    "![t](image.png)\n",
    "\n",
    "![recall](recall.png)"
   ]
  },
  {
   "cell_type": "code",
   "execution_count": 83,
   "id": "f5f4061d",
   "metadata": {},
   "outputs": [
    {
     "data": {
      "text/html": [
       "<table class=\"dataframe\">\n",
       "<caption>A matrix: 6 × 4 of type dbl</caption>\n",
       "<thead>\n",
       "\t<tr><th></th><th scope=col>BD</th><th scope=col>C</th><th scope=col>F</th><th scope=col>H</th></tr>\n",
       "</thead>\n",
       "<tbody>\n",
       "\t<tr><th scope=row>weighted-linear</th><td>0.98</td><td>0.44</td><td>0.33</td><td>0.43</td></tr>\n",
       "\t<tr><th scope=row>weighted-radial</th><td>0.96</td><td>0.56</td><td>0.33</td><td>0.71</td></tr>\n",
       "\t<tr><th scope=row>weighted-polynomial</th><td>0.96</td><td>0.33</td><td>0.33</td><td>0.43</td></tr>\n",
       "\t<tr><th scope=row>weightedSMOTE-linear</th><td>0.99</td><td>0.44</td><td>0.17</td><td>0.43</td></tr>\n",
       "\t<tr><th scope=row>weightedSMOTE-radial</th><td>0.99</td><td>0.78</td><td>0.50</td><td>0.71</td></tr>\n",
       "\t<tr><th scope=row>weightedSMOTE-plynomial</th><td>0.99</td><td>0.44</td><td>0.17</td><td>0.43</td></tr>\n",
       "</tbody>\n",
       "</table>\n"
      ],
      "text/latex": [
       "A matrix: 6 × 4 of type dbl\n",
       "\\begin{tabular}{r|llll}\n",
       "  & BD & C & F & H\\\\\n",
       "\\hline\n",
       "\tweighted-linear & 0.98 & 0.44 & 0.33 & 0.43\\\\\n",
       "\tweighted-radial & 0.96 & 0.56 & 0.33 & 0.71\\\\\n",
       "\tweighted-polynomial & 0.96 & 0.33 & 0.33 & 0.43\\\\\n",
       "\tweightedSMOTE-linear & 0.99 & 0.44 & 0.17 & 0.43\\\\\n",
       "\tweightedSMOTE-radial & 0.99 & 0.78 & 0.50 & 0.71\\\\\n",
       "\tweightedSMOTE-plynomial & 0.99 & 0.44 & 0.17 & 0.43\\\\\n",
       "\\end{tabular}\n"
      ],
      "text/markdown": [
       "\n",
       "A matrix: 6 × 4 of type dbl\n",
       "\n",
       "| <!--/--> | BD | C | F | H |\n",
       "|---|---|---|---|---|\n",
       "| weighted-linear | 0.98 | 0.44 | 0.33 | 0.43 |\n",
       "| weighted-radial | 0.96 | 0.56 | 0.33 | 0.71 |\n",
       "| weighted-polynomial | 0.96 | 0.33 | 0.33 | 0.43 |\n",
       "| weightedSMOTE-linear | 0.99 | 0.44 | 0.17 | 0.43 |\n",
       "| weightedSMOTE-radial | 0.99 | 0.78 | 0.50 | 0.71 |\n",
       "| weightedSMOTE-plynomial | 0.99 | 0.44 | 0.17 | 0.43 |\n",
       "\n"
      ],
      "text/plain": [
       "                        BD   C    F    H   \n",
       "weighted-linear         0.98 0.44 0.33 0.43\n",
       "weighted-radial         0.96 0.56 0.33 0.71\n",
       "weighted-polynomial     0.96 0.33 0.33 0.43\n",
       "weightedSMOTE-linear    0.99 0.44 0.17 0.43\n",
       "weightedSMOTE-radial    0.99 0.78 0.50 0.71\n",
       "weightedSMOTE-plynomial 0.99 0.44 0.17 0.43"
      ]
     },
     "metadata": {},
     "output_type": "display_data"
    }
   ],
   "source": [
    "# overall\n",
    "# weighted: 0.9456522\n",
    "# SMOTE: 0.9402174\n",
    "# weighted SMOTE: 0.9293478\n",
    "\n",
    "# tables\n",
    "all <- matrix(rep(0, 24),  6, 4, byrow=TRUE)\n",
    "colnames(all) <- c('BD', 'C', 'F', 'H')\n",
    "rownames(all) <- c('weighted-linear', 'weighted-radial', 'weighted-polynomial',\n",
    "                   #'SMOTE-linear', 'SMOTE-radial', 'SMOTE-polynomial',\n",
    "                   'weightedSMOTE-linear', 'weightedSMOTE-radial', 'weightedSMOTE-plynomial')\n",
    "all[1,]<-unlist(results[[1]][[2]][4]);all[2,]<-unlist(results[[2]][[2]][4]);all[3,]<-unlist(results[[3]][[2]][4])\n",
    "#all[4,]<-unlist(results.SMOTE[[1]][[2]][4]);all[5,]<-unlist(results.SMOTE[[2]][[2]][4]);all[6,]<-unlist(results.SMOTE[[3]][[2]][4])\n",
    "all[4,]<-unlist(results.wSMOTE[[1]][[2]][4]);all[5,]<-unlist(results.wSMOTE[[2]][[2]][4]);all[6,]<-unlist(results.wSMOTE[[3]][[2]][4])\n",
    "all\n",
    "recall"
   ]
  },
  {
   "cell_type": "markdown",
   "id": "f0095473",
   "metadata": {},
   "source": [
    "We want to get the best performance on C. SVM with polynomial kernel with weighted tuning and SVM with polynomial kernel with weighted SMOTE data. For other classes, **SVM with weighted polynomial has the best recall**."
   ]
  },
  {
   "cell_type": "markdown",
   "id": "0c4ebba5",
   "metadata": {},
   "source": [
    "# Ordinal Logistic Regression"
   ]
  },
  {
   "cell_type": "code",
   "execution_count": 85,
   "id": "ef2fbae5",
   "metadata": {},
   "outputs": [],
   "source": [
    "library(foreign)\n",
    "library(ggplot2)\n",
    "library(MASS)\n",
    "library(Hmisc)\n",
    "library(reshape2)"
   ]
  },
  {
   "cell_type": "code",
   "execution_count": 110,
   "id": "01ff5c16",
   "metadata": {},
   "outputs": [],
   "source": [
    "train.new = train.wSMOTE %>% filter(ALP < 100, ALT < 50, AST < 100, BIL < 150, CREA < 500, GGT < 100)"
   ]
  },
  {
   "cell_type": "code",
   "execution_count": 113,
   "id": "242e77ea",
   "metadata": {},
   "outputs": [
    {
     "name": "stderr",
     "output_type": "stream",
     "text": [
      "Warning message:\n",
      "“glm.fit: fitted probabilities numerically 0 or 1 occurred”\n"
     ]
    },
    {
     "data": {
      "text/html": [
       "0.902173913043478"
      ],
      "text/latex": [
       "0.902173913043478"
      ],
      "text/markdown": [
       "0.902173913043478"
      ],
      "text/plain": [
       "[1] 0.9021739"
      ]
     },
     "metadata": {},
     "output_type": "display_data"
    },
    {
     "data": {
      "text/plain": [
       "\n",
       "  BD    C    F    H \n",
       "0.98 0.11 0.17 0.71 "
      ]
     },
     "metadata": {},
     "output_type": "display_data"
    },
    {
     "data": {
      "text/plain": [
       "prediction.result\n",
       "  BD    C    F    H \n",
       "0.97 0.17 0.33 0.45 "
      ]
     },
     "metadata": {},
     "output_type": "display_data"
    }
   ],
   "source": [
    "# we might have outliers\n",
    "m <- polr(Category ~ ., data = train.new, Hess=TRUE, method = \"logistic\")\n",
    "prediction.result <- predict(m, test[,-1])\n",
    "mean(prediction.result == test$Category)\n",
    "confusion = table(truth = test$Category, predict = prediction.result)\n",
    "recall = round(diag(confusion)/table(test$Category), 2)\n",
    "precision = round(diag(confusion)/table(prediction.result),2)\n",
    "recall; precision"
   ]
  },
  {
   "cell_type": "markdown",
   "id": "c1e96a30",
   "metadata": {},
   "source": [
    "# ROC Curves: SMOTE"
   ]
  },
  {
   "cell_type": "code",
   "execution_count": 101,
   "id": "f9bb76c3",
   "metadata": {},
   "outputs": [],
   "source": [
    "# library(e1071)\n",
    "# svm.smote.prob <- vector('list', 3)\n",
    "# ROC <- vector('list', 4)\n",
    "\n",
    "# category <- vector(\"list\", 4)\n",
    "# variable <- c(\"BD\", \"H\", \"F\", \"C\")\n",
    "# for(i in 1:4){\n",
    "#     category[[i]] <- data.frame(Category = test$Category) %>% \n",
    "#                         mutate(Category = ifelse(Category == variable[i], 1, 0))}"
   ]
  },
  {
   "cell_type": "code",
   "execution_count": 102,
   "id": "a83b2149",
   "metadata": {},
   "outputs": [],
   "source": [
    "# # ROC\n",
    "# ROCs <- vector('list', 4)\n",
    "# # auc\n",
    "# auc <- data.frame(matrix(rep(0, 12), 3, 4, byrow = TRUE))\n",
    "# colnames(auc) <- c('BD', 'H', 'F', 'C')\n",
    "# rownames(auc) <- c('SVM(linear)', 'SVM(radial)', 'SVM(polynomial)')\n",
    "\n",
    "# for(i in 1:4){\n",
    "#     for(j in 1:3){\n",
    "#         # fit each model to each class\n",
    "#         svm.smote = best.models.SMOTE[[j]]\n",
    "#         svm.smote.prob = predict(svm.smote, newdata = test[,-1], \n",
    "#                                  type = 'prob', probability = TRUE)\n",
    "#         # ROC\n",
    "#         rocr = prediction(attr(svm.smote.prob, \"probabilities\")[,i], category[[i]])\n",
    "#         perf = performance(rocr, \"tpr\", \"fpr\")\n",
    "        \n",
    "#         # AUC\n",
    "#         auc[j,i] = performance(rocr, \"auc\")@y.values\n",
    "        \n",
    "#         # plots\n",
    "#         if(j == 1){\n",
    "#             ROC = plot(perf, col = j+1, main = paste(\"ROC curve for\", variable[i]))\n",
    "#         }else{\n",
    "#             ROC = plot(perf, col = j+1, add = TRUE)\n",
    "#         }\n",
    "#         legend(0.6, 0.6, c('SVM(linear)', 'SVM(radial)', 'SVM(polynomial)'), 2:5)\n",
    "#     }\n",
    "#     ROCs[[i]] <- ROC\n",
    "# }"
   ]
  }
 ],
 "metadata": {
  "kernelspec": {
   "display_name": "R",
   "language": "R",
   "name": "ir"
  },
  "language_info": {
   "codemirror_mode": "r",
   "file_extension": ".r",
   "mimetype": "text/x-r-source",
   "name": "R",
   "pygments_lexer": "r",
   "version": "4.1.1"
  }
 },
 "nbformat": 4,
 "nbformat_minor": 5
}
