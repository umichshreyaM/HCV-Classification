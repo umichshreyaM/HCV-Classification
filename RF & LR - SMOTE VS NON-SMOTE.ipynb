{
 "cells": [
  {
   "cell_type": "code",
   "execution_count": 112,
   "id": "83bcd126",
   "metadata": {},
   "outputs": [],
   "source": [
    "import pandas as pd\n",
    "import numpy as np\n",
    "import matplotlib.pyplot as plt"
   ]
  },
  {
   "cell_type": "markdown",
   "id": "b2aa332c",
   "metadata": {},
   "source": [
    "# SMOTE"
   ]
  },
  {
   "cell_type": "code",
   "execution_count": 113,
   "id": "20beb1b6",
   "metadata": {},
   "outputs": [],
   "source": [
    "X_train = pd.read_csv(\"X_train_SMOTE.csv\")\n",
    "y_train = pd.read_csv(\"Y_train_SMOTE.csv\")\n",
    "X_test = pd.read_csv(\"test_x.csv\")\n",
    "y_test = pd.read_csv(\"test_labels.csv\")"
   ]
  },
  {
   "cell_type": "code",
   "execution_count": 114,
   "id": "69d2a739",
   "metadata": {},
   "outputs": [],
   "source": [
    "X_train = X_train.drop(columns=['Unnamed: 0'])"
   ]
  },
  {
   "cell_type": "code",
   "execution_count": 115,
   "id": "2ed771b4",
   "metadata": {},
   "outputs": [],
   "source": [
    "y_train = y_train.drop(columns=['Unnamed: 0'])"
   ]
  },
  {
   "cell_type": "code",
   "execution_count": 116,
   "id": "6c86db70",
   "metadata": {},
   "outputs": [],
   "source": [
    "y_train = np.ravel(y_train)\n",
    "y_test = np.ravel(y_test)"
   ]
  },
  {
   "cell_type": "code",
   "execution_count": 117,
   "id": "dacf12bd",
   "metadata": {},
   "outputs": [
    {
     "data": {
      "text/plain": [
       "GridSearchCV(cv=5, estimator=RandomForestClassifier(), n_jobs=-1,\n",
       "             param_grid={'criterion': ['entropy'], 'max_depth': [2, 7, 12, 17],\n",
       "                         'n_estimators': [5, 10, 20, 30, 40, 50],\n",
       "                         'random_state': [0]})"
      ]
     },
     "execution_count": 117,
     "metadata": {},
     "output_type": "execute_result"
    }
   ],
   "source": [
    "#Random Forest\n",
    "from sklearn.ensemble import RandomForestClassifier\n",
    "from sklearn.model_selection import train_test_split\n",
    "from sklearn.model_selection import GridSearchCV\n",
    "\n",
    "model = RandomForestClassifier()\n",
    "\n",
    "model.fit(X_train,y_train)\n",
    "\n",
    "param_grid = {\n",
    "                'n_estimators': [5, 10, 20, 30, 40, 50],\n",
    "                'max_depth': [2, 7, 12, 17],\n",
    "                'criterion': [\"entropy\"],\n",
    "                'random_state': [0],\n",
    "             }\n",
    "\n",
    "grid_clf1 = GridSearchCV(model, param_grid, cv=5, n_jobs=-1)\n",
    "grid_clf1.fit(X_train,y_train)"
   ]
  },
  {
   "cell_type": "code",
   "execution_count": 118,
   "id": "84d6df06",
   "metadata": {},
   "outputs": [
    {
     "data": {
      "text/plain": [
       "RandomForestClassifier(criterion='entropy', max_depth=17, n_estimators=30,\n",
       "                       random_state=0)"
      ]
     },
     "execution_count": 118,
     "metadata": {},
     "output_type": "execute_result"
    }
   ],
   "source": [
    "grid_clf1.best_estimator_"
   ]
  },
  {
   "cell_type": "code",
   "execution_count": 119,
   "id": "a132fab1",
   "metadata": {},
   "outputs": [
    {
     "name": "stdout",
     "output_type": "stream",
     "text": [
      "[[158   3   1   0]\n",
      " [  1   4   2   0]\n",
      " [  1   2   3   0]\n",
      " [  1   0   1   7]]\n",
      "0.9347826086956522\n"
     ]
    }
   ],
   "source": [
    "from sklearn.metrics import confusion_matrix,accuracy_score\n",
    "\n",
    "pred=grid_clf1.best_estimator_.predict(X_test)\n",
    "cm=confusion_matrix(y_test,pred)\n",
    "AS=accuracy_score(y_test,pred)\n",
    "\n",
    "print(cm)\n",
    "print(AS)"
   ]
  },
  {
   "cell_type": "code",
   "execution_count": 120,
   "id": "734a5ede",
   "metadata": {},
   "outputs": [
    {
     "data": {
      "text/plain": [
       "array([0.97530864, 0.57142857, 0.5       , 0.77777778])"
      ]
     },
     "execution_count": 120,
     "metadata": {},
     "output_type": "execute_result"
    }
   ],
   "source": [
    "from sklearn.metrics import recall_score\n",
    "recall_score(y_test,pred, average=None)"
   ]
  },
  {
   "cell_type": "code",
   "execution_count": 122,
   "id": "cf4dbd3e",
   "metadata": {},
   "outputs": [
    {
     "data": {
      "text/plain": [
       "LogisticRegression(random_state=0, solver='liblinear')"
      ]
     },
     "execution_count": 122,
     "metadata": {},
     "output_type": "execute_result"
    }
   ],
   "source": [
    "#Logistic Regression\n",
    "from sklearn.linear_model import LogisticRegression\n",
    "\n",
    "LG = LogisticRegression(random_state=0, solver = 'liblinear')\n",
    "\n",
    "LG.fit(X_train,y_train)"
   ]
  },
  {
   "cell_type": "code",
   "execution_count": 123,
   "id": "6d42db55",
   "metadata": {},
   "outputs": [
    {
     "name": "stdout",
     "output_type": "stream",
     "text": [
      "[[150   5   6   1]\n",
      " [  0   4   2   1]\n",
      " [  1   3   2   0]\n",
      " [  1   0   3   5]]\n",
      "0.875\n"
     ]
    }
   ],
   "source": [
    "from sklearn.metrics import confusion_matrix,accuracy_score\n",
    "model_LG= LG\n",
    "\n",
    "pred_LG=model_LG.predict(X_test)\n",
    "cm=confusion_matrix(y_test,pred_LG)\n",
    "AS_LG=accuracy_score(y_test,pred_LG)\n",
    "\n",
    "print(cm)\n",
    "print(AS_LG)"
   ]
  },
  {
   "cell_type": "code",
   "execution_count": 124,
   "id": "352ef5ef",
   "metadata": {},
   "outputs": [
    {
     "data": {
      "text/plain": [
       "array([0.92592593, 0.57142857, 0.33333333, 0.55555556])"
      ]
     },
     "execution_count": 124,
     "metadata": {},
     "output_type": "execute_result"
    }
   ],
   "source": [
    "from sklearn.metrics import recall_score\n",
    "recall_score(y_test,pred_LG, average=None)"
   ]
  },
  {
   "cell_type": "markdown",
   "id": "a779a1f4",
   "metadata": {},
   "source": [
    "# not SMOTE"
   ]
  },
  {
   "cell_type": "code",
   "execution_count": 125,
   "id": "03fd7b83",
   "metadata": {},
   "outputs": [],
   "source": [
    "X_train = pd.read_csv(\"train_x.csv\")\n",
    "y_train = pd.read_csv(\"train_labels.csv\")\n",
    "X_test = pd.read_csv(\"test_x.csv\")\n",
    "y_test = pd.read_csv(\"test_labels.csv\")"
   ]
  },
  {
   "cell_type": "code",
   "execution_count": 126,
   "id": "2fad0984",
   "metadata": {},
   "outputs": [],
   "source": [
    "y_train = np.ravel(y_train)\n",
    "y_test = np.ravel(y_test)"
   ]
  },
  {
   "cell_type": "code",
   "execution_count": 127,
   "id": "3ac050fd",
   "metadata": {},
   "outputs": [
    {
     "data": {
      "text/plain": [
       "GridSearchCV(cv=5, estimator=RandomForestClassifier(), n_jobs=-1,\n",
       "             param_grid={'criterion': ['entropy'], 'max_depth': [2, 7, 12, 17],\n",
       "                         'n_estimators': [5, 10, 20, 30, 40, 50],\n",
       "                         'random_state': [0]})"
      ]
     },
     "execution_count": 127,
     "metadata": {},
     "output_type": "execute_result"
    }
   ],
   "source": [
    "#Random Forest\n",
    "from sklearn.ensemble import RandomForestClassifier\n",
    "from sklearn.model_selection import train_test_split\n",
    "from sklearn.model_selection import GridSearchCV\n",
    "\n",
    "model = RandomForestClassifier()\n",
    "\n",
    "model.fit(X_train,y_train)\n",
    "\n",
    "param_grid = {\n",
    "                'n_estimators': [5, 10, 20, 30, 40, 50],\n",
    "                'max_depth': [2, 7, 12, 17],\n",
    "                'criterion': [\"entropy\"],\n",
    "                'random_state': [0],\n",
    "             }\n",
    "\n",
    "grid_clf1 = GridSearchCV(model, param_grid, cv=5, n_jobs=-1)\n",
    "grid_clf1.fit(X_train,y_train)"
   ]
  },
  {
   "cell_type": "code",
   "execution_count": 128,
   "id": "b12caac4",
   "metadata": {},
   "outputs": [
    {
     "data": {
      "text/plain": [
       "RandomForestClassifier(criterion='entropy', max_depth=7, n_estimators=40,\n",
       "                       random_state=0)"
      ]
     },
     "execution_count": 128,
     "metadata": {},
     "output_type": "execute_result"
    }
   ],
   "source": [
    "grid_clf1.best_estimator_"
   ]
  },
  {
   "cell_type": "code",
   "execution_count": 129,
   "id": "9ba5f2f5",
   "metadata": {},
   "outputs": [
    {
     "name": "stdout",
     "output_type": "stream",
     "text": [
      "[[162   0   0   0]\n",
      " [  2   4   1   0]\n",
      " [  2   2   2   0]\n",
      " [  1   1   2   5]]\n",
      "0.9402173913043478\n"
     ]
    }
   ],
   "source": [
    "from sklearn.metrics import confusion_matrix,accuracy_score\n",
    "\n",
    "pred=grid_clf1.best_estimator_.predict(X_test)\n",
    "cm=confusion_matrix(y_test,pred)\n",
    "AS=accuracy_score(y_test,pred)\n",
    "\n",
    "print(cm)\n",
    "print(AS)"
   ]
  },
  {
   "cell_type": "code",
   "execution_count": 130,
   "id": "864cabf8",
   "metadata": {},
   "outputs": [
    {
     "data": {
      "text/plain": [
       "array([1.        , 0.57142857, 0.33333333, 0.55555556])"
      ]
     },
     "execution_count": 130,
     "metadata": {},
     "output_type": "execute_result"
    }
   ],
   "source": [
    "from sklearn.metrics import recall_score\n",
    "recall_score(y_test,pred, average=None)"
   ]
  },
  {
   "cell_type": "code",
   "execution_count": 131,
   "id": "d8e1ed0a",
   "metadata": {},
   "outputs": [
    {
     "data": {
      "text/plain": [
       "LogisticRegression(random_state=0, solver='liblinear')"
      ]
     },
     "execution_count": 131,
     "metadata": {},
     "output_type": "execute_result"
    }
   ],
   "source": [
    "#Logistic Regression\n",
    "from sklearn.linear_model import LogisticRegression\n",
    "\n",
    "LG = LogisticRegression(random_state=0, solver = 'liblinear')\n",
    "\n",
    "LG.fit(X_train,y_train)"
   ]
  },
  {
   "cell_type": "code",
   "execution_count": 133,
   "id": "d732aaae",
   "metadata": {},
   "outputs": [
    {
     "name": "stdout",
     "output_type": "stream",
     "text": [
      "[[161   1   0   0]\n",
      " [  2   4   1   0]\n",
      " [  3   3   0   0]\n",
      " [  3   0   2   4]]\n",
      "0.9184782608695652\n"
     ]
    }
   ],
   "source": [
    "from sklearn.metrics import confusion_matrix,accuracy_score\n",
    "model_LG= LG\n",
    "\n",
    "pred_LG=model_LG.predict(X_test)\n",
    "cm=confusion_matrix(y_test,pred_LG)\n",
    "AS_LG=accuracy_score(y_test,pred_LG)\n",
    "\n",
    "print(cm)\n",
    "print(AS_LG)"
   ]
  },
  {
   "cell_type": "code",
   "execution_count": 135,
   "id": "ad109e2d",
   "metadata": {},
   "outputs": [
    {
     "data": {
      "text/plain": [
       "array([0.99382716, 0.57142857, 0.        , 0.44444444])"
      ]
     },
     "execution_count": 135,
     "metadata": {},
     "output_type": "execute_result"
    }
   ],
   "source": [
    "from sklearn.metrics import recall_score\n",
    "recall_score(y_test,pred_LG, average=None)"
   ]
  },
  {
   "cell_type": "code",
   "execution_count": null,
   "id": "5827cc54",
   "metadata": {},
   "outputs": [],
   "source": []
  }
 ],
 "metadata": {
  "kernelspec": {
   "display_name": "Python 3",
   "language": "python",
   "name": "python3"
  },
  "language_info": {
   "codemirror_mode": {
    "name": "ipython",
    "version": 3
   },
   "file_extension": ".py",
   "mimetype": "text/x-python",
   "name": "python",
   "nbconvert_exporter": "python",
   "pygments_lexer": "ipython3",
   "version": "3.8.8"
  }
 },
 "nbformat": 4,
 "nbformat_minor": 5
}
