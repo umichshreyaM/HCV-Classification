{
 "cells": [
  {
   "cell_type": "code",
   "execution_count": 1,
   "id": "83bcd126",
   "metadata": {},
   "outputs": [],
   "source": [
    "import pandas as pd\n",
    "import numpy as np\n",
    "import matplotlib.pyplot as plt"
   ]
  },
  {
   "cell_type": "markdown",
   "id": "399ff371",
   "metadata": {},
   "source": [
    "# SMOTE"
   ]
  },
  {
   "cell_type": "code",
   "execution_count": 2,
   "id": "20beb1b6",
   "metadata": {},
   "outputs": [],
   "source": [
    "X_train = pd.read_csv(\"X_Train_SMOTE.csv\")\n",
    "y_train = pd.read_csv(\"y_train_SMOTE.csv\")\n",
    "X_test = pd.read_csv(\"test_x.csv\")\n",
    "y_test = pd.read_csv(\"test_labels.csv\")"
   ]
  },
  {
   "cell_type": "code",
   "execution_count": 6,
   "id": "e8703c56",
   "metadata": {
    "scrolled": true
   },
   "outputs": [],
   "source": [
    "# X_train = X_train.drop(columns=['Unnamed: 0'])"
   ]
  },
  {
   "cell_type": "code",
   "execution_count": 7,
   "id": "af48ada2",
   "metadata": {},
   "outputs": [],
   "source": [
    "# y_train = y_train.drop(columns=['Unnamed: 0'])"
   ]
  },
  {
   "cell_type": "code",
   "execution_count": 8,
   "id": "6c86db70",
   "metadata": {},
   "outputs": [],
   "source": [
    "y_train = np.ravel(y_train)\n",
    "y_test = np.ravel(y_test)"
   ]
  },
  {
   "cell_type": "code",
   "execution_count": 9,
   "id": "dacf12bd",
   "metadata": {},
   "outputs": [
    {
     "data": {
      "text/plain": [
       "GridSearchCV(cv=5, estimator=RandomForestClassifier(), n_jobs=-1,\n",
       "             param_grid={'criterion': ['entropy'], 'max_depth': [2, 7, 12, 17],\n",
       "                         'n_estimators': [5, 10, 20, 30, 40, 50],\n",
       "                         'random_state': [0]})"
      ]
     },
     "execution_count": 9,
     "metadata": {},
     "output_type": "execute_result"
    }
   ],
   "source": [
    "#Random Forest\n",
    "from sklearn.ensemble import RandomForestClassifier\n",
    "from sklearn.model_selection import train_test_split\n",
    "from sklearn.model_selection import GridSearchCV\n",
    "\n",
    "model = RandomForestClassifier()\n",
    "\n",
    "model.fit(X_train,y_train)\n",
    "\n",
    "param_grid = {\n",
    "                'n_estimators': [5, 10, 20, 30, 40, 50],\n",
    "                'max_depth': [2, 7, 12, 17],\n",
    "                'criterion': [\"entropy\"],\n",
    "                'random_state': [0],\n",
    "             }\n",
    "\n",
    "grid_clf1 = GridSearchCV(model, param_grid, cv=5, n_jobs=-1)\n",
    "grid_clf1.fit(X_train,y_train)"
   ]
  },
  {
   "cell_type": "code",
   "execution_count": 10,
   "id": "84d6df06",
   "metadata": {},
   "outputs": [
    {
     "data": {
      "text/plain": [
       "RandomForestClassifier(criterion='entropy', max_depth=12, n_estimators=50,\n",
       "                       random_state=0)"
      ]
     },
     "execution_count": 10,
     "metadata": {},
     "output_type": "execute_result"
    }
   ],
   "source": [
    "grid_clf1.best_estimator_"
   ]
  },
  {
   "cell_type": "code",
   "execution_count": 11,
   "id": "a132fab1",
   "metadata": {},
   "outputs": [
    {
     "name": "stdout",
     "output_type": "stream",
     "text": [
      "[[158   1   0   3]\n",
      " [  1   4   2   0]\n",
      " [  1   2   3   0]\n",
      " [  0   1   2   6]]\n",
      "0.9293478260869565\n"
     ]
    }
   ],
   "source": [
    "from sklearn.metrics import confusion_matrix,accuracy_score\n",
    "\n",
    "pred=grid_clf1.best_estimator_.predict(X_test)\n",
    "cm=confusion_matrix(y_test,pred)\n",
    "AS=accuracy_score(y_test,pred)\n",
    "\n",
    "print(cm)\n",
    "print(AS)"
   ]
  },
  {
   "cell_type": "code",
   "execution_count": 12,
   "id": "734a5ede",
   "metadata": {
    "scrolled": true
   },
   "outputs": [
    {
     "data": {
      "text/plain": [
       "array([0.97530864, 0.57142857, 0.5       , 0.66666667])"
      ]
     },
     "execution_count": 12,
     "metadata": {},
     "output_type": "execute_result"
    }
   ],
   "source": [
    "from sklearn.metrics import recall_score\n",
    "recall_score(y_test,pred, average=None)"
   ]
  },
  {
   "cell_type": "code",
   "execution_count": 13,
   "id": "0c3f5128",
   "metadata": {},
   "outputs": [
    {
     "data": {
      "text/plain": [
       "array([0.9875    , 0.5       , 0.42857143, 0.66666667])"
      ]
     },
     "execution_count": 13,
     "metadata": {},
     "output_type": "execute_result"
    }
   ],
   "source": [
    "from sklearn.metrics import precision_score\n",
    "precision_score(y_test,pred, average=None)"
   ]
  },
  {
   "cell_type": "code",
   "execution_count": 14,
   "id": "9b3c0900",
   "metadata": {},
   "outputs": [
    {
     "data": {
      "text/plain": [
       "<AxesSubplot:>"
      ]
     },
     "execution_count": 14,
     "metadata": {},
     "output_type": "execute_result"
    },
    {
     "data": {
      "image/png": "[encoded data removed]",
      "text/plain": [
       "<Figure size 432x288 with 1 Axes>"
      ]
     },
     "metadata": {
      "needs_background": "light"
     },
     "output_type": "display_data"
    }
   ],
   "source": [
    "# Check feature importance\n",
    "feat_importance = model.feature_importances_\n",
    "pd.DataFrame({'Feature Importance':feat_importance},\n",
    "            index=list(X_train)).plot(kind='barh')"
   ]
  },
  {
   "cell_type": "code",
   "execution_count": 15,
   "id": "cf4dbd3e",
   "metadata": {},
   "outputs": [
    {
     "data": {
      "text/plain": [
       "LogisticRegression(random_state=0, solver='liblinear')"
      ]
     },
     "execution_count": 15,
     "metadata": {},
     "output_type": "execute_result"
    }
   ],
   "source": [
    "#Logistic Regression\n",
    "from sklearn.linear_model import LogisticRegression\n",
    "\n",
    "LG = LogisticRegression(random_state=0, solver = 'liblinear')\n",
    "\n",
    "LG.fit(X_train,y_train)"
   ]
  },
  {
   "cell_type": "code",
   "execution_count": 16,
   "id": "6d42db55",
   "metadata": {},
   "outputs": [
    {
     "name": "stdout",
     "output_type": "stream",
     "text": [
      "[[159   2   1   0]\n",
      " [  0   4   2   1]\n",
      " [  1   1   4   0]\n",
      " [  1   0   3   5]]\n",
      "0.9347826086956522\n"
     ]
    }
   ],
   "source": [
    "from sklearn.metrics import confusion_matrix,accuracy_score\n",
    "model_LG= LG\n",
    "\n",
    "pred_LG=model_LG.predict(X_test)\n",
    "cm=confusion_matrix(y_test,pred_LG)\n",
    "AS_LG=accuracy_score(y_test,pred_LG)\n",
    "\n",
    "print(cm)\n",
    "print(AS_LG)"
   ]
  },
  {
   "cell_type": "code",
   "execution_count": 17,
   "id": "352ef5ef",
   "metadata": {
    "scrolled": true
   },
   "outputs": [
    {
     "data": {
      "text/plain": [
       "array([0.98148148, 0.57142857, 0.66666667, 0.55555556])"
      ]
     },
     "execution_count": 17,
     "metadata": {},
     "output_type": "execute_result"
    }
   ],
   "source": [
    "from sklearn.metrics import recall_score\n",
    "recall_score(y_test,pred_LG, average=None)"
   ]
  },
  {
   "cell_type": "code",
   "execution_count": 18,
   "id": "548bdd64",
   "metadata": {},
   "outputs": [
    {
     "data": {
      "text/plain": [
       "array([0.98757764, 0.57142857, 0.4       , 0.83333333])"
      ]
     },
     "execution_count": 18,
     "metadata": {},
     "output_type": "execute_result"
    }
   ],
   "source": [
    "from sklearn.metrics import precision_score\n",
    "precision_score(y_test,pred_LG, average=None)"
   ]
  },
  {
   "cell_type": "markdown",
   "id": "44917834",
   "metadata": {},
   "source": [
    "# not SMOTE"
   ]
  },
  {
   "cell_type": "code",
   "execution_count": 19,
   "id": "1689e2a5",
   "metadata": {},
   "outputs": [],
   "source": [
    "X_train = pd.read_csv(\"train_x.csv\")\n",
    "y_train = pd.read_csv(\"train_labels.csv\")\n",
    "X_test = pd.read_csv(\"test_x.csv\")\n",
    "y_test = pd.read_csv(\"test_labels.csv\")"
   ]
  },
  {
   "cell_type": "code",
   "execution_count": 20,
   "id": "fe9e8b64",
   "metadata": {},
   "outputs": [],
   "source": [
    "y_train = np.ravel(y_train)\n",
    "y_test = np.ravel(y_test)"
   ]
  },
  {
   "cell_type": "code",
   "execution_count": 21,
   "id": "b5fd2d7c",
   "metadata": {},
   "outputs": [
    {
     "data": {
      "text/plain": [
       "GridSearchCV(cv=5, estimator=RandomForestClassifier(), n_jobs=-1,\n",
       "             param_grid={'criterion': ['entropy'], 'max_depth': [2, 7, 12, 17],\n",
       "                         'n_estimators': [5, 10, 20, 30, 40, 50],\n",
       "                         'random_state': [0]})"
      ]
     },
     "execution_count": 21,
     "metadata": {},
     "output_type": "execute_result"
    }
   ],
   "source": [
    "#Random Forest\n",
    "from sklearn.ensemble import RandomForestClassifier\n",
    "from sklearn.model_selection import train_test_split\n",
    "from sklearn.model_selection import GridSearchCV\n",
    "\n",
    "model = RandomForestClassifier()\n",
    "\n",
    "model.fit(X_train,y_train)\n",
    "\n",
    "param_grid = {\n",
    "                'n_estimators': [5, 10, 20, 30, 40, 50],\n",
    "                'max_depth': [2, 7, 12, 17],\n",
    "                'criterion': [\"entropy\"],\n",
    "                'random_state': [0],\n",
    "             }\n",
    "\n",
    "grid_clf1 = GridSearchCV(model, param_grid, cv=5, n_jobs=-1)\n",
    "grid_clf1.fit(X_train,y_train)"
   ]
  },
  {
   "cell_type": "code",
   "execution_count": 22,
   "id": "38176253",
   "metadata": {},
   "outputs": [
    {
     "data": {
      "text/plain": [
       "RandomForestClassifier(criterion='entropy', max_depth=7, n_estimators=50,\n",
       "                       random_state=0)"
      ]
     },
     "execution_count": 22,
     "metadata": {},
     "output_type": "execute_result"
    }
   ],
   "source": [
    "grid_clf1.best_estimator_"
   ]
  },
  {
   "cell_type": "code",
   "execution_count": 23,
   "id": "d72e0392",
   "metadata": {},
   "outputs": [
    {
     "name": "stdout",
     "output_type": "stream",
     "text": [
      "[[162   0   0   0]\n",
      " [  2   4   1   0]\n",
      " [  2   0   4   0]\n",
      " [  2   1   2   4]]\n",
      "0.9456521739130435\n"
     ]
    }
   ],
   "source": [
    "from sklearn.metrics import confusion_matrix,accuracy_score\n",
    "\n",
    "pred=grid_clf1.best_estimator_.predict(X_test)\n",
    "cm=confusion_matrix(y_test,pred)\n",
    "AS=accuracy_score(y_test,pred)\n",
    "\n",
    "print(cm)\n",
    "print(AS)"
   ]
  },
  {
   "cell_type": "code",
   "execution_count": 24,
   "id": "75f4b590",
   "metadata": {},
   "outputs": [
    {
     "data": {
      "text/plain": [
       "array([1.        , 0.57142857, 0.66666667, 0.44444444])"
      ]
     },
     "execution_count": 24,
     "metadata": {},
     "output_type": "execute_result"
    }
   ],
   "source": [
    "from sklearn.metrics import recall_score\n",
    "recall_score(y_test,pred, average=None)"
   ]
  },
  {
   "cell_type": "code",
   "execution_count": 25,
   "id": "e274f2e1",
   "metadata": {},
   "outputs": [
    {
     "data": {
      "text/plain": [
       "array([0.96428571, 0.8       , 0.57142857, 1.        ])"
      ]
     },
     "execution_count": 25,
     "metadata": {},
     "output_type": "execute_result"
    }
   ],
   "source": [
    "from sklearn.metrics import precision_score\n",
    "precision_score(y_test,pred, average=None)"
   ]
  },
  {
   "cell_type": "code",
   "execution_count": 26,
   "id": "8b0a0837",
   "metadata": {},
   "outputs": [
    {
     "data": {
      "text/plain": [
       "LogisticRegression(random_state=0, solver='liblinear')"
      ]
     },
     "execution_count": 26,
     "metadata": {},
     "output_type": "execute_result"
    }
   ],
   "source": [
    "#Logistic Regression\n",
    "from sklearn.linear_model import LogisticRegression\n",
    "\n",
    "LG = LogisticRegression(random_state=0, solver = 'liblinear')\n",
    "\n",
    "LG.fit(X_train,y_train)"
   ]
  },
  {
   "cell_type": "code",
   "execution_count": 27,
   "id": "f2aa21d1",
   "metadata": {},
   "outputs": [
    {
     "name": "stdout",
     "output_type": "stream",
     "text": [
      "[[161   1   0   0]\n",
      " [  2   4   1   0]\n",
      " [  1   2   3   0]\n",
      " [  1   1   2   5]]\n",
      "0.9402173913043478\n"
     ]
    }
   ],
   "source": [
    "from sklearn.metrics import confusion_matrix,accuracy_score\n",
    "model_LG= LG\n",
    "\n",
    "pred_LG=model_LG.predict(X_test)\n",
    "cm=confusion_matrix(y_test,pred_LG)\n",
    "AS_LG=accuracy_score(y_test,pred_LG)\n",
    "\n",
    "print(cm)\n",
    "print(AS_LG)"
   ]
  },
  {
   "cell_type": "code",
   "execution_count": 28,
   "id": "459fe65e",
   "metadata": {},
   "outputs": [
    {
     "data": {
      "text/plain": [
       "array([0.99382716, 0.57142857, 0.5       , 0.55555556])"
      ]
     },
     "execution_count": 28,
     "metadata": {},
     "output_type": "execute_result"
    }
   ],
   "source": [
    "from sklearn.metrics import recall_score\n",
    "recall_score(y_test,pred_LG, average=None)"
   ]
  },
  {
   "cell_type": "code",
   "execution_count": 29,
   "id": "dbe67a84",
   "metadata": {},
   "outputs": [
    {
     "data": {
      "text/plain": [
       "array([0.97575758, 0.5       , 0.5       , 1.        ])"
      ]
     },
     "execution_count": 29,
     "metadata": {},
     "output_type": "execute_result"
    }
   ],
   "source": [
    "from sklearn.metrics import precision_score\n",
    "precision_score(y_test,pred_LG, average=None)"
   ]
  },
  {
   "cell_type": "code",
   "execution_count": null,
   "id": "32097072",
   "metadata": {},
   "outputs": [],
   "source": []
  }
 ],
 "metadata": {
  "kernelspec": {
   "display_name": "Python 3",
   "language": "python",
   "name": "python3"
  },
  "language_info": {
   "codemirror_mode": {
    "name": "ipython",
    "version": 3
   },
   "file_extension": ".py",
   "mimetype": "text/x-python",
   "name": "python",
   "nbconvert_exporter": "python",
   "pygments_lexer": "ipython3",
   "version": "3.8.8"
  }
 },
 "nbformat": 4,
 "nbformat_minor": 5
}
