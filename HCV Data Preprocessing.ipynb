{
 "cells": [
  {
   "cell_type": "code",
   "execution_count": 165,
   "id": "84f3aec4",
   "metadata": {},
   "outputs": [],
   "source": [
    "HCV_df=read.csv(file = '/Users/shreya/Downloads/hcvdat0.csv')"
   ]
  },
  {
   "cell_type": "code",
   "execution_count": 166,
   "id": "5ac8c035-48c4-4c63-bc19-d19a7dfab2e1",
   "metadata": {},
   "outputs": [
    {
     "data": {
      "text/html": [
       "<table class=\"dataframe\">\n",
       "<caption>A data.frame: 6 × 14</caption>\n",
       "<thead>\n",
       "\t<tr><th></th><th scope=col>X</th><th scope=col>Category</th><th scope=col>Age</th><th scope=col>Sex</th><th scope=col>ALB</th><th scope=col>ALP</th><th scope=col>ALT</th><th scope=col>AST</th><th scope=col>BIL</th><th scope=col>CHE</th><th scope=col>CHOL</th><th scope=col>CREA</th><th scope=col>GGT</th><th scope=col>PROT</th></tr>\n",
       "\t<tr><th></th><th scope=col>&lt;int&gt;</th><th scope=col>&lt;chr&gt;</th><th scope=col>&lt;int&gt;</th><th scope=col>&lt;chr&gt;</th><th scope=col>&lt;dbl&gt;</th><th scope=col>&lt;dbl&gt;</th><th scope=col>&lt;dbl&gt;</th><th scope=col>&lt;dbl&gt;</th><th scope=col>&lt;dbl&gt;</th><th scope=col>&lt;dbl&gt;</th><th scope=col>&lt;dbl&gt;</th><th scope=col>&lt;dbl&gt;</th><th scope=col>&lt;dbl&gt;</th><th scope=col>&lt;dbl&gt;</th></tr>\n",
       "</thead>\n",
       "<tbody>\n",
       "\t<tr><th scope=row>1</th><td>1</td><td>0=Blood Donor</td><td>32</td><td>m</td><td>38.5</td><td>52.5</td><td> 7.7</td><td>22.1</td><td> 7.5</td><td> 6.93</td><td>3.23</td><td>106</td><td>12.1</td><td>69.0</td></tr>\n",
       "\t<tr><th scope=row>2</th><td>2</td><td>0=Blood Donor</td><td>32</td><td>m</td><td>38.5</td><td>70.3</td><td>18.0</td><td>24.7</td><td> 3.9</td><td>11.17</td><td>4.80</td><td> 74</td><td>15.6</td><td>76.5</td></tr>\n",
       "\t<tr><th scope=row>3</th><td>3</td><td>0=Blood Donor</td><td>32</td><td>m</td><td>46.9</td><td>74.7</td><td>36.2</td><td>52.6</td><td> 6.1</td><td> 8.84</td><td>5.20</td><td> 86</td><td>33.2</td><td>79.3</td></tr>\n",
       "\t<tr><th scope=row>4</th><td>4</td><td>0=Blood Donor</td><td>32</td><td>m</td><td>43.2</td><td>52.0</td><td>30.6</td><td>22.6</td><td>18.9</td><td> 7.33</td><td>4.74</td><td> 80</td><td>33.8</td><td>75.7</td></tr>\n",
       "\t<tr><th scope=row>5</th><td>5</td><td>0=Blood Donor</td><td>32</td><td>m</td><td>39.2</td><td>74.1</td><td>32.6</td><td>24.8</td><td> 9.6</td><td> 9.15</td><td>4.32</td><td> 76</td><td>29.9</td><td>68.7</td></tr>\n",
       "\t<tr><th scope=row>6</th><td>6</td><td>0=Blood Donor</td><td>32</td><td>m</td><td>41.6</td><td>43.3</td><td>18.5</td><td>19.7</td><td>12.3</td><td> 9.92</td><td>6.05</td><td>111</td><td>91.0</td><td>74.0</td></tr>\n",
       "</tbody>\n",
       "</table>\n"
      ],
      "text/latex": [
       "A data.frame: 6 × 14\n",
       "\\begin{tabular}{r|llllllllllllll}\n",
       "  & X & Category & Age & Sex & ALB & ALP & ALT & AST & BIL & CHE & CHOL & CREA & GGT & PROT\\\\\n",
       "  & <int> & <chr> & <int> & <chr> & <dbl> & <dbl> & <dbl> & <dbl> & <dbl> & <dbl> & <dbl> & <dbl> & <dbl> & <dbl>\\\\\n",
       "\\hline\n",
       "\t1 & 1 & 0=Blood Donor & 32 & m & 38.5 & 52.5 &  7.7 & 22.1 &  7.5 &  6.93 & 3.23 & 106 & 12.1 & 69.0\\\\\n",
       "\t2 & 2 & 0=Blood Donor & 32 & m & 38.5 & 70.3 & 18.0 & 24.7 &  3.9 & 11.17 & 4.80 &  74 & 15.6 & 76.5\\\\\n",
       "\t3 & 3 & 0=Blood Donor & 32 & m & 46.9 & 74.7 & 36.2 & 52.6 &  6.1 &  8.84 & 5.20 &  86 & 33.2 & 79.3\\\\\n",
       "\t4 & 4 & 0=Blood Donor & 32 & m & 43.2 & 52.0 & 30.6 & 22.6 & 18.9 &  7.33 & 4.74 &  80 & 33.8 & 75.7\\\\\n",
       "\t5 & 5 & 0=Blood Donor & 32 & m & 39.2 & 74.1 & 32.6 & 24.8 &  9.6 &  9.15 & 4.32 &  76 & 29.9 & 68.7\\\\\n",
       "\t6 & 6 & 0=Blood Donor & 32 & m & 41.6 & 43.3 & 18.5 & 19.7 & 12.3 &  9.92 & 6.05 & 111 & 91.0 & 74.0\\\\\n",
       "\\end{tabular}\n"
      ],
      "text/markdown": [
       "\n",
       "A data.frame: 6 × 14\n",
       "\n",
       "| <!--/--> | X &lt;int&gt; | Category &lt;chr&gt; | Age &lt;int&gt; | Sex &lt;chr&gt; | ALB &lt;dbl&gt; | ALP &lt;dbl&gt; | ALT &lt;dbl&gt; | AST &lt;dbl&gt; | BIL &lt;dbl&gt; | CHE &lt;dbl&gt; | CHOL &lt;dbl&gt; | CREA &lt;dbl&gt; | GGT &lt;dbl&gt; | PROT &lt;dbl&gt; |\n",
       "|---|---|---|---|---|---|---|---|---|---|---|---|---|---|---|\n",
       "| 1 | 1 | 0=Blood Donor | 32 | m | 38.5 | 52.5 |  7.7 | 22.1 |  7.5 |  6.93 | 3.23 | 106 | 12.1 | 69.0 |\n",
       "| 2 | 2 | 0=Blood Donor | 32 | m | 38.5 | 70.3 | 18.0 | 24.7 |  3.9 | 11.17 | 4.80 |  74 | 15.6 | 76.5 |\n",
       "| 3 | 3 | 0=Blood Donor | 32 | m | 46.9 | 74.7 | 36.2 | 52.6 |  6.1 |  8.84 | 5.20 |  86 | 33.2 | 79.3 |\n",
       "| 4 | 4 | 0=Blood Donor | 32 | m | 43.2 | 52.0 | 30.6 | 22.6 | 18.9 |  7.33 | 4.74 |  80 | 33.8 | 75.7 |\n",
       "| 5 | 5 | 0=Blood Donor | 32 | m | 39.2 | 74.1 | 32.6 | 24.8 |  9.6 |  9.15 | 4.32 |  76 | 29.9 | 68.7 |\n",
       "| 6 | 6 | 0=Blood Donor | 32 | m | 41.6 | 43.3 | 18.5 | 19.7 | 12.3 |  9.92 | 6.05 | 111 | 91.0 | 74.0 |\n",
       "\n"
      ],
      "text/plain": [
       "  X Category      Age Sex ALB  ALP  ALT  AST  BIL  CHE   CHOL CREA GGT  PROT\n",
       "1 1 0=Blood Donor 32  m   38.5 52.5  7.7 22.1  7.5  6.93 3.23 106  12.1 69.0\n",
       "2 2 0=Blood Donor 32  m   38.5 70.3 18.0 24.7  3.9 11.17 4.80  74  15.6 76.5\n",
       "3 3 0=Blood Donor 32  m   46.9 74.7 36.2 52.6  6.1  8.84 5.20  86  33.2 79.3\n",
       "4 4 0=Blood Donor 32  m   43.2 52.0 30.6 22.6 18.9  7.33 4.74  80  33.8 75.7\n",
       "5 5 0=Blood Donor 32  m   39.2 74.1 32.6 24.8  9.6  9.15 4.32  76  29.9 68.7\n",
       "6 6 0=Blood Donor 32  m   41.6 43.3 18.5 19.7 12.3  9.92 6.05 111  91.0 74.0"
      ]
     },
     "metadata": {},
     "output_type": "display_data"
    }
   ],
   "source": [
    "head(HCV_df)"
   ]
  },
  {
   "cell_type": "code",
   "execution_count": 167,
   "id": "2faabcda",
   "metadata": {},
   "outputs": [],
   "source": [
    "#Encode Y column to 0-3\n",
    "HCV_df[\"Category\"][HCV_df[\"Category\"] == '0=Blood Donor'] <- 0\n",
    "HCV_df[\"Category\"][HCV_df[\"Category\"] == '0s=suspect Blood Donor'] <- 0\n",
    "HCV_df[\"Category\"][HCV_df[\"Category\"] == '1=Hepatitis'] <- 1\n",
    "HCV_df[\"Category\"][HCV_df[\"Category\"] == '2=Fibrosis'] <- 2\n",
    "HCV_df[\"Category\"][HCV_df[\"Category\"] == '3=Cirrhosis'] <- 3\n",
    "#Encode Sex column to numeric: Male is 0, Female is 1\n",
    "HCV_df[\"Sex\"][HCV_df[\"Sex\"] == 'm'] <- 0\n",
    "HCV_df[\"Sex\"][HCV_df[\"Sex\"] == 'f'] <- 1\n",
    "#Remove column of Patient ID\n",
    "HCV_df <- subset (HCV_df, select = -X)"
   ]
  },
  {
   "cell_type": "code",
   "execution_count": 168,
   "id": "639357cb",
   "metadata": {},
   "outputs": [],
   "source": [
    "#Convert Y to a factor variable\n",
    "HCV_df$Category=as.factor(HCV_df$Category)"
   ]
  },
  {
   "cell_type": "code",
   "execution_count": 169,
   "id": "d5b9c11a",
   "metadata": {},
   "outputs": [
    {
     "data": {
      "text/html": [
       "<table class=\"dataframe\">\n",
       "<caption>A tibble: 4 × 2</caption>\n",
       "<thead>\n",
       "\t<tr><th scope=col>Category</th><th scope=col>my_counts</th></tr>\n",
       "\t<tr><th scope=col>&lt;fct&gt;</th><th scope=col>&lt;int&gt;</th></tr>\n",
       "</thead>\n",
       "<tbody>\n",
       "\t<tr><td>0</td><td>540</td></tr>\n",
       "\t<tr><td>1</td><td> 24</td></tr>\n",
       "\t<tr><td>2</td><td> 21</td></tr>\n",
       "\t<tr><td>3</td><td> 30</td></tr>\n",
       "</tbody>\n",
       "</table>\n"
      ],
      "text/latex": [
       "A tibble: 4 × 2\n",
       "\\begin{tabular}{ll}\n",
       " Category & my\\_counts\\\\\n",
       " <fct> & <int>\\\\\n",
       "\\hline\n",
       "\t 0 & 540\\\\\n",
       "\t 1 &  24\\\\\n",
       "\t 2 &  21\\\\\n",
       "\t 3 &  30\\\\\n",
       "\\end{tabular}\n"
      ],
      "text/markdown": [
       "\n",
       "A tibble: 4 × 2\n",
       "\n",
       "| Category &lt;fct&gt; | my_counts &lt;int&gt; |\n",
       "|---|---|\n",
       "| 0 | 540 |\n",
       "| 1 |  24 |\n",
       "| 2 |  21 |\n",
       "| 3 |  30 |\n",
       "\n"
      ],
      "text/plain": [
       "  Category my_counts\n",
       "1 0        540      \n",
       "2 1         24      \n",
       "3 2         21      \n",
       "4 3         30      "
      ]
     },
     "metadata": {},
     "output_type": "display_data"
    }
   ],
   "source": [
    "#Distribution of classes in the datset\n",
    "library(dplyr)\n",
    "HCV_df %>%  group_by(Category) %>% summarise(my_counts = n())"
   ]
  },
  {
   "cell_type": "code",
   "execution_count": 170,
   "id": "6576e341",
   "metadata": {},
   "outputs": [],
   "source": [
    "#Split the data into the training and test data with the same proportion classes as in the original data\n",
    "library(caret)\n",
    "set.seed(3456)\n",
    "trainIndex <- createDataPartition(HCV_df$Category, p = 0.70,\n",
    "                                  list = FALSE,\n",
    "                                  times = 1)\n",
    "Train <- HCV_df[ trainIndex,]\n",
    "Test <- HCV_df[-trainIndex,]"
   ]
  },
  {
   "cell_type": "code",
   "execution_count": 171,
   "id": "a25d92c7",
   "metadata": {},
   "outputs": [
    {
     "data": {
      "text/html": [
       "<table class=\"dataframe\">\n",
       "<caption>A tibble: 4 × 2</caption>\n",
       "<thead>\n",
       "\t<tr><th scope=col>Category</th><th scope=col>my_counts</th></tr>\n",
       "\t<tr><th scope=col>&lt;fct&gt;</th><th scope=col>&lt;int&gt;</th></tr>\n",
       "</thead>\n",
       "<tbody>\n",
       "\t<tr><td>0</td><td>378</td></tr>\n",
       "\t<tr><td>1</td><td> 17</td></tr>\n",
       "\t<tr><td>2</td><td> 15</td></tr>\n",
       "\t<tr><td>3</td><td> 21</td></tr>\n",
       "</tbody>\n",
       "</table>\n"
      ],
      "text/latex": [
       "A tibble: 4 × 2\n",
       "\\begin{tabular}{ll}\n",
       " Category & my\\_counts\\\\\n",
       " <fct> & <int>\\\\\n",
       "\\hline\n",
       "\t 0 & 378\\\\\n",
       "\t 1 &  17\\\\\n",
       "\t 2 &  15\\\\\n",
       "\t 3 &  21\\\\\n",
       "\\end{tabular}\n"
      ],
      "text/markdown": [
       "\n",
       "A tibble: 4 × 2\n",
       "\n",
       "| Category &lt;fct&gt; | my_counts &lt;int&gt; |\n",
       "|---|---|\n",
       "| 0 | 378 |\n",
       "| 1 |  17 |\n",
       "| 2 |  15 |\n",
       "| 3 |  21 |\n",
       "\n"
      ],
      "text/plain": [
       "  Category my_counts\n",
       "1 0        378      \n",
       "2 1         17      \n",
       "3 2         15      \n",
       "4 3         21      "
      ]
     },
     "metadata": {},
     "output_type": "display_data"
    },
    {
     "data": {
      "text/html": [
       "<table class=\"dataframe\">\n",
       "<caption>A tibble: 4 × 2</caption>\n",
       "<thead>\n",
       "\t<tr><th scope=col>Category</th><th scope=col>my_counts</th></tr>\n",
       "\t<tr><th scope=col>&lt;fct&gt;</th><th scope=col>&lt;int&gt;</th></tr>\n",
       "</thead>\n",
       "<tbody>\n",
       "\t<tr><td>0</td><td>162</td></tr>\n",
       "\t<tr><td>1</td><td>  7</td></tr>\n",
       "\t<tr><td>2</td><td>  6</td></tr>\n",
       "\t<tr><td>3</td><td>  9</td></tr>\n",
       "</tbody>\n",
       "</table>\n"
      ],
      "text/latex": [
       "A tibble: 4 × 2\n",
       "\\begin{tabular}{ll}\n",
       " Category & my\\_counts\\\\\n",
       " <fct> & <int>\\\\\n",
       "\\hline\n",
       "\t 0 & 162\\\\\n",
       "\t 1 &   7\\\\\n",
       "\t 2 &   6\\\\\n",
       "\t 3 &   9\\\\\n",
       "\\end{tabular}\n"
      ],
      "text/markdown": [
       "\n",
       "A tibble: 4 × 2\n",
       "\n",
       "| Category &lt;fct&gt; | my_counts &lt;int&gt; |\n",
       "|---|---|\n",
       "| 0 | 162 |\n",
       "| 1 |   7 |\n",
       "| 2 |   6 |\n",
       "| 3 |   9 |\n",
       "\n"
      ],
      "text/plain": [
       "  Category my_counts\n",
       "1 0        162      \n",
       "2 1          7      \n",
       "3 2          6      \n",
       "4 3          9      "
      ]
     },
     "metadata": {},
     "output_type": "display_data"
    }
   ],
   "source": [
    "#Data Check: Proportions are maintained within the splits\n",
    "library(dplyr)\n",
    "Train %>%  group_by(Category) %>% summarise(my_counts = n())\n",
    "\n",
    "library(dplyr)\n",
    "Test %>%  group_by(Category) %>% summarise(my_counts = n())"
   ]
  },
  {
   "cell_type": "code",
   "execution_count": 172,
   "id": "55620477-1ccd-47de-9cb3-ff5835be9b9f",
   "metadata": {},
   "outputs": [
    {
     "data": {
      "text/html": [
       "<table class=\"dataframe\">\n",
       "<caption>A tibble: 4 × 3</caption>\n",
       "<thead>\n",
       "\t<tr><th scope=col>Category</th><th scope=col>Mean</th><th scope=col>Median</th></tr>\n",
       "\t<tr><th scope=col>&lt;fct&gt;</th><th scope=col>&lt;dbl&gt;</th><th scope=col>&lt;dbl&gt;</th></tr>\n",
       "</thead>\n",
       "<tbody>\n",
       "\t<tr><td>0</td><td>5.495791</td><td>5.400</td></tr>\n",
       "\t<tr><td>1</td><td>5.071765</td><td>5.370</td></tr>\n",
       "\t<tr><td>2</td><td>4.340714</td><td>4.380</td></tr>\n",
       "\t<tr><td>3</td><td>3.676500</td><td>3.655</td></tr>\n",
       "</tbody>\n",
       "</table>\n"
      ],
      "text/latex": [
       "A tibble: 4 × 3\n",
       "\\begin{tabular}{lll}\n",
       " Category & Mean & Median\\\\\n",
       " <fct> & <dbl> & <dbl>\\\\\n",
       "\\hline\n",
       "\t 0 & 5.495791 & 5.400\\\\\n",
       "\t 1 & 5.071765 & 5.370\\\\\n",
       "\t 2 & 4.340714 & 4.380\\\\\n",
       "\t 3 & 3.676500 & 3.655\\\\\n",
       "\\end{tabular}\n"
      ],
      "text/markdown": [
       "\n",
       "A tibble: 4 × 3\n",
       "\n",
       "| Category &lt;fct&gt; | Mean &lt;dbl&gt; | Median &lt;dbl&gt; |\n",
       "|---|---|---|\n",
       "| 0 | 5.495791 | 5.400 |\n",
       "| 1 | 5.071765 | 5.370 |\n",
       "| 2 | 4.340714 | 4.380 |\n",
       "| 3 | 3.676500 | 3.655 |\n",
       "\n"
      ],
      "text/plain": [
       "  Category Mean     Median\n",
       "1 0        5.495791 5.400 \n",
       "2 1        5.071765 5.370 \n",
       "3 2        4.340714 4.380 \n",
       "4 3        3.676500 3.655 "
      ]
     },
     "metadata": {},
     "output_type": "display_data"
    }
   ],
   "source": [
    "Train %>% group_by(Category) %>% summarise(Mean=mean(CHOL, na.rm=TRUE), Median=median(CHOL, na.rm=TRUE)) "
   ]
  },
  {
   "cell_type": "code",
   "execution_count": 173,
   "id": "435cd90d-e4d3-4530-b815-463063549c5a",
   "metadata": {},
   "outputs": [
    {
     "data": {
      "text/html": [
       "<style>\n",
       ".list-inline {list-style: none; margin:0; padding: 0}\n",
       ".list-inline>li {display: inline-block}\n",
       ".list-inline>li:not(:last-child)::after {content: \"\\00b7\"; padding: 0 .5ex}\n",
       "</style>\n",
       "<ol class=list-inline><li>216</li><li>225</li><li>287</li><li>295</li><li>350</li><li>410</li><li>424</li></ol>\n"
      ],
      "text/latex": [
       "\\begin{enumerate*}\n",
       "\\item 216\n",
       "\\item 225\n",
       "\\item 287\n",
       "\\item 295\n",
       "\\item 350\n",
       "\\item 410\n",
       "\\item 424\n",
       "\\end{enumerate*}\n"
      ],
      "text/markdown": [
       "1. 216\n",
       "2. 225\n",
       "3. 287\n",
       "4. 295\n",
       "5. 350\n",
       "6. 410\n",
       "7. 424\n",
       "\n",
       "\n"
      ],
      "text/plain": [
       "[1] 216 225 287 295 350 410 424"
      ]
     },
     "metadata": {},
     "output_type": "display_data"
    }
   ],
   "source": [
    "which(is.na(Train$CHOL))"
   ]
  },
  {
   "cell_type": "code",
   "execution_count": 174,
   "id": "476a8546-d3e9-461a-8a89-e241b4f62d05",
   "metadata": {},
   "outputs": [
    {
     "data": {
      "text/html": [
       "<table class=\"dataframe\">\n",
       "<caption>A data.frame: 1 × 13</caption>\n",
       "<thead>\n",
       "\t<tr><th></th><th scope=col>Category</th><th scope=col>Age</th><th scope=col>Sex</th><th scope=col>ALB</th><th scope=col>ALP</th><th scope=col>ALT</th><th scope=col>AST</th><th scope=col>BIL</th><th scope=col>CHE</th><th scope=col>CHOL</th><th scope=col>CREA</th><th scope=col>GGT</th><th scope=col>PROT</th></tr>\n",
       "\t<tr><th></th><th scope=col>&lt;fct&gt;</th><th scope=col>&lt;int&gt;</th><th scope=col>&lt;chr&gt;</th><th scope=col>&lt;dbl&gt;</th><th scope=col>&lt;dbl&gt;</th><th scope=col>&lt;dbl&gt;</th><th scope=col>&lt;dbl&gt;</th><th scope=col>&lt;dbl&gt;</th><th scope=col>&lt;dbl&gt;</th><th scope=col>&lt;dbl&gt;</th><th scope=col>&lt;dbl&gt;</th><th scope=col>&lt;dbl&gt;</th><th scope=col>&lt;dbl&gt;</th></tr>\n",
       "</thead>\n",
       "<tbody>\n",
       "\t<tr><th scope=row>320</th><td>0</td><td>32</td><td>1</td><td>47.4</td><td>52.5</td><td>19.1</td><td>17.1</td><td>4.6</td><td>10.19</td><td>NA</td><td>63</td><td>23</td><td>72.2</td></tr>\n",
       "</tbody>\n",
       "</table>\n"
      ],
      "text/latex": [
       "A data.frame: 1 × 13\n",
       "\\begin{tabular}{r|lllllllllllll}\n",
       "  & Category & Age & Sex & ALB & ALP & ALT & AST & BIL & CHE & CHOL & CREA & GGT & PROT\\\\\n",
       "  & <fct> & <int> & <chr> & <dbl> & <dbl> & <dbl> & <dbl> & <dbl> & <dbl> & <dbl> & <dbl> & <dbl> & <dbl>\\\\\n",
       "\\hline\n",
       "\t320 & 0 & 32 & 1 & 47.4 & 52.5 & 19.1 & 17.1 & 4.6 & 10.19 & NA & 63 & 23 & 72.2\\\\\n",
       "\\end{tabular}\n"
      ],
      "text/markdown": [
       "\n",
       "A data.frame: 1 × 13\n",
       "\n",
       "| <!--/--> | Category &lt;fct&gt; | Age &lt;int&gt; | Sex &lt;chr&gt; | ALB &lt;dbl&gt; | ALP &lt;dbl&gt; | ALT &lt;dbl&gt; | AST &lt;dbl&gt; | BIL &lt;dbl&gt; | CHE &lt;dbl&gt; | CHOL &lt;dbl&gt; | CREA &lt;dbl&gt; | GGT &lt;dbl&gt; | PROT &lt;dbl&gt; |\n",
       "|---|---|---|---|---|---|---|---|---|---|---|---|---|---|\n",
       "| 320 | 0 | 32 | 1 | 47.4 | 52.5 | 19.1 | 17.1 | 4.6 | 10.19 | NA | 63 | 23 | 72.2 |\n",
       "\n"
      ],
      "text/plain": [
       "    Category Age Sex ALB  ALP  ALT  AST  BIL CHE   CHOL CREA GGT PROT\n",
       "320 0        32  1   47.4 52.5 19.1 17.1 4.6 10.19 NA   63   23  72.2"
      ]
     },
     "metadata": {},
     "output_type": "display_data"
    }
   ],
   "source": [
    "Train[216,]"
   ]
  },
  {
   "cell_type": "code",
   "execution_count": 175,
   "id": "72494ac0-0c17-42e9-87f8-792b390dd25f",
   "metadata": {},
   "outputs": [],
   "source": [
    "#Impute values using column medians - TRAIN\n",
    "library(dplyr)\n",
    "Train=Train %>% group_by(Category) %>%   mutate(ALT = ifelse(is.na(ALT), \n",
    "                            median(ALT, na.rm = TRUE), \n",
    "                            ALT))\n",
    "\n",
    "Train=Train %>% group_by(Category) %>%   mutate(PROT = ifelse(is.na(PROT), \n",
    "                            median(PROT, na.rm = TRUE), \n",
    "                            PROT))\n",
    "\n",
    "Train=Train %>% group_by(Category) %>%   mutate(CHOL = ifelse(is.na(CHOL), \n",
    "                            median(CHOL, na.rm = TRUE), \n",
    "                            CHOL))\n",
    "\n",
    "Train=Train %>% group_by(Category) %>%   mutate(ALB = ifelse(is.na(ALB), \n",
    "                            median(ALB, na.rm = TRUE), \n",
    "                            ALB))\n",
    "\n",
    "Train=Train %>% group_by(Category) %>%   mutate(ALP = ifelse(is.na(ALP), \n",
    "                            median(ALT, na.rm = TRUE), \n",
    "                            ALP))"
   ]
  },
  {
   "cell_type": "code",
   "execution_count": 176,
   "id": "3ed3dcef-d452-4ed0-9e1f-d323453845e8",
   "metadata": {},
   "outputs": [
    {
     "data": {
      "text/html": [
       "<table class=\"dataframe\">\n",
       "<caption>A grouped_df: 1 × 13</caption>\n",
       "<thead>\n",
       "\t<tr><th scope=col>Category</th><th scope=col>Age</th><th scope=col>Sex</th><th scope=col>ALB</th><th scope=col>ALP</th><th scope=col>ALT</th><th scope=col>AST</th><th scope=col>BIL</th><th scope=col>CHE</th><th scope=col>CHOL</th><th scope=col>CREA</th><th scope=col>GGT</th><th scope=col>PROT</th></tr>\n",
       "\t<tr><th scope=col>&lt;fct&gt;</th><th scope=col>&lt;int&gt;</th><th scope=col>&lt;chr&gt;</th><th scope=col>&lt;dbl&gt;</th><th scope=col>&lt;dbl&gt;</th><th scope=col>&lt;dbl&gt;</th><th scope=col>&lt;dbl&gt;</th><th scope=col>&lt;dbl&gt;</th><th scope=col>&lt;dbl&gt;</th><th scope=col>&lt;dbl&gt;</th><th scope=col>&lt;dbl&gt;</th><th scope=col>&lt;dbl&gt;</th><th scope=col>&lt;dbl&gt;</th></tr>\n",
       "</thead>\n",
       "<tbody>\n",
       "\t<tr><td>0</td><td>32</td><td>1</td><td>47.4</td><td>52.5</td><td>19.1</td><td>17.1</td><td>4.6</td><td>10.19</td><td>5.4</td><td>63</td><td>23</td><td>72.2</td></tr>\n",
       "</tbody>\n",
       "</table>\n"
      ],
      "text/latex": [
       "A grouped\\_df: 1 × 13\n",
       "\\begin{tabular}{lllllllllllll}\n",
       " Category & Age & Sex & ALB & ALP & ALT & AST & BIL & CHE & CHOL & CREA & GGT & PROT\\\\\n",
       " <fct> & <int> & <chr> & <dbl> & <dbl> & <dbl> & <dbl> & <dbl> & <dbl> & <dbl> & <dbl> & <dbl> & <dbl>\\\\\n",
       "\\hline\n",
       "\t 0 & 32 & 1 & 47.4 & 52.5 & 19.1 & 17.1 & 4.6 & 10.19 & 5.4 & 63 & 23 & 72.2\\\\\n",
       "\\end{tabular}\n"
      ],
      "text/markdown": [
       "\n",
       "A grouped_df: 1 × 13\n",
       "\n",
       "| Category &lt;fct&gt; | Age &lt;int&gt; | Sex &lt;chr&gt; | ALB &lt;dbl&gt; | ALP &lt;dbl&gt; | ALT &lt;dbl&gt; | AST &lt;dbl&gt; | BIL &lt;dbl&gt; | CHE &lt;dbl&gt; | CHOL &lt;dbl&gt; | CREA &lt;dbl&gt; | GGT &lt;dbl&gt; | PROT &lt;dbl&gt; |\n",
       "|---|---|---|---|---|---|---|---|---|---|---|---|---|\n",
       "| 0 | 32 | 1 | 47.4 | 52.5 | 19.1 | 17.1 | 4.6 | 10.19 | 5.4 | 63 | 23 | 72.2 |\n",
       "\n"
      ],
      "text/plain": [
       "  Category Age Sex ALB  ALP  ALT  AST  BIL CHE   CHOL CREA GGT PROT\n",
       "1 0        32  1   47.4 52.5 19.1 17.1 4.6 10.19 5.4  63   23  72.2"
      ]
     },
     "metadata": {},
     "output_type": "display_data"
    }
   ],
   "source": [
    "Train[216,]"
   ]
  },
  {
   "cell_type": "code",
   "execution_count": 177,
   "id": "ca2fc73c-fb52-4d77-a154-da2388bdf610",
   "metadata": {},
   "outputs": [],
   "source": [
    "#Impute values using column medians - TEST\n",
    "Test=Test %>% group_by(Category) %>%   mutate(ALT = ifelse(is.na(ALT), \n",
    "                            median(ALT, na.rm = TRUE), \n",
    "                            ALT))\n",
    "\n",
    "Test=Test %>% group_by(Category) %>%   mutate(PROT = ifelse(is.na(PROT), \n",
    "                            median(PROT, na.rm = TRUE), \n",
    "                            PROT))\n",
    "\n",
    "Test=Test %>% group_by(Category) %>%   mutate(CHOL = ifelse(is.na(CHOL), \n",
    "                            median(CHOL, na.rm = TRUE), \n",
    "                            CHOL))\n",
    "\n",
    "Test=Test %>% group_by(Category) %>%   mutate(ALB = ifelse(is.na(ALB), \n",
    "                            median(ALB, na.rm = TRUE), \n",
    "                            ALB))\n",
    "\n",
    "Test=Test %>% group_by(Category) %>%   mutate(ALP = ifelse(is.na(ALP), \n",
    "                            median(ALT, na.rm = TRUE), \n",
    "                            ALP))"
   ]
  },
  {
   "cell_type": "code",
   "execution_count": 178,
   "id": "c23896ef-922e-4ed2-a513-b67db014a18e",
   "metadata": {
    "tags": []
   },
   "outputs": [
    {
     "data": {
      "text/html": [
       "<table class=\"dataframe\">\n",
       "<caption>A grouped_df: 0 × 13</caption>\n",
       "<thead>\n",
       "\t<tr><th scope=col>Category</th><th scope=col>Age</th><th scope=col>Sex</th><th scope=col>ALB</th><th scope=col>ALP</th><th scope=col>ALT</th><th scope=col>AST</th><th scope=col>BIL</th><th scope=col>CHE</th><th scope=col>CHOL</th><th scope=col>CREA</th><th scope=col>GGT</th><th scope=col>PROT</th></tr>\n",
       "\t<tr><th scope=col>&lt;fct&gt;</th><th scope=col>&lt;int&gt;</th><th scope=col>&lt;chr&gt;</th><th scope=col>&lt;dbl&gt;</th><th scope=col>&lt;dbl&gt;</th><th scope=col>&lt;dbl&gt;</th><th scope=col>&lt;dbl&gt;</th><th scope=col>&lt;dbl&gt;</th><th scope=col>&lt;dbl&gt;</th><th scope=col>&lt;dbl&gt;</th><th scope=col>&lt;dbl&gt;</th><th scope=col>&lt;dbl&gt;</th><th scope=col>&lt;dbl&gt;</th></tr>\n",
       "</thead>\n",
       "<tbody>\n",
       "</tbody>\n",
       "</table>\n"
      ],
      "text/latex": [
       "A grouped\\_df: 0 × 13\n",
       "\\begin{tabular}{lllllllllllll}\n",
       " Category & Age & Sex & ALB & ALP & ALT & AST & BIL & CHE & CHOL & CREA & GGT & PROT\\\\\n",
       " <fct> & <int> & <chr> & <dbl> & <dbl> & <dbl> & <dbl> & <dbl> & <dbl> & <dbl> & <dbl> & <dbl> & <dbl>\\\\\n",
       "\\hline\n",
       "\\end{tabular}\n"
      ],
      "text/markdown": [
       "\n",
       "A grouped_df: 0 × 13\n",
       "\n",
       "| Category &lt;fct&gt; | Age &lt;int&gt; | Sex &lt;chr&gt; | ALB &lt;dbl&gt; | ALP &lt;dbl&gt; | ALT &lt;dbl&gt; | AST &lt;dbl&gt; | BIL &lt;dbl&gt; | CHE &lt;dbl&gt; | CHOL &lt;dbl&gt; | CREA &lt;dbl&gt; | GGT &lt;dbl&gt; | PROT &lt;dbl&gt; |\n",
       "|---|---|---|---|---|---|---|---|---|---|---|---|---|\n",
       "\n"
      ],
      "text/plain": [
       "     Category Age Sex ALB ALP ALT AST BIL CHE CHOL CREA GGT PROT"
      ]
     },
     "metadata": {},
     "output_type": "display_data"
    }
   ],
   "source": [
    "#Data Check: no null rows remaining\n",
    "Train[rowSums(is.na(Train)) > 0,]"
   ]
  },
  {
   "cell_type": "code",
   "execution_count": 179,
   "id": "23b65f32",
   "metadata": {},
   "outputs": [],
   "source": [
    "#Convert to train_x, train_y, test_x, test_y\n",
    "train_labels=Train[[\"Category\"]]\n",
    "test_labels=Test[['Category']]\n",
    "train_x <- subset( Train, select = -Category )\n",
    "test_x <- subset( Test, select = -Category )"
   ]
  },
  {
   "cell_type": "code",
   "execution_count": 180,
   "id": "615e7ec7",
   "metadata": {},
   "outputs": [],
   "source": [
    "#store as matrix form\n",
    "train_labels = as.matrix(train_labels)\n",
    "test_labels = as.matrix(test_labels)\n",
    "train_x=as.matrix(train_x)\n",
    "test_x=as.matrix(test_x)"
   ]
  },
  {
   "cell_type": "code",
   "execution_count": 181,
   "id": "98a59d21-5c87-442d-9026-7a63f0bc71dd",
   "metadata": {},
   "outputs": [
    {
     "data": {
      "text/html": [
       "<table class=\"dataframe\">\n",
       "<caption>A matrix: 6 × 12 of type chr</caption>\n",
       "<thead>\n",
       "\t<tr><th scope=col>Age</th><th scope=col>Sex</th><th scope=col>ALB</th><th scope=col>ALP</th><th scope=col>ALT</th><th scope=col>AST</th><th scope=col>BIL</th><th scope=col>CHE</th><th scope=col>CHOL</th><th scope=col>CREA</th><th scope=col>GGT</th><th scope=col>PROT</th></tr>\n",
       "</thead>\n",
       "<tbody>\n",
       "\t<tr><td>32</td><td>0</td><td>38.5</td><td> 52.50</td><td>  7.7</td><td> 22.1</td><td>  7.5</td><td> 6.93</td><td>3.230</td><td> 106.0</td><td> 12.1</td><td>69.00</td></tr>\n",
       "\t<tr><td>32</td><td>0</td><td>39.2</td><td> 74.10</td><td> 32.6</td><td> 24.8</td><td>  9.6</td><td> 9.15</td><td>4.320</td><td>  76.0</td><td> 29.9</td><td>68.70</td></tr>\n",
       "\t<tr><td>32</td><td>0</td><td>41.6</td><td> 43.30</td><td> 18.5</td><td> 19.7</td><td> 12.3</td><td> 9.92</td><td>6.050</td><td> 111.0</td><td> 91.0</td><td>74.00</td></tr>\n",
       "\t<tr><td>32</td><td>0</td><td>46.3</td><td> 41.30</td><td> 17.5</td><td> 17.8</td><td>  8.5</td><td> 7.01</td><td>4.790</td><td>  70.0</td><td> 16.9</td><td>74.50</td></tr>\n",
       "\t<tr><td>32</td><td>0</td><td>50.9</td><td> 65.50</td><td> 23.2</td><td> 21.2</td><td>  6.9</td><td> 8.69</td><td>4.100</td><td>  83.0</td><td> 13.7</td><td>71.30</td></tr>\n",
       "\t<tr><td>32</td><td>0</td><td>42.4</td><td> 86.30</td><td> 20.3</td><td> 20.0</td><td> 35.2</td><td> 5.46</td><td>4.450</td><td>  81.0</td><td> 15.9</td><td>69.90</td></tr>\n",
       "</tbody>\n",
       "</table>\n"
      ],
      "text/latex": [
       "A matrix: 6 × 12 of type chr\n",
       "\\begin{tabular}{llllllllllll}\n",
       " Age & Sex & ALB & ALP & ALT & AST & BIL & CHE & CHOL & CREA & GGT & PROT\\\\\n",
       "\\hline\n",
       "\t 32 & 0 & 38.5 &  52.50 &   7.7 &  22.1 &   7.5 &  6.93 & 3.230 &  106.0 &  12.1 & 69.00\\\\\n",
       "\t 32 & 0 & 39.2 &  74.10 &  32.6 &  24.8 &   9.6 &  9.15 & 4.320 &   76.0 &  29.9 & 68.70\\\\\n",
       "\t 32 & 0 & 41.6 &  43.30 &  18.5 &  19.7 &  12.3 &  9.92 & 6.050 &  111.0 &  91.0 & 74.00\\\\\n",
       "\t 32 & 0 & 46.3 &  41.30 &  17.5 &  17.8 &   8.5 &  7.01 & 4.790 &   70.0 &  16.9 & 74.50\\\\\n",
       "\t 32 & 0 & 50.9 &  65.50 &  23.2 &  21.2 &   6.9 &  8.69 & 4.100 &   83.0 &  13.7 & 71.30\\\\\n",
       "\t 32 & 0 & 42.4 &  86.30 &  20.3 &  20.0 &  35.2 &  5.46 & 4.450 &   81.0 &  15.9 & 69.90\\\\\n",
       "\\end{tabular}\n"
      ],
      "text/markdown": [
       "\n",
       "A matrix: 6 × 12 of type chr\n",
       "\n",
       "| Age | Sex | ALB | ALP | ALT | AST | BIL | CHE | CHOL | CREA | GGT | PROT |\n",
       "|---|---|---|---|---|---|---|---|---|---|---|---|\n",
       "| 32 | 0 | 38.5 |  52.50 |   7.7 |  22.1 |   7.5 |  6.93 | 3.230 |  106.0 |  12.1 | 69.00 |\n",
       "| 32 | 0 | 39.2 |  74.10 |  32.6 |  24.8 |   9.6 |  9.15 | 4.320 |   76.0 |  29.9 | 68.70 |\n",
       "| 32 | 0 | 41.6 |  43.30 |  18.5 |  19.7 |  12.3 |  9.92 | 6.050 |  111.0 |  91.0 | 74.00 |\n",
       "| 32 | 0 | 46.3 |  41.30 |  17.5 |  17.8 |   8.5 |  7.01 | 4.790 |   70.0 |  16.9 | 74.50 |\n",
       "| 32 | 0 | 50.9 |  65.50 |  23.2 |  21.2 |   6.9 |  8.69 | 4.100 |   83.0 |  13.7 | 71.30 |\n",
       "| 32 | 0 | 42.4 |  86.30 |  20.3 |  20.0 |  35.2 |  5.46 | 4.450 |   81.0 |  15.9 | 69.90 |\n",
       "\n"
      ],
      "text/plain": [
       "     Age Sex ALB  ALP    ALT   AST   BIL   CHE   CHOL  CREA   GGT   PROT \n",
       "[1,] 32  0   38.5  52.50   7.7  22.1   7.5  6.93 3.230  106.0  12.1 69.00\n",
       "[2,] 32  0   39.2  74.10  32.6  24.8   9.6  9.15 4.320   76.0  29.9 68.70\n",
       "[3,] 32  0   41.6  43.30  18.5  19.7  12.3  9.92 6.050  111.0  91.0 74.00\n",
       "[4,] 32  0   46.3  41.30  17.5  17.8   8.5  7.01 4.790   70.0  16.9 74.50\n",
       "[5,] 32  0   50.9  65.50  23.2  21.2   6.9  8.69 4.100   83.0  13.7 71.30\n",
       "[6,] 32  0   42.4  86.30  20.3  20.0  35.2  5.46 4.450   81.0  15.9 69.90"
      ]
     },
     "metadata": {},
     "output_type": "display_data"
    }
   ],
   "source": [
    "head(test_x)"
   ]
  },
  {
   "cell_type": "code",
   "execution_count": 182,
   "id": "ea846a1e",
   "metadata": {},
   "outputs": [],
   "source": [
    "#Export to csvs\n",
    "write.csv(train_labels,\"/Users/shreya/Desktop/STAT 503/train_labels.csv\", row.names = FALSE)\n",
    "write.csv(test_labels,\"/Users/shreya/Desktop/STAT 503/test_labels.csv\", row.names = FALSE)\n",
    "write.csv(train_x,\"/Users/shreya/Desktop/STAT 503/train_x.csv\", row.names = FALSE)\n",
    "write.csv(test_x,\"/Users/shreya/Desktop/STAT 503/test_x.csv\", row.names = FALSE)"
   ]
  }
 ],
 "metadata": {
  "kernelspec": {
   "display_name": "R",
   "language": "R",
   "name": "ir"
  },
  "language_info": {
   "codemirror_mode": "r",
   "file_extension": ".r",
   "mimetype": "text/x-r-source",
   "name": "R",
   "pygments_lexer": "r",
   "version": "4.0.2"
  }
 },
 "nbformat": 4,
 "nbformat_minor": 5
}
