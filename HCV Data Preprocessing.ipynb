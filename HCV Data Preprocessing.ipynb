{
 "cells": [
  {
   "cell_type": "code",
   "execution_count": 58,
   "id": "89d28d73",
   "metadata": {},
   "outputs": [],
   "source": [
    "HCV_df=read.csv(file = '/Users/shreya/Downloads/hcvdat0.csv')"
   ]
  },
  {
   "cell_type": "code",
   "execution_count": 59,
   "id": "0b98a015",
   "metadata": {
    "scrolled": true
   },
   "outputs": [
    {
     "data": {
      "text/html": [
       "<table class=\"dataframe\">\n",
       "<caption>A data.frame: 6 × 14</caption>\n",
       "<thead>\n",
       "\t<tr><th></th><th scope=col>X</th><th scope=col>Category</th><th scope=col>Age</th><th scope=col>Sex</th><th scope=col>ALB</th><th scope=col>ALP</th><th scope=col>ALT</th><th scope=col>AST</th><th scope=col>BIL</th><th scope=col>CHE</th><th scope=col>CHOL</th><th scope=col>CREA</th><th scope=col>GGT</th><th scope=col>PROT</th></tr>\n",
       "\t<tr><th></th><th scope=col>&lt;int&gt;</th><th scope=col>&lt;chr&gt;</th><th scope=col>&lt;int&gt;</th><th scope=col>&lt;chr&gt;</th><th scope=col>&lt;dbl&gt;</th><th scope=col>&lt;dbl&gt;</th><th scope=col>&lt;dbl&gt;</th><th scope=col>&lt;dbl&gt;</th><th scope=col>&lt;dbl&gt;</th><th scope=col>&lt;dbl&gt;</th><th scope=col>&lt;dbl&gt;</th><th scope=col>&lt;dbl&gt;</th><th scope=col>&lt;dbl&gt;</th><th scope=col>&lt;dbl&gt;</th></tr>\n",
       "</thead>\n",
       "<tbody>\n",
       "\t<tr><th scope=row>1</th><td>1</td><td>0=Blood Donor</td><td>32</td><td>m</td><td>38.5</td><td>52.5</td><td> 7.7</td><td>22.1</td><td> 7.5</td><td> 6.93</td><td>3.23</td><td>106</td><td>12.1</td><td>69.0</td></tr>\n",
       "\t<tr><th scope=row>2</th><td>2</td><td>0=Blood Donor</td><td>32</td><td>m</td><td>38.5</td><td>70.3</td><td>18.0</td><td>24.7</td><td> 3.9</td><td>11.17</td><td>4.80</td><td> 74</td><td>15.6</td><td>76.5</td></tr>\n",
       "\t<tr><th scope=row>3</th><td>3</td><td>0=Blood Donor</td><td>32</td><td>m</td><td>46.9</td><td>74.7</td><td>36.2</td><td>52.6</td><td> 6.1</td><td> 8.84</td><td>5.20</td><td> 86</td><td>33.2</td><td>79.3</td></tr>\n",
       "\t<tr><th scope=row>4</th><td>4</td><td>0=Blood Donor</td><td>32</td><td>m</td><td>43.2</td><td>52.0</td><td>30.6</td><td>22.6</td><td>18.9</td><td> 7.33</td><td>4.74</td><td> 80</td><td>33.8</td><td>75.7</td></tr>\n",
       "\t<tr><th scope=row>5</th><td>5</td><td>0=Blood Donor</td><td>32</td><td>m</td><td>39.2</td><td>74.1</td><td>32.6</td><td>24.8</td><td> 9.6</td><td> 9.15</td><td>4.32</td><td> 76</td><td>29.9</td><td>68.7</td></tr>\n",
       "\t<tr><th scope=row>6</th><td>6</td><td>0=Blood Donor</td><td>32</td><td>m</td><td>41.6</td><td>43.3</td><td>18.5</td><td>19.7</td><td>12.3</td><td> 9.92</td><td>6.05</td><td>111</td><td>91.0</td><td>74.0</td></tr>\n",
       "</tbody>\n",
       "</table>\n"
      ],
      "text/latex": [
       "A data.frame: 6 × 14\n",
       "\\begin{tabular}{r|llllllllllllll}\n",
       "  & X & Category & Age & Sex & ALB & ALP & ALT & AST & BIL & CHE & CHOL & CREA & GGT & PROT\\\\\n",
       "  & <int> & <chr> & <int> & <chr> & <dbl> & <dbl> & <dbl> & <dbl> & <dbl> & <dbl> & <dbl> & <dbl> & <dbl> & <dbl>\\\\\n",
       "\\hline\n",
       "\t1 & 1 & 0=Blood Donor & 32 & m & 38.5 & 52.5 &  7.7 & 22.1 &  7.5 &  6.93 & 3.23 & 106 & 12.1 & 69.0\\\\\n",
       "\t2 & 2 & 0=Blood Donor & 32 & m & 38.5 & 70.3 & 18.0 & 24.7 &  3.9 & 11.17 & 4.80 &  74 & 15.6 & 76.5\\\\\n",
       "\t3 & 3 & 0=Blood Donor & 32 & m & 46.9 & 74.7 & 36.2 & 52.6 &  6.1 &  8.84 & 5.20 &  86 & 33.2 & 79.3\\\\\n",
       "\t4 & 4 & 0=Blood Donor & 32 & m & 43.2 & 52.0 & 30.6 & 22.6 & 18.9 &  7.33 & 4.74 &  80 & 33.8 & 75.7\\\\\n",
       "\t5 & 5 & 0=Blood Donor & 32 & m & 39.2 & 74.1 & 32.6 & 24.8 &  9.6 &  9.15 & 4.32 &  76 & 29.9 & 68.7\\\\\n",
       "\t6 & 6 & 0=Blood Donor & 32 & m & 41.6 & 43.3 & 18.5 & 19.7 & 12.3 &  9.92 & 6.05 & 111 & 91.0 & 74.0\\\\\n",
       "\\end{tabular}\n"
      ],
      "text/markdown": [
       "\n",
       "A data.frame: 6 × 14\n",
       "\n",
       "| <!--/--> | X &lt;int&gt; | Category &lt;chr&gt; | Age &lt;int&gt; | Sex &lt;chr&gt; | ALB &lt;dbl&gt; | ALP &lt;dbl&gt; | ALT &lt;dbl&gt; | AST &lt;dbl&gt; | BIL &lt;dbl&gt; | CHE &lt;dbl&gt; | CHOL &lt;dbl&gt; | CREA &lt;dbl&gt; | GGT &lt;dbl&gt; | PROT &lt;dbl&gt; |\n",
       "|---|---|---|---|---|---|---|---|---|---|---|---|---|---|---|\n",
       "| 1 | 1 | 0=Blood Donor | 32 | m | 38.5 | 52.5 |  7.7 | 22.1 |  7.5 |  6.93 | 3.23 | 106 | 12.1 | 69.0 |\n",
       "| 2 | 2 | 0=Blood Donor | 32 | m | 38.5 | 70.3 | 18.0 | 24.7 |  3.9 | 11.17 | 4.80 |  74 | 15.6 | 76.5 |\n",
       "| 3 | 3 | 0=Blood Donor | 32 | m | 46.9 | 74.7 | 36.2 | 52.6 |  6.1 |  8.84 | 5.20 |  86 | 33.2 | 79.3 |\n",
       "| 4 | 4 | 0=Blood Donor | 32 | m | 43.2 | 52.0 | 30.6 | 22.6 | 18.9 |  7.33 | 4.74 |  80 | 33.8 | 75.7 |\n",
       "| 5 | 5 | 0=Blood Donor | 32 | m | 39.2 | 74.1 | 32.6 | 24.8 |  9.6 |  9.15 | 4.32 |  76 | 29.9 | 68.7 |\n",
       "| 6 | 6 | 0=Blood Donor | 32 | m | 41.6 | 43.3 | 18.5 | 19.7 | 12.3 |  9.92 | 6.05 | 111 | 91.0 | 74.0 |\n",
       "\n"
      ],
      "text/plain": [
       "  X Category      Age Sex ALB  ALP  ALT  AST  BIL  CHE   CHOL CREA GGT  PROT\n",
       "1 1 0=Blood Donor 32  m   38.5 52.5  7.7 22.1  7.5  6.93 3.23 106  12.1 69.0\n",
       "2 2 0=Blood Donor 32  m   38.5 70.3 18.0 24.7  3.9 11.17 4.80  74  15.6 76.5\n",
       "3 3 0=Blood Donor 32  m   46.9 74.7 36.2 52.6  6.1  8.84 5.20  86  33.2 79.3\n",
       "4 4 0=Blood Donor 32  m   43.2 52.0 30.6 22.6 18.9  7.33 4.74  80  33.8 75.7\n",
       "5 5 0=Blood Donor 32  m   39.2 74.1 32.6 24.8  9.6  9.15 4.32  76  29.9 68.7\n",
       "6 6 0=Blood Donor 32  m   41.6 43.3 18.5 19.7 12.3  9.92 6.05 111  91.0 74.0"
      ]
     },
     "metadata": {},
     "output_type": "display_data"
    }
   ],
   "source": [
    "head(HCV_df)"
   ]
  },
  {
   "cell_type": "code",
   "execution_count": 60,
   "id": "83e47d01",
   "metadata": {},
   "outputs": [],
   "source": [
    "#Encode Y column to 0-3\n",
    "HCV_df[\"Category\"][HCV_df[\"Category\"] == '0=Blood Donor'] <- 0\n",
    "HCV_df[\"Category\"][HCV_df[\"Category\"] == '0s=suspect Blood Donor'] <- 0\n",
    "HCV_df[\"Category\"][HCV_df[\"Category\"] == '1=Hepatitis'] <- 1\n",
    "HCV_df[\"Category\"][HCV_df[\"Category\"] == '2=Fibrosis'] <- 2\n",
    "HCV_df[\"Category\"][HCV_df[\"Category\"] == '3=Cirrhosis'] <- 3\n",
    "#Encode Sex column to numeric: Male is 0, Female is 1\n",
    "HCV_df[\"Sex\"][HCV_df[\"Sex\"] == 'm'] <- 0\n",
    "HCV_df[\"Sex\"][HCV_df[\"Sex\"] == 'f'] <- 1\n",
    "#Remove column of Patient ID\n",
    "HCV_df <- subset (HCV_df, select = -X)"
   ]
  },
  {
   "cell_type": "code",
   "execution_count": 61,
   "id": "632f28eb",
   "metadata": {},
   "outputs": [],
   "source": [
    "#Convert Y to a factor variable\n",
    "HCV_df$Category=as.factor(HCV_df$Category)"
   ]
  },
  {
   "cell_type": "code",
   "execution_count": 62,
   "id": "865401ff",
   "metadata": {
    "scrolled": true
   },
   "outputs": [
    {
     "data": {
      "text/html": [
       "<table class=\"dataframe\">\n",
       "<caption>A data.frame: 26 × 13</caption>\n",
       "<thead>\n",
       "\t<tr><th></th><th scope=col>Category</th><th scope=col>Age</th><th scope=col>Sex</th><th scope=col>ALB</th><th scope=col>ALP</th><th scope=col>ALT</th><th scope=col>AST</th><th scope=col>BIL</th><th scope=col>CHE</th><th scope=col>CHOL</th><th scope=col>CREA</th><th scope=col>GGT</th><th scope=col>PROT</th></tr>\n",
       "\t<tr><th></th><th scope=col>&lt;fct&gt;</th><th scope=col>&lt;int&gt;</th><th scope=col>&lt;chr&gt;</th><th scope=col>&lt;dbl&gt;</th><th scope=col>&lt;dbl&gt;</th><th scope=col>&lt;dbl&gt;</th><th scope=col>&lt;dbl&gt;</th><th scope=col>&lt;dbl&gt;</th><th scope=col>&lt;dbl&gt;</th><th scope=col>&lt;dbl&gt;</th><th scope=col>&lt;dbl&gt;</th><th scope=col>&lt;dbl&gt;</th><th scope=col>&lt;dbl&gt;</th></tr>\n",
       "</thead>\n",
       "<tbody>\n",
       "\t<tr><th scope=row>122</th><td>0</td><td>43</td><td>0</td><td>48.6</td><td> 45.0</td><td> 10.5</td><td> 40.5</td><td>  5.3</td><td> 7.09</td><td> NA</td><td> 63.0</td><td> 25.1</td><td>70.0</td></tr>\n",
       "\t<tr><th scope=row>320</th><td>0</td><td>32</td><td>1</td><td>47.4</td><td> 52.5</td><td> 19.1</td><td> 17.1</td><td>  4.6</td><td>10.19</td><td> NA</td><td> 63.0</td><td> 23.0</td><td>72.2</td></tr>\n",
       "\t<tr><th scope=row>330</th><td>0</td><td>33</td><td>1</td><td>42.4</td><td>137.2</td><td> 14.2</td><td> 13.1</td><td>  3.4</td><td> 8.23</td><td> NA</td><td> 48.0</td><td> 25.7</td><td>74.4</td></tr>\n",
       "\t<tr><th scope=row>414</th><td>0</td><td>46</td><td>1</td><td>42.9</td><td> 55.1</td><td> 15.2</td><td> 29.8</td><td>  3.6</td><td> 8.37</td><td> NA</td><td> 61.0</td><td> 29.0</td><td>71.9</td></tr>\n",
       "\t<tr><th scope=row>425</th><td>0</td><td>48</td><td>1</td><td>45.6</td><td>107.2</td><td> 24.4</td><td> 39.0</td><td> 13.8</td><td> 9.77</td><td> NA</td><td> 88.0</td><td> 38.0</td><td>75.1</td></tr>\n",
       "\t<tr><th scope=row>434</th><td>0</td><td>48</td><td>1</td><td>46.8</td><td> 93.3</td><td> 10.0</td><td> 23.2</td><td>  4.3</td><td>12.41</td><td> NA</td><td> 52.0</td><td> 23.9</td><td>72.4</td></tr>\n",
       "\t<tr><th scope=row>499</th><td>0</td><td>57</td><td>1</td><td>48.4</td><td> 94.4</td><td>  2.5</td><td> 39.6</td><td>  2.3</td><td> 8.84</td><td> NA</td><td> 82.0</td><td>  6.4</td><td>76.8</td></tr>\n",
       "\t<tr><th scope=row>541</th><td>1</td><td>38</td><td>0</td><td>45.0</td><td> 56.3</td><td>   NA</td><td> 33.1</td><td>  7.0</td><td> 9.58</td><td>6.0</td><td> 77.9</td><td> 18.9</td><td>63.0</td></tr>\n",
       "\t<tr><th scope=row>542</th><td>1</td><td>19</td><td>0</td><td>41.0</td><td>   NA</td><td> 87.0</td><td> 67.0</td><td> 12.0</td><td> 7.55</td><td>3.9</td><td> 62.0</td><td> 65.0</td><td>75.0</td></tr>\n",
       "\t<tr><th scope=row>546</th><td>1</td><td>29</td><td>0</td><td>49.0</td><td>   NA</td><td> 53.0</td><td> 39.0</td><td> 15.0</td><td> 8.79</td><td>3.6</td><td> 79.0</td><td> 37.0</td><td>90.0</td></tr>\n",
       "\t<tr><th scope=row>547</th><td>1</td><td>30</td><td>0</td><td>45.0</td><td>   NA</td><td> 66.0</td><td> 45.0</td><td> 14.0</td><td>12.16</td><td>6.1</td><td> 86.0</td><td> 43.0</td><td>77.0</td></tr>\n",
       "\t<tr><th scope=row>569</th><td>2</td><td>49</td><td>0</td><td>39.0</td><td>   NA</td><td>118.0</td><td> 62.0</td><td> 10.0</td><td> 7.28</td><td>3.5</td><td> 72.0</td><td> 74.0</td><td>81.0</td></tr>\n",
       "\t<tr><th scope=row>570</th><td>2</td><td>49</td><td>0</td><td>46.0</td><td>   NA</td><td>114.0</td><td> 75.0</td><td> 16.0</td><td>10.43</td><td>5.2</td><td> 72.0</td><td> 59.0</td><td>82.0</td></tr>\n",
       "\t<tr><th scope=row>571</th><td>2</td><td>50</td><td>0</td><td>42.0</td><td>   NA</td><td>258.0</td><td>106.0</td><td> 15.0</td><td> 8.74</td><td>4.7</td><td> 77.0</td><td> 80.0</td><td>84.0</td></tr>\n",
       "\t<tr><th scope=row>572</th><td>2</td><td>53</td><td>0</td><td>46.0</td><td>   NA</td><td> 34.0</td><td> 43.0</td><td> 14.0</td><td> 8.77</td><td>4.0</td><td>112.0</td><td>203.0</td><td>76.0</td></tr>\n",
       "\t<tr><th scope=row>577</th><td>2</td><td>71</td><td>0</td><td>37.0</td><td>   NA</td><td>130.0</td><td> 90.0</td><td> 15.0</td><td> 9.92</td><td>4.7</td><td> 79.0</td><td> 77.0</td><td>76.0</td></tr>\n",
       "\t<tr><th scope=row>582</th><td>2</td><td>49</td><td>1</td><td>39.0</td><td>   NA</td><td> 46.0</td><td> 39.0</td><td>  9.0</td><td>10.21</td><td>3.1</td><td> 89.0</td><td> 53.0</td><td>79.0</td></tr>\n",
       "\t<tr><th scope=row>583</th><td>2</td><td>51</td><td>1</td><td>37.0</td><td>   NA</td><td>164.0</td><td> 70.0</td><td>  9.0</td><td> 3.99</td><td>4.2</td><td> 67.0</td><td> 43.0</td><td>72.0</td></tr>\n",
       "\t<tr><th scope=row>584</th><td>2</td><td>56</td><td>1</td><td>39.0</td><td>   NA</td><td> 42.0</td><td> 34.0</td><td> 10.0</td><td> 7.75</td><td>5.0</td><td> 80.0</td><td> 84.0</td><td>78.0</td></tr>\n",
       "\t<tr><th scope=row>585</th><td>2</td><td>75</td><td>1</td><td>36.0</td><td>   NA</td><td>114.0</td><td>125.0</td><td> 14.0</td><td> 6.65</td><td> NA</td><td> 57.0</td><td>177.0</td><td>72.0</td></tr>\n",
       "\t<tr><th scope=row>586</th><td>3</td><td>38</td><td>0</td><td>44.0</td><td>   NA</td><td> 94.0</td><td> 60.0</td><td> 12.0</td><td> 4.37</td><td>3.2</td><td> 61.0</td><td> 99.0</td><td>77.0</td></tr>\n",
       "\t<tr><th scope=row>591</th><td>3</td><td>46</td><td>0</td><td>20.0</td><td>   NA</td><td> 62.0</td><td>113.0</td><td>254.0</td><td> 1.48</td><td> NA</td><td>114.0</td><td>138.0</td><td>  NA</td></tr>\n",
       "\t<tr><th scope=row>593</th><td>3</td><td>47</td><td>0</td><td>42.0</td><td>   NA</td><td>159.0</td><td>102.0</td><td> 11.0</td><td> 6.29</td><td>5.5</td><td> 58.0</td><td>201.0</td><td>79.0</td></tr>\n",
       "\t<tr><th scope=row>604</th><td>3</td><td>65</td><td>0</td><td>  NA</td><td>   NA</td><td> 40.0</td><td> 54.0</td><td> 13.0</td><td> 7.50</td><td> NA</td><td> 70.0</td><td>107.0</td><td>79.0</td></tr>\n",
       "\t<tr><th scope=row>614</th><td>3</td><td>46</td><td>1</td><td>33.0</td><td>   NA</td><td> 39.0</td><td> 62.0</td><td> 20.0</td><td> 3.56</td><td>4.2</td><td> 52.0</td><td> 50.0</td><td>71.0</td></tr>\n",
       "\t<tr><th scope=row>615</th><td>3</td><td>59</td><td>1</td><td>36.0</td><td>   NA</td><td>100.0</td><td> 80.0</td><td> 12.0</td><td> 9.07</td><td>5.3</td><td> 67.0</td><td> 34.0</td><td>68.0</td></tr>\n",
       "</tbody>\n",
       "</table>\n"
      ],
      "text/latex": [
       "A data.frame: 26 × 13\n",
       "\\begin{tabular}{r|lllllllllllll}\n",
       "  & Category & Age & Sex & ALB & ALP & ALT & AST & BIL & CHE & CHOL & CREA & GGT & PROT\\\\\n",
       "  & <fct> & <int> & <chr> & <dbl> & <dbl> & <dbl> & <dbl> & <dbl> & <dbl> & <dbl> & <dbl> & <dbl> & <dbl>\\\\\n",
       "\\hline\n",
       "\t122 & 0 & 43 & 0 & 48.6 &  45.0 &  10.5 &  40.5 &   5.3 &  7.09 &  NA &  63.0 &  25.1 & 70.0\\\\\n",
       "\t320 & 0 & 32 & 1 & 47.4 &  52.5 &  19.1 &  17.1 &   4.6 & 10.19 &  NA &  63.0 &  23.0 & 72.2\\\\\n",
       "\t330 & 0 & 33 & 1 & 42.4 & 137.2 &  14.2 &  13.1 &   3.4 &  8.23 &  NA &  48.0 &  25.7 & 74.4\\\\\n",
       "\t414 & 0 & 46 & 1 & 42.9 &  55.1 &  15.2 &  29.8 &   3.6 &  8.37 &  NA &  61.0 &  29.0 & 71.9\\\\\n",
       "\t425 & 0 & 48 & 1 & 45.6 & 107.2 &  24.4 &  39.0 &  13.8 &  9.77 &  NA &  88.0 &  38.0 & 75.1\\\\\n",
       "\t434 & 0 & 48 & 1 & 46.8 &  93.3 &  10.0 &  23.2 &   4.3 & 12.41 &  NA &  52.0 &  23.9 & 72.4\\\\\n",
       "\t499 & 0 & 57 & 1 & 48.4 &  94.4 &   2.5 &  39.6 &   2.3 &  8.84 &  NA &  82.0 &   6.4 & 76.8\\\\\n",
       "\t541 & 1 & 38 & 0 & 45.0 &  56.3 &    NA &  33.1 &   7.0 &  9.58 & 6.0 &  77.9 &  18.9 & 63.0\\\\\n",
       "\t542 & 1 & 19 & 0 & 41.0 &    NA &  87.0 &  67.0 &  12.0 &  7.55 & 3.9 &  62.0 &  65.0 & 75.0\\\\\n",
       "\t546 & 1 & 29 & 0 & 49.0 &    NA &  53.0 &  39.0 &  15.0 &  8.79 & 3.6 &  79.0 &  37.0 & 90.0\\\\\n",
       "\t547 & 1 & 30 & 0 & 45.0 &    NA &  66.0 &  45.0 &  14.0 & 12.16 & 6.1 &  86.0 &  43.0 & 77.0\\\\\n",
       "\t569 & 2 & 49 & 0 & 39.0 &    NA & 118.0 &  62.0 &  10.0 &  7.28 & 3.5 &  72.0 &  74.0 & 81.0\\\\\n",
       "\t570 & 2 & 49 & 0 & 46.0 &    NA & 114.0 &  75.0 &  16.0 & 10.43 & 5.2 &  72.0 &  59.0 & 82.0\\\\\n",
       "\t571 & 2 & 50 & 0 & 42.0 &    NA & 258.0 & 106.0 &  15.0 &  8.74 & 4.7 &  77.0 &  80.0 & 84.0\\\\\n",
       "\t572 & 2 & 53 & 0 & 46.0 &    NA &  34.0 &  43.0 &  14.0 &  8.77 & 4.0 & 112.0 & 203.0 & 76.0\\\\\n",
       "\t577 & 2 & 71 & 0 & 37.0 &    NA & 130.0 &  90.0 &  15.0 &  9.92 & 4.7 &  79.0 &  77.0 & 76.0\\\\\n",
       "\t582 & 2 & 49 & 1 & 39.0 &    NA &  46.0 &  39.0 &   9.0 & 10.21 & 3.1 &  89.0 &  53.0 & 79.0\\\\\n",
       "\t583 & 2 & 51 & 1 & 37.0 &    NA & 164.0 &  70.0 &   9.0 &  3.99 & 4.2 &  67.0 &  43.0 & 72.0\\\\\n",
       "\t584 & 2 & 56 & 1 & 39.0 &    NA &  42.0 &  34.0 &  10.0 &  7.75 & 5.0 &  80.0 &  84.0 & 78.0\\\\\n",
       "\t585 & 2 & 75 & 1 & 36.0 &    NA & 114.0 & 125.0 &  14.0 &  6.65 &  NA &  57.0 & 177.0 & 72.0\\\\\n",
       "\t586 & 3 & 38 & 0 & 44.0 &    NA &  94.0 &  60.0 &  12.0 &  4.37 & 3.2 &  61.0 &  99.0 & 77.0\\\\\n",
       "\t591 & 3 & 46 & 0 & 20.0 &    NA &  62.0 & 113.0 & 254.0 &  1.48 &  NA & 114.0 & 138.0 &   NA\\\\\n",
       "\t593 & 3 & 47 & 0 & 42.0 &    NA & 159.0 & 102.0 &  11.0 &  6.29 & 5.5 &  58.0 & 201.0 & 79.0\\\\\n",
       "\t604 & 3 & 65 & 0 &   NA &    NA &  40.0 &  54.0 &  13.0 &  7.50 &  NA &  70.0 & 107.0 & 79.0\\\\\n",
       "\t614 & 3 & 46 & 1 & 33.0 &    NA &  39.0 &  62.0 &  20.0 &  3.56 & 4.2 &  52.0 &  50.0 & 71.0\\\\\n",
       "\t615 & 3 & 59 & 1 & 36.0 &    NA & 100.0 &  80.0 &  12.0 &  9.07 & 5.3 &  67.0 &  34.0 & 68.0\\\\\n",
       "\\end{tabular}\n"
      ],
      "text/markdown": [
       "\n",
       "A data.frame: 26 × 13\n",
       "\n",
       "| <!--/--> | Category &lt;fct&gt; | Age &lt;int&gt; | Sex &lt;chr&gt; | ALB &lt;dbl&gt; | ALP &lt;dbl&gt; | ALT &lt;dbl&gt; | AST &lt;dbl&gt; | BIL &lt;dbl&gt; | CHE &lt;dbl&gt; | CHOL &lt;dbl&gt; | CREA &lt;dbl&gt; | GGT &lt;dbl&gt; | PROT &lt;dbl&gt; |\n",
       "|---|---|---|---|---|---|---|---|---|---|---|---|---|---|\n",
       "| 122 | 0 | 43 | 0 | 48.6 |  45.0 |  10.5 |  40.5 |   5.3 |  7.09 |  NA |  63.0 |  25.1 | 70.0 |\n",
       "| 320 | 0 | 32 | 1 | 47.4 |  52.5 |  19.1 |  17.1 |   4.6 | 10.19 |  NA |  63.0 |  23.0 | 72.2 |\n",
       "| 330 | 0 | 33 | 1 | 42.4 | 137.2 |  14.2 |  13.1 |   3.4 |  8.23 |  NA |  48.0 |  25.7 | 74.4 |\n",
       "| 414 | 0 | 46 | 1 | 42.9 |  55.1 |  15.2 |  29.8 |   3.6 |  8.37 |  NA |  61.0 |  29.0 | 71.9 |\n",
       "| 425 | 0 | 48 | 1 | 45.6 | 107.2 |  24.4 |  39.0 |  13.8 |  9.77 |  NA |  88.0 |  38.0 | 75.1 |\n",
       "| 434 | 0 | 48 | 1 | 46.8 |  93.3 |  10.0 |  23.2 |   4.3 | 12.41 |  NA |  52.0 |  23.9 | 72.4 |\n",
       "| 499 | 0 | 57 | 1 | 48.4 |  94.4 |   2.5 |  39.6 |   2.3 |  8.84 |  NA |  82.0 |   6.4 | 76.8 |\n",
       "| 541 | 1 | 38 | 0 | 45.0 |  56.3 |    NA |  33.1 |   7.0 |  9.58 | 6.0 |  77.9 |  18.9 | 63.0 |\n",
       "| 542 | 1 | 19 | 0 | 41.0 |    NA |  87.0 |  67.0 |  12.0 |  7.55 | 3.9 |  62.0 |  65.0 | 75.0 |\n",
       "| 546 | 1 | 29 | 0 | 49.0 |    NA |  53.0 |  39.0 |  15.0 |  8.79 | 3.6 |  79.0 |  37.0 | 90.0 |\n",
       "| 547 | 1 | 30 | 0 | 45.0 |    NA |  66.0 |  45.0 |  14.0 | 12.16 | 6.1 |  86.0 |  43.0 | 77.0 |\n",
       "| 569 | 2 | 49 | 0 | 39.0 |    NA | 118.0 |  62.0 |  10.0 |  7.28 | 3.5 |  72.0 |  74.0 | 81.0 |\n",
       "| 570 | 2 | 49 | 0 | 46.0 |    NA | 114.0 |  75.0 |  16.0 | 10.43 | 5.2 |  72.0 |  59.0 | 82.0 |\n",
       "| 571 | 2 | 50 | 0 | 42.0 |    NA | 258.0 | 106.0 |  15.0 |  8.74 | 4.7 |  77.0 |  80.0 | 84.0 |\n",
       "| 572 | 2 | 53 | 0 | 46.0 |    NA |  34.0 |  43.0 |  14.0 |  8.77 | 4.0 | 112.0 | 203.0 | 76.0 |\n",
       "| 577 | 2 | 71 | 0 | 37.0 |    NA | 130.0 |  90.0 |  15.0 |  9.92 | 4.7 |  79.0 |  77.0 | 76.0 |\n",
       "| 582 | 2 | 49 | 1 | 39.0 |    NA |  46.0 |  39.0 |   9.0 | 10.21 | 3.1 |  89.0 |  53.0 | 79.0 |\n",
       "| 583 | 2 | 51 | 1 | 37.0 |    NA | 164.0 |  70.0 |   9.0 |  3.99 | 4.2 |  67.0 |  43.0 | 72.0 |\n",
       "| 584 | 2 | 56 | 1 | 39.0 |    NA |  42.0 |  34.0 |  10.0 |  7.75 | 5.0 |  80.0 |  84.0 | 78.0 |\n",
       "| 585 | 2 | 75 | 1 | 36.0 |    NA | 114.0 | 125.0 |  14.0 |  6.65 |  NA |  57.0 | 177.0 | 72.0 |\n",
       "| 586 | 3 | 38 | 0 | 44.0 |    NA |  94.0 |  60.0 |  12.0 |  4.37 | 3.2 |  61.0 |  99.0 | 77.0 |\n",
       "| 591 | 3 | 46 | 0 | 20.0 |    NA |  62.0 | 113.0 | 254.0 |  1.48 |  NA | 114.0 | 138.0 |   NA |\n",
       "| 593 | 3 | 47 | 0 | 42.0 |    NA | 159.0 | 102.0 |  11.0 |  6.29 | 5.5 |  58.0 | 201.0 | 79.0 |\n",
       "| 604 | 3 | 65 | 0 |   NA |    NA |  40.0 |  54.0 |  13.0 |  7.50 |  NA |  70.0 | 107.0 | 79.0 |\n",
       "| 614 | 3 | 46 | 1 | 33.0 |    NA |  39.0 |  62.0 |  20.0 |  3.56 | 4.2 |  52.0 |  50.0 | 71.0 |\n",
       "| 615 | 3 | 59 | 1 | 36.0 |    NA | 100.0 |  80.0 |  12.0 |  9.07 | 5.3 |  67.0 |  34.0 | 68.0 |\n",
       "\n"
      ],
      "text/plain": [
       "    Category Age Sex ALB  ALP   ALT   AST   BIL   CHE   CHOL CREA  GGT   PROT\n",
       "122 0        43  0   48.6  45.0  10.5  40.5   5.3  7.09  NA   63.0  25.1 70.0\n",
       "320 0        32  1   47.4  52.5  19.1  17.1   4.6 10.19  NA   63.0  23.0 72.2\n",
       "330 0        33  1   42.4 137.2  14.2  13.1   3.4  8.23  NA   48.0  25.7 74.4\n",
       "414 0        46  1   42.9  55.1  15.2  29.8   3.6  8.37  NA   61.0  29.0 71.9\n",
       "425 0        48  1   45.6 107.2  24.4  39.0  13.8  9.77  NA   88.0  38.0 75.1\n",
       "434 0        48  1   46.8  93.3  10.0  23.2   4.3 12.41  NA   52.0  23.9 72.4\n",
       "499 0        57  1   48.4  94.4   2.5  39.6   2.3  8.84  NA   82.0   6.4 76.8\n",
       "541 1        38  0   45.0  56.3    NA  33.1   7.0  9.58 6.0   77.9  18.9 63.0\n",
       "542 1        19  0   41.0    NA  87.0  67.0  12.0  7.55 3.9   62.0  65.0 75.0\n",
       "546 1        29  0   49.0    NA  53.0  39.0  15.0  8.79 3.6   79.0  37.0 90.0\n",
       "547 1        30  0   45.0    NA  66.0  45.0  14.0 12.16 6.1   86.0  43.0 77.0\n",
       "569 2        49  0   39.0    NA 118.0  62.0  10.0  7.28 3.5   72.0  74.0 81.0\n",
       "570 2        49  0   46.0    NA 114.0  75.0  16.0 10.43 5.2   72.0  59.0 82.0\n",
       "571 2        50  0   42.0    NA 258.0 106.0  15.0  8.74 4.7   77.0  80.0 84.0\n",
       "572 2        53  0   46.0    NA  34.0  43.0  14.0  8.77 4.0  112.0 203.0 76.0\n",
       "577 2        71  0   37.0    NA 130.0  90.0  15.0  9.92 4.7   79.0  77.0 76.0\n",
       "582 2        49  1   39.0    NA  46.0  39.0   9.0 10.21 3.1   89.0  53.0 79.0\n",
       "583 2        51  1   37.0    NA 164.0  70.0   9.0  3.99 4.2   67.0  43.0 72.0\n",
       "584 2        56  1   39.0    NA  42.0  34.0  10.0  7.75 5.0   80.0  84.0 78.0\n",
       "585 2        75  1   36.0    NA 114.0 125.0  14.0  6.65  NA   57.0 177.0 72.0\n",
       "586 3        38  0   44.0    NA  94.0  60.0  12.0  4.37 3.2   61.0  99.0 77.0\n",
       "591 3        46  0   20.0    NA  62.0 113.0 254.0  1.48  NA  114.0 138.0   NA\n",
       "593 3        47  0   42.0    NA 159.0 102.0  11.0  6.29 5.5   58.0 201.0 79.0\n",
       "604 3        65  0     NA    NA  40.0  54.0  13.0  7.50  NA   70.0 107.0 79.0\n",
       "614 3        46  1   33.0    NA  39.0  62.0  20.0  3.56 4.2   52.0  50.0 71.0\n",
       "615 3        59  1   36.0    NA 100.0  80.0  12.0  9.07 5.3   67.0  34.0 68.0"
      ]
     },
     "metadata": {},
     "output_type": "display_data"
    }
   ],
   "source": [
    "#rows with atleast one null row\n",
    "HCV_df[rowSums(is.na(HCV_df)) > 0,]  "
   ]
  },
  {
   "cell_type": "code",
   "execution_count": 63,
   "id": "cf8e7beb",
   "metadata": {
    "scrolled": true
   },
   "outputs": [
    {
     "data": {
      "text/plain": [
       " Category      Age            Sex                 ALB             ALP        \n",
       " 0:540    Min.   :19.00   Length:615         Min.   :14.90   Min.   : 11.30  \n",
       " 1: 24    1st Qu.:39.00   Class :character   1st Qu.:38.80   1st Qu.: 52.50  \n",
       " 2: 21    Median :47.00   Mode  :character   Median :41.95   Median : 66.20  \n",
       " 3: 30    Mean   :47.41                      Mean   :41.62   Mean   : 68.28  \n",
       "          3rd Qu.:54.00                      3rd Qu.:45.20   3rd Qu.: 80.10  \n",
       "          Max.   :77.00                      Max.   :82.20   Max.   :416.60  \n",
       "                                             NA's   :1       NA's   :18      \n",
       "      ALT              AST              BIL             CHE        \n",
       " Min.   :  0.90   Min.   : 10.60   Min.   :  0.8   Min.   : 1.420  \n",
       " 1st Qu.: 16.40   1st Qu.: 21.60   1st Qu.:  5.3   1st Qu.: 6.935  \n",
       " Median : 23.00   Median : 25.90   Median :  7.3   Median : 8.260  \n",
       " Mean   : 28.45   Mean   : 34.79   Mean   : 11.4   Mean   : 8.197  \n",
       " 3rd Qu.: 33.08   3rd Qu.: 32.90   3rd Qu.: 11.2   3rd Qu.: 9.590  \n",
       " Max.   :325.30   Max.   :324.00   Max.   :254.0   Max.   :16.410  \n",
       " NA's   :1                                                         \n",
       "      CHOL            CREA              GGT              PROT      \n",
       " Min.   :1.430   Min.   :   8.00   Min.   :  4.50   Min.   :44.80  \n",
       " 1st Qu.:4.610   1st Qu.:  67.00   1st Qu.: 15.70   1st Qu.:69.30  \n",
       " Median :5.300   Median :  77.00   Median : 23.30   Median :72.20  \n",
       " Mean   :5.368   Mean   :  81.29   Mean   : 39.53   Mean   :72.04  \n",
       " 3rd Qu.:6.060   3rd Qu.:  88.00   3rd Qu.: 40.20   3rd Qu.:75.40  \n",
       " Max.   :9.670   Max.   :1079.10   Max.   :650.90   Max.   :90.00  \n",
       " NA's   :10                                         NA's   :1      "
      ]
     },
     "metadata": {},
     "output_type": "display_data"
    }
   ],
   "source": [
    "summary(HCV_df)"
   ]
  },
  {
   "cell_type": "code",
   "execution_count": 64,
   "id": "0ba3e505",
   "metadata": {},
   "outputs": [],
   "source": [
    "#Impute values using column medians\n",
    "library(dplyr)\n",
    "HCV_df=HCV_df %>% \n",
    "  mutate(ALT = ifelse(is.na(ALT),\n",
    "                            median(ALT, na.rm = T),\n",
    "                            ALT))\n",
    "HCV_df=HCV_df %>% \n",
    "  mutate(PROT = ifelse(is.na(PROT),\n",
    "                            median(PROT, na.rm = T),\n",
    "                            PROT))\n",
    "HCV_df=HCV_df %>% \n",
    "  mutate(CHOL = ifelse(is.na(CHOL),\n",
    "                            median(CHOL, na.rm = T),\n",
    "                            CHOL))\n",
    "HCV_df=HCV_df %>% \n",
    "  mutate(ALB = ifelse(is.na(ALB),\n",
    "                            median(ALB, na.rm = T),\n",
    "                            ALB))\n",
    "HCV_df=HCV_df %>% \n",
    "  mutate(ALP = ifelse(is.na(ALP),\n",
    "                            median(ALP, na.rm = T),\n",
    "                            ALP))"
   ]
  },
  {
   "cell_type": "code",
   "execution_count": 65,
   "id": "4fcb5c54",
   "metadata": {},
   "outputs": [
    {
     "data": {
      "text/html": [
       "<table class=\"dataframe\">\n",
       "<caption>A data.frame: 0 × 13</caption>\n",
       "<thead>\n",
       "\t<tr><th scope=col>Category</th><th scope=col>Age</th><th scope=col>Sex</th><th scope=col>ALB</th><th scope=col>ALP</th><th scope=col>ALT</th><th scope=col>AST</th><th scope=col>BIL</th><th scope=col>CHE</th><th scope=col>CHOL</th><th scope=col>CREA</th><th scope=col>GGT</th><th scope=col>PROT</th></tr>\n",
       "\t<tr><th scope=col>&lt;fct&gt;</th><th scope=col>&lt;int&gt;</th><th scope=col>&lt;chr&gt;</th><th scope=col>&lt;dbl&gt;</th><th scope=col>&lt;dbl&gt;</th><th scope=col>&lt;dbl&gt;</th><th scope=col>&lt;dbl&gt;</th><th scope=col>&lt;dbl&gt;</th><th scope=col>&lt;dbl&gt;</th><th scope=col>&lt;dbl&gt;</th><th scope=col>&lt;dbl&gt;</th><th scope=col>&lt;dbl&gt;</th><th scope=col>&lt;dbl&gt;</th></tr>\n",
       "</thead>\n",
       "<tbody>\n",
       "</tbody>\n",
       "</table>\n"
      ],
      "text/latex": [
       "A data.frame: 0 × 13\n",
       "\\begin{tabular}{lllllllllllll}\n",
       " Category & Age & Sex & ALB & ALP & ALT & AST & BIL & CHE & CHOL & CREA & GGT & PROT\\\\\n",
       " <fct> & <int> & <chr> & <dbl> & <dbl> & <dbl> & <dbl> & <dbl> & <dbl> & <dbl> & <dbl> & <dbl> & <dbl>\\\\\n",
       "\\hline\n",
       "\\end{tabular}\n"
      ],
      "text/markdown": [
       "\n",
       "A data.frame: 0 × 13\n",
       "\n",
       "| Category &lt;fct&gt; | Age &lt;int&gt; | Sex &lt;chr&gt; | ALB &lt;dbl&gt; | ALP &lt;dbl&gt; | ALT &lt;dbl&gt; | AST &lt;dbl&gt; | BIL &lt;dbl&gt; | CHE &lt;dbl&gt; | CHOL &lt;dbl&gt; | CREA &lt;dbl&gt; | GGT &lt;dbl&gt; | PROT &lt;dbl&gt; |\n",
       "|---|---|---|---|---|---|---|---|---|---|---|---|---|\n",
       "\n"
      ],
      "text/plain": [
       "     Category Age Sex ALB ALP ALT AST BIL CHE CHOL CREA GGT PROT"
      ]
     },
     "metadata": {},
     "output_type": "display_data"
    }
   ],
   "source": [
    "#Data Check: no null rows remaining\n",
    "HCV_df[rowSums(is.na(HCV_df)) > 0,]"
   ]
  },
  {
   "cell_type": "code",
   "execution_count": 66,
   "id": "1d921be0",
   "metadata": {},
   "outputs": [
    {
     "data": {
      "text/html": [
       "<table class=\"dataframe\">\n",
       "<caption>A tibble: 4 × 2</caption>\n",
       "<thead>\n",
       "\t<tr><th scope=col>Category</th><th scope=col>my_counts</th></tr>\n",
       "\t<tr><th scope=col>&lt;fct&gt;</th><th scope=col>&lt;int&gt;</th></tr>\n",
       "</thead>\n",
       "<tbody>\n",
       "\t<tr><td>0</td><td>540</td></tr>\n",
       "\t<tr><td>1</td><td> 24</td></tr>\n",
       "\t<tr><td>2</td><td> 21</td></tr>\n",
       "\t<tr><td>3</td><td> 30</td></tr>\n",
       "</tbody>\n",
       "</table>\n"
      ],
      "text/latex": [
       "A tibble: 4 × 2\n",
       "\\begin{tabular}{ll}\n",
       " Category & my\\_counts\\\\\n",
       " <fct> & <int>\\\\\n",
       "\\hline\n",
       "\t 0 & 540\\\\\n",
       "\t 1 &  24\\\\\n",
       "\t 2 &  21\\\\\n",
       "\t 3 &  30\\\\\n",
       "\\end{tabular}\n"
      ],
      "text/markdown": [
       "\n",
       "A tibble: 4 × 2\n",
       "\n",
       "| Category &lt;fct&gt; | my_counts &lt;int&gt; |\n",
       "|---|---|\n",
       "| 0 | 540 |\n",
       "| 1 |  24 |\n",
       "| 2 |  21 |\n",
       "| 3 |  30 |\n",
       "\n"
      ],
      "text/plain": [
       "  Category my_counts\n",
       "1 0        540      \n",
       "2 1         24      \n",
       "3 2         21      \n",
       "4 3         30      "
      ]
     },
     "metadata": {},
     "output_type": "display_data"
    }
   ],
   "source": [
    "#Distribution of classes in the datset\n",
    "library(dplyr)\n",
    "HCV_df %>%  group_by(Category) %>% summarise(my_counts = n())"
   ]
  },
  {
   "cell_type": "code",
   "execution_count": 67,
   "id": "57a76416",
   "metadata": {},
   "outputs": [],
   "source": [
    "#Split the data into the training and test data with the same proportion classes as in the original data\n",
    "library(caret)\n",
    "set.seed(3456)\n",
    "trainIndex <- createDataPartition(HCV_df$Category, p = .7,\n",
    "                                  list = FALSE,\n",
    "                                  times = 1)\n",
    "Train <- HCV_df[ trainIndex,]\n",
    "Test <- HCV_df[-trainIndex,]"
   ]
  },
  {
   "cell_type": "code",
   "execution_count": 68,
   "id": "98c6bee4",
   "metadata": {},
   "outputs": [
    {
     "data": {
      "text/html": [
       "<table class=\"dataframe\">\n",
       "<caption>A tibble: 4 × 2</caption>\n",
       "<thead>\n",
       "\t<tr><th scope=col>Category</th><th scope=col>my_counts</th></tr>\n",
       "\t<tr><th scope=col>&lt;fct&gt;</th><th scope=col>&lt;int&gt;</th></tr>\n",
       "</thead>\n",
       "<tbody>\n",
       "\t<tr><td>0</td><td>378</td></tr>\n",
       "\t<tr><td>1</td><td> 17</td></tr>\n",
       "\t<tr><td>2</td><td> 15</td></tr>\n",
       "\t<tr><td>3</td><td> 21</td></tr>\n",
       "</tbody>\n",
       "</table>\n"
      ],
      "text/latex": [
       "A tibble: 4 × 2\n",
       "\\begin{tabular}{ll}\n",
       " Category & my\\_counts\\\\\n",
       " <fct> & <int>\\\\\n",
       "\\hline\n",
       "\t 0 & 378\\\\\n",
       "\t 1 &  17\\\\\n",
       "\t 2 &  15\\\\\n",
       "\t 3 &  21\\\\\n",
       "\\end{tabular}\n"
      ],
      "text/markdown": [
       "\n",
       "A tibble: 4 × 2\n",
       "\n",
       "| Category &lt;fct&gt; | my_counts &lt;int&gt; |\n",
       "|---|---|\n",
       "| 0 | 378 |\n",
       "| 1 |  17 |\n",
       "| 2 |  15 |\n",
       "| 3 |  21 |\n",
       "\n"
      ],
      "text/plain": [
       "  Category my_counts\n",
       "1 0        378      \n",
       "2 1         17      \n",
       "3 2         15      \n",
       "4 3         21      "
      ]
     },
     "metadata": {},
     "output_type": "display_data"
    },
    {
     "data": {
      "text/html": [
       "<table class=\"dataframe\">\n",
       "<caption>A tibble: 4 × 2</caption>\n",
       "<thead>\n",
       "\t<tr><th scope=col>Category</th><th scope=col>my_counts</th></tr>\n",
       "\t<tr><th scope=col>&lt;fct&gt;</th><th scope=col>&lt;int&gt;</th></tr>\n",
       "</thead>\n",
       "<tbody>\n",
       "\t<tr><td>0</td><td>162</td></tr>\n",
       "\t<tr><td>1</td><td>  7</td></tr>\n",
       "\t<tr><td>2</td><td>  6</td></tr>\n",
       "\t<tr><td>3</td><td>  9</td></tr>\n",
       "</tbody>\n",
       "</table>\n"
      ],
      "text/latex": [
       "A tibble: 4 × 2\n",
       "\\begin{tabular}{ll}\n",
       " Category & my\\_counts\\\\\n",
       " <fct> & <int>\\\\\n",
       "\\hline\n",
       "\t 0 & 162\\\\\n",
       "\t 1 &   7\\\\\n",
       "\t 2 &   6\\\\\n",
       "\t 3 &   9\\\\\n",
       "\\end{tabular}\n"
      ],
      "text/markdown": [
       "\n",
       "A tibble: 4 × 2\n",
       "\n",
       "| Category &lt;fct&gt; | my_counts &lt;int&gt; |\n",
       "|---|---|\n",
       "| 0 | 162 |\n",
       "| 1 |   7 |\n",
       "| 2 |   6 |\n",
       "| 3 |   9 |\n",
       "\n"
      ],
      "text/plain": [
       "  Category my_counts\n",
       "1 0        162      \n",
       "2 1          7      \n",
       "3 2          6      \n",
       "4 3          9      "
      ]
     },
     "metadata": {},
     "output_type": "display_data"
    }
   ],
   "source": [
    "#Data Check: Proportions are maintained within the splits\n",
    "library(dplyr)\n",
    "Train %>%  group_by(Category) %>% summarise(my_counts = n())\n",
    "\n",
    "library(dplyr)\n",
    "Test %>%  group_by(Category) %>% summarise(my_counts = n())"
   ]
  },
  {
   "cell_type": "code",
   "execution_count": 69,
   "id": "867c1163",
   "metadata": {},
   "outputs": [],
   "source": [
    "#Convert to train_x, train_y, test_x, test_y\n",
    "train_labels=Train[[\"Category\"]]\n",
    "test_labels=Test[['Category']]\n",
    "train_x=Train %>% select(-starts_with('Category'))\n",
    "test_x=Test %>% select(-starts_with('Category'))"
   ]
  },
  {
   "cell_type": "code",
   "execution_count": 70,
   "id": "f44099fb",
   "metadata": {},
   "outputs": [],
   "source": [
    "#store as matrix form\n",
    "train_labels = as.matrix(train_labels)\n",
    "test_labels = as.matrix(test_labels)\n",
    "train_x=as.matrix(train_x)\n",
    "test_x=as.matrix(test_x)"
   ]
  },
  {
   "cell_type": "code",
   "execution_count": 71,
   "id": "21b8bbb9",
   "metadata": {},
   "outputs": [],
   "source": [
    "#Export to csvs\n",
    "write.csv(train_labels,\"/Users/shreya/Desktop/STAT 503/train_labels.csv\", row.names = FALSE)\n",
    "write.csv(test_labels,\"/Users/shreya/Desktop/STAT 503/test_labels.csv\", row.names = FALSE)\n",
    "write.csv(train_x,\"/Users/shreya/Desktop/STAT 503/train_x.csv\", row.names = FALSE)\n",
    "write.csv(test_x,\"/Users/shreya/Desktop/STAT 503/test_x.csv\", row.names = FALSE)"
   ]
  }
 ],
 "metadata": {
  "kernelspec": {
   "display_name": "R",
   "language": "R",
   "name": "ir"
  },
  "language_info": {
   "codemirror_mode": "r",
   "file_extension": ".r",
   "mimetype": "text/x-r-source",
   "name": "R",
   "pygments_lexer": "r",
   "version": "4.0.2"
  }
 },
 "nbformat": 4,
 "nbformat_minor": 5
}
